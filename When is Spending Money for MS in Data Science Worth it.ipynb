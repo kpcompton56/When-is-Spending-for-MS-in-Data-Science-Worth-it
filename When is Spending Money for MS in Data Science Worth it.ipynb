{
 "cells": [
  {
   "cell_type": "code",
   "execution_count": 26,
   "metadata": {
    "tags": [
     "hide-input"
    ]
   },
   "outputs": [
    {
     "data": {
      "text/html": [
       "        <script type=\"text/javascript\">\n",
       "        window.PlotlyConfig = {MathJaxConfig: 'local'};\n",
       "        if (window.MathJax) {MathJax.Hub.Config({SVG: {font: \"STIX-Web\"}});}\n",
       "        if (typeof require !== 'undefined') {\n",
       "        require.undef(\"plotly\");\n",
       "        requirejs.config({\n",
       "            paths: {\n",
       "                'plotly': ['https://cdn.plot.ly/plotly-latest.min']\n",
       "            }\n",
       "        });\n",
       "        require(['plotly'], function(Plotly) {\n",
       "            window._Plotly = Plotly;\n",
       "        });\n",
       "        }\n",
       "        </script>\n",
       "        "
      ]
     },
     "metadata": {},
     "output_type": "display_data"
    },
    {
     "data": {
      "text/html": [
       "<script>\n",
       "code_show=true; \n",
       "function code_toggle() {\n",
       "    if (code_show){\n",
       "        $('div.cell.code_cell.rendered.selected div.input').hide();\n",
       "    } else {\n",
       "        $('div.cell.code_cell.rendered.selected div.input').show();\n",
       "    }\n",
       "    code_show = !code_show\n",
       "} \n",
       "$( document ).ready(code_toggle);\n",
       "</script>\n",
       "When viewing on Jupyter NBViewer, click the top right < / > button to show/hide code cells. When viewing in a locally hosted notebook, use buttons like this one.\n",
       "<a href=\"javascript:code_toggle()\">show/hide libraries imported</a>"
      ],
      "text/plain": [
       "<IPython.core.display.HTML object>"
      ]
     },
     "metadata": {},
     "output_type": "display_data"
    }
   ],
   "source": [
    "#libraries to load\n",
    "\n",
    "import math\n",
    "import pandas as pd\n",
    "import numpy as np\n",
    "import seaborn as sns\n",
    "import plotly\n",
    "import plotly.graph_objs as go\n",
    "import matplotlib.pyplot as plt\n",
    "from plotly.offline import init_notebook_mode, plot, iplot\n",
    "from plotly.subplots import make_subplots\n",
    "from plotly import tools\n",
    "from IPython.display import display, HTML\n",
    "import cufflinks as cf\n",
    "\n",
    "import warnings\n",
    "warnings.filterwarnings(\"ignore\", category=FutureWarning)\n",
    "warnings.filterwarnings(\"ignore\", category=DeprecationWarning)\n",
    "warnings.filterwarnings(\"ignore\", category=UserWarning)\n",
    "\n",
    "from sklearn.model_selection import train_test_split\n",
    "\n",
    "init_notebook_mode(connected=True)\n",
    "\n",
    "# show/hide functionality from https://stackoverflow.com/questions/31517194/how-to-hide-one-specific-cell-input-or-output-in-ipython-notebook\n",
    "tag = HTML('''<script>\n",
    "code_show=true; \n",
    "function code_toggle() {\n",
    "    if (code_show){\n",
    "        $('div.cell.code_cell.rendered.selected div.input').hide();\n",
    "    } else {\n",
    "        $('div.cell.code_cell.rendered.selected div.input').show();\n",
    "    }\n",
    "    code_show = !code_show\n",
    "} \n",
    "$( document ).ready(code_toggle);\n",
    "</script>\n",
    "When viewing on Jupyter NBViewer, click the top right < / > button to show/hide code cells. When viewing in a locally hosted notebook, use buttons like this one.\n",
    "<a href=\"javascript:code_toggle()\">show/hide libraries imported</a>''')\n",
    "display(tag)"
   ]
  },
  {
   "cell_type": "markdown",
   "metadata": {},
   "source": [
    "[//]: # (Title)\n",
    "\n",
    "<div align='center'><font size=\"6\" color='#088a5a'>When is Spending \\$\\$\\$ for MS in Data Science Worth it?</font></div>\n",
    "<div align='center'><font size=\"4\" color=\"#088a5a\">An exploratory data analysis prompted by the '2019 Kaggle ML & DS Survey' 5th-place prize winner, 'Is Spending $$$ for MS in Data Science worth it ?'</font></div>\n",
    "<hr>"
   ]
  },
  {
   "cell_type": "markdown",
   "metadata": {},
   "source": [
    "[//]: # (Introduction and screengrab)\n",
    "\n",
    "<p>\n",
    "    &emsp;&emsp;&emsp;Hello, world! My name is Kyle Compton, and I like many others am answering the call of the 21st century gold rush: data science. Six months ago, after the global covid-19 pandemic turned my economic modeling/business development job into a glorified telemarketing gig, I decided to drop out of the labor market for a little while to redevelop the mathematical and statistical skills I'd worked so hard to develop during undergrad, and try my hand in the world of technology. I explored web development and programming through Harvard's CS50x course, where I ultimately built an app I use every day to support my workouts. After some reflection though I felt that didn't involve enough of the math and stats that I enjoyed practicing in undergrad, which inevitably led me to discover the combination of business skills, programming, and math/stats that I've been looking for: data science. Preliminary investigation led me to believe that if not an outright requirement there's at least a strong preference for data scientists to have advanced degrees, and so unless I hear back from one of my reach schools, I'll be taking courses towards an MS in Data Science online from Johns Hopkins University starting this spring.\n",
    "</p>\n",
    "\n",
    "<p>\n",
    "    &emsp;&emsp;&emsp;This background is helpful to understand that I've now been looking for an interesting project with which I could begin building a data science portfolio, and when I happened upon a <a href=\"https://www.kaggle.com/shivamb/spending-for-ms-in-data-science-worth-it/\">notebook from a Kaggle competition</a> drawing conclusions that went very immediately against my current learning plan, I knew I had my subject. The author was a Kaggle notebooks grandmaster, this notebook had won 5th prize in last year's '2019 Kaggle ML & DS Survey' competition, and the conclusions were effectively that one didn't need an MS to become a Data Scientist, and so I had to explore the data myself.\n",
    "</p>\n",
    "<img src='https://techandkyle.com/Kaggle_Notebook_Response_Screengrab.png' width=700>\n",
    "<p>\n",
    "    &emsp;&emsp;&emsp;If the conclusions in the notebook were right, then I could be on the verge of spending a whole lot of money and time for a formal education I might not need in order to improve my opportunity and expected future earnings. If I listened to the conclusions and they turned out to be falsely negative, however, I would have to wait another whole year for the grad school application process to resume while passing my time building skills informally. Having been curious which of these categories his conclusions fell under, and having been curious how far the skills I've been developing taking <a href=\"https://www.udemy.com/course/python-for-data-science-and-machine-learning-bootcamp/\">Jose Portilla's 'Python for Data Science and Machine Learning Bootcamp' on Udemy</a> could take me in investigating his claims myself, I present my own exploratory data analysis of this survey and elaborate on some of the conclusions drawn by the author.\n",
    "</p>\n",
    "<br>\n",
    "<p>\n",
    "    <b><font size=4>Spoiler alert: Spending $ for an MS in data science is not always worth it.</font></b>\n",
    "</p>"
   ]
  },
  {
   "cell_type": "markdown",
   "metadata": {},
   "source": [
    "[//]: # (table of contents)\n",
    "\n",
    "<font color='#088a5a' size=6>Contents</font><br>\n",
    "<br>\n",
    "<font size=3>\n",
    "<a style=\"text-decoration:none;\" href=\"#1\">1. Summarizing the author's arguments</a><br>\n",
    "&nbsp; &nbsp; &nbsp; &nbsp; <a style=\"text-decoration:none;\" href=\"#2\">Data science degrees are the same bang for more buck</a><br>\n",
    "&nbsp; &nbsp; &nbsp; &nbsp; <a style=\"text-decoration:none;\" href=\"#3\">Most data scientists didn't get a degree in data science</a><br>\n",
    "&nbsp; &nbsp; &nbsp; &nbsp; <a style=\"text-decoration:none;\" href=\"#4\">Data science degrees don't yield greater compensation</a><br>\n",
    "<a style=\"text-decoration:none;\" href=\"#5\">2. Where the author was right: advanced degrees don't earn data scientists higher compensation </a><br>\n",
    "&nbsp; &nbsp; &nbsp; &nbsp; <a style=\"text-decoration:none;\" href=\"#6\">Compensation of data scientists by educational attainment</a><br>\n",
    "&nbsp; &nbsp; &nbsp; &nbsp; <a style=\"text-decoration:none;\" href=\"#7\">The premium disappears when controlling for experience</a><br>\n",
    "&nbsp; &nbsp; &nbsp; &nbsp; <a style=\"text-decoration:none;\" href=\"#8\">Examining potential outliers affecting average compensation by education/experience</a><br>\n",
    "&nbsp; &nbsp; &nbsp; &nbsp; <a style=\"text-decoration:none;\" href=\"#9\">Confirmed: negative premium on an MS in data science</a><br>\n",
    "<a style=\"text-decoration:none;\" href=\"#10\">3. Where the author was wrong: advanced degrees make data scientists competitive</a><br>\n",
    "&nbsp; &nbsp; &nbsp; &nbsp; <a style=\"text-decoration:none;\" href=\"#11\">We can't assume the historic distribution of in-school data science education moving forward</a><br>\n",
    "&nbsp; &nbsp; &nbsp; &nbsp; <a style=\"text-decoration:none;\" href=\"#12\">The actual educational attainment of data scientists</a><br>\n",
    "&nbsp; &nbsp; &nbsp; &nbsp; <a style=\"text-decoration:none;\" href=\"#13\">Educational Credentials as a Means of Screening Candidates, with Exceptions</a><br>\n",
    "<a style=\"text-decoration:none;\" href=\"#14\">4. Conclusions</a><br>\n",
    "<a style=\"text-decoration:none;\" href=\"#15\">5. References</a>\n",
    "</font>"
   ]
  },
  {
   "cell_type": "markdown",
   "metadata": {},
   "source": [
    "[//]: # (Summarizing the Author's Arguments; Data science degrees are the same bang for more buck)\n",
    "\n",
    "<div id=\"1\"></div>\n",
    "<font color='#088a5a' size=6>1. Summarizing the author's arguments</font><br>\n",
    "\n",
    "<p>\n",
    "    &emsp;&emsp;&emsp;Data science is one of the hottest roles in the 21st century, <a href=\"https://www.glassdoor.com/List/Best-Jobs-in-America-LST_KQ0,20.htm\">being rated the best job in the US for 3 straight years by Glassdoor </a>and offering the opportunity of a very lucrative salary for those that are able to get their foot in the door. On top of that, there's a severe shortage of data scientists in the labor market, making it a seller's market for anybody able to represent themselves successfully as a data scientist. <a href=\"https://searchbusinessanalytics.techtarget.com/feature/Demand-for-data-scientists-is-booming-and-will-increase\">\"Demand for data science skills is growing exponentially, according to job sites. The supply of skilled applicants, however, is growing at a slower pace,\"</a> according to Brian Holak at TechTarget.\n",
    "</p>\n",
    "<p>\n",
    "    &emsp;&emsp;&emsp;The question that the author, myself, the college admissions officers I'm hoping to wow, and most everybody else would naturally be interested in answering, then, is this: <b>\"does one need to get that expensive higher education degree\" </b>to get a job in data science? <b>\"is it possible to get the same skills, same profile, or even better compensation without such degrees?\"</b> The author's main conclusions are outlined in the sections that follow.\n",
    "</p><br>\n",
    "\n",
    "<div id=\"2\"></div>\n",
    "<font color='#088a5a' size=4><b>Data science degrees are the same bang for more buck</b></font>\n",
    "\n",
    "<br>\n",
    "\n",
    "<p>    \n",
    "    &emsp;&emsp;&emsp;Conventional wisdom dictates that earning an advanced degree will build one's skills and provide one with access to higher paying opportunities. However, the author notes that these degrees can be expensive (as seen in Figure 1), they can be difficult to be accepted for, and they require a significant amount of time to complete (as seen in Figure 2). If the goal is exclusively to build skills and opportunity, he proposes that the lower-cost, shorter turn-around time online resources like those on Coursera, Udemy, etc. might be a better option.\n",
    "</p>"
   ]
  },
  {
   "cell_type": "code",
   "execution_count": 9,
   "metadata": {},
   "outputs": [
    {
     "data": {
      "text/html": [
       "<script>\n",
       "code_show=true; \n",
       "function code_toggle() {\n",
       "    if (code_show){\n",
       "        $('div.cell.code_cell.rendered.selected div.input').hide();\n",
       "    } else {\n",
       "        $('div.cell.code_cell.rendered.selected div.input').show();\n",
       "    }\n",
       "    code_show = !code_show\n",
       "} \n",
       "$( document ).ready(code_toggle);\n",
       "</script>\n",
       "<a href=\"javascript:code_toggle()\">show/hide author's derivation of charts</a>"
      ],
      "text/plain": [
       "<IPython.core.display.HTML object>"
      ]
     },
     "metadata": {},
     "output_type": "display_data"
    },
    {
     "data": {
      "application/vnd.plotly.v1+json": {
       "config": {
        "plotlyServerURL": "https://plot.ly"
       },
       "data": [
        {
         "marker": {
          "color": "orange",
          "opacity": 0.5
         },
         "name": "Tution Fee",
         "orientation": "v",
         "type": "bar",
         "x": [
          "CMU Tepper",
          "UC Berkeley",
          "Georgia Tech",
          "Illinois-Urbana",
          "South California",
          "Wisconsin",
          "Boston Metropolitan",
          "Johns Hopkins",
          "Pennsylvania State",
          "Northwestern SPS",
          "Rutgers",
          "UCD Dublin",
          "Texas A&M",
          "Arizona State",
          "Northeastern",
          "Ohio",
          "Rice",
          "Indiana Bloomington",
          "Notre Dame",
          "IIT Chicago",
          "Syracuse",
          "California Riverside",
          "Iowa State",
          "Oregon State",
          "Missouri",
          "CUNY SPS",
          "American",
          "Oklahoma",
          "Colorado",
          "Oklahoma State",
          "Baker College",
          "Bay Path",
          "Bellevue",
          "Blanchardstown",
          "Capella",
          "Central Connecticut",
          "Colorado Technical",
          "DePaul",
          "DS TechInstitute",
          "Dakota State",
          "Elmhurst College",
          "Full Sail",
          "La Salle",
          "Lewis",
          "Maryville St. Louis",
          "Phoenix",
          "Regis",
          "Saint Mary's College",
          "South Dakota State",
          "Saint Joseph's",
          "Southern Methodist",
          "Southern New Hampshire",
          "Slippery Rock",
          "Alabama Huntsville",
          "Maryland College",
          "Villanova",
          "West Virginia",
          "Northcentral",
          "Edinburgh Napier",
          "Drexel",
          "Merrimack College",
          "Varna Free",
          "Johnson & Wales",
          "Kent State"
         ],
         "y": [
          67575,
          66150,
          9900,
          19200,
          55886,
          30600,
          34400,
          53740,
          29250,
          53148,
          23136,
          7575,
          65000,
          39622,
          34200,
          35250,
          129000,
          15172,
          48000,
          30985,
          54000,
          24990,
          24000,
          23445,
          34000,
          13200,
          54186,
          26103,
          39450,
          33990,
          17100,
          29340,
          20700,
          2320,
          33360,
          21681,
          28080,
          43160,
          7900,
          13320,
          25350,
          28008,
          26250,
          26235,
          22950,
          29316,
          25560,
          31946,
          13320,
          17520,
          57084,
          22572,
          16269,
          21810,
          24984,
          43400,
          30690,
          30530,
          9060,
          56925,
          28320,
          5391,
          23744,
          21524
         ]
        },
        {
         "line": {
          "dash": "dash"
         },
         "marker": {
          "color": "red"
         },
         "mode": "lines",
         "name": "Median Household Income",
         "type": "scatter",
         "x": [
          "CMU Tepper",
          "UC Berkeley",
          "Georgia Tech",
          "Illinois-Urbana",
          "South California",
          "Wisconsin",
          "Boston Metropolitan",
          "Johns Hopkins",
          "Pennsylvania State",
          "Northwestern SPS",
          "Rutgers",
          "UCD Dublin",
          "Texas A&M",
          "Arizona State",
          "Northeastern",
          "Ohio",
          "Rice",
          "Indiana Bloomington",
          "Notre Dame",
          "IIT Chicago",
          "Syracuse",
          "California Riverside",
          "Iowa State",
          "Oregon State",
          "Missouri",
          "CUNY SPS",
          "American",
          "Oklahoma",
          "Colorado",
          "Oklahoma State",
          "Baker College",
          "Bay Path",
          "Bellevue",
          "Blanchardstown",
          "Capella",
          "Central Connecticut",
          "Colorado Technical",
          "DePaul",
          "DS TechInstitute",
          "Dakota State",
          "Elmhurst College",
          "Full Sail",
          "La Salle",
          "Lewis",
          "Maryville St. Louis",
          "Phoenix",
          "Regis",
          "Saint Mary's College",
          "South Dakota State",
          "Saint Joseph's",
          "Southern Methodist",
          "Southern New Hampshire",
          "Slippery Rock",
          "Alabama Huntsville",
          "Maryland College",
          "Villanova",
          "West Virginia",
          "Northcentral",
          "Edinburgh Napier",
          "Drexel",
          "Merrimack College",
          "Varna Free",
          "Johnson & Wales",
          "Kent State"
         ],
         "y": [
          59000,
          59000,
          59000,
          59000,
          59000,
          59000,
          59000,
          59000,
          59000,
          59000,
          59000,
          59000,
          59000,
          59000,
          59000,
          59000,
          59000,
          59000,
          59000,
          59000,
          59000,
          59000,
          59000,
          59000,
          59000,
          59000,
          59000,
          59000,
          59000,
          59000,
          59000,
          59000,
          59000,
          59000,
          59000,
          59000,
          59000,
          59000,
          59000,
          59000,
          59000,
          59000,
          59000,
          59000,
          59000,
          59000,
          59000,
          59000,
          59000,
          59000,
          59000,
          59000,
          59000,
          59000,
          59000,
          59000,
          59000,
          59000,
          59000,
          59000,
          59000,
          59000,
          59000,
          59000
         ]
        }
       ],
       "layout": {
        "height": 450,
        "legend": {
         "orientation": "h",
         "x": 0.1,
         "y": 1.1
        },
        "paper_bgcolor": "#fff",
        "plot_bgcolor": "#fff",
        "template": {
         "data": {
          "bar": [
           {
            "error_x": {
             "color": "#2a3f5f"
            },
            "error_y": {
             "color": "#2a3f5f"
            },
            "marker": {
             "line": {
              "color": "#E5ECF6",
              "width": 0.5
             }
            },
            "type": "bar"
           }
          ],
          "barpolar": [
           {
            "marker": {
             "line": {
              "color": "#E5ECF6",
              "width": 0.5
             }
            },
            "type": "barpolar"
           }
          ],
          "carpet": [
           {
            "aaxis": {
             "endlinecolor": "#2a3f5f",
             "gridcolor": "white",
             "linecolor": "white",
             "minorgridcolor": "white",
             "startlinecolor": "#2a3f5f"
            },
            "baxis": {
             "endlinecolor": "#2a3f5f",
             "gridcolor": "white",
             "linecolor": "white",
             "minorgridcolor": "white",
             "startlinecolor": "#2a3f5f"
            },
            "type": "carpet"
           }
          ],
          "choropleth": [
           {
            "colorbar": {
             "outlinewidth": 0,
             "ticks": ""
            },
            "type": "choropleth"
           }
          ],
          "contour": [
           {
            "colorbar": {
             "outlinewidth": 0,
             "ticks": ""
            },
            "colorscale": [
             [
              0,
              "#0d0887"
             ],
             [
              0.1111111111111111,
              "#46039f"
             ],
             [
              0.2222222222222222,
              "#7201a8"
             ],
             [
              0.3333333333333333,
              "#9c179e"
             ],
             [
              0.4444444444444444,
              "#bd3786"
             ],
             [
              0.5555555555555556,
              "#d8576b"
             ],
             [
              0.6666666666666666,
              "#ed7953"
             ],
             [
              0.7777777777777778,
              "#fb9f3a"
             ],
             [
              0.8888888888888888,
              "#fdca26"
             ],
             [
              1,
              "#f0f921"
             ]
            ],
            "type": "contour"
           }
          ],
          "contourcarpet": [
           {
            "colorbar": {
             "outlinewidth": 0,
             "ticks": ""
            },
            "type": "contourcarpet"
           }
          ],
          "heatmap": [
           {
            "colorbar": {
             "outlinewidth": 0,
             "ticks": ""
            },
            "colorscale": [
             [
              0,
              "#0d0887"
             ],
             [
              0.1111111111111111,
              "#46039f"
             ],
             [
              0.2222222222222222,
              "#7201a8"
             ],
             [
              0.3333333333333333,
              "#9c179e"
             ],
             [
              0.4444444444444444,
              "#bd3786"
             ],
             [
              0.5555555555555556,
              "#d8576b"
             ],
             [
              0.6666666666666666,
              "#ed7953"
             ],
             [
              0.7777777777777778,
              "#fb9f3a"
             ],
             [
              0.8888888888888888,
              "#fdca26"
             ],
             [
              1,
              "#f0f921"
             ]
            ],
            "type": "heatmap"
           }
          ],
          "heatmapgl": [
           {
            "colorbar": {
             "outlinewidth": 0,
             "ticks": ""
            },
            "colorscale": [
             [
              0,
              "#0d0887"
             ],
             [
              0.1111111111111111,
              "#46039f"
             ],
             [
              0.2222222222222222,
              "#7201a8"
             ],
             [
              0.3333333333333333,
              "#9c179e"
             ],
             [
              0.4444444444444444,
              "#bd3786"
             ],
             [
              0.5555555555555556,
              "#d8576b"
             ],
             [
              0.6666666666666666,
              "#ed7953"
             ],
             [
              0.7777777777777778,
              "#fb9f3a"
             ],
             [
              0.8888888888888888,
              "#fdca26"
             ],
             [
              1,
              "#f0f921"
             ]
            ],
            "type": "heatmapgl"
           }
          ],
          "histogram": [
           {
            "marker": {
             "colorbar": {
              "outlinewidth": 0,
              "ticks": ""
             }
            },
            "type": "histogram"
           }
          ],
          "histogram2d": [
           {
            "colorbar": {
             "outlinewidth": 0,
             "ticks": ""
            },
            "colorscale": [
             [
              0,
              "#0d0887"
             ],
             [
              0.1111111111111111,
              "#46039f"
             ],
             [
              0.2222222222222222,
              "#7201a8"
             ],
             [
              0.3333333333333333,
              "#9c179e"
             ],
             [
              0.4444444444444444,
              "#bd3786"
             ],
             [
              0.5555555555555556,
              "#d8576b"
             ],
             [
              0.6666666666666666,
              "#ed7953"
             ],
             [
              0.7777777777777778,
              "#fb9f3a"
             ],
             [
              0.8888888888888888,
              "#fdca26"
             ],
             [
              1,
              "#f0f921"
             ]
            ],
            "type": "histogram2d"
           }
          ],
          "histogram2dcontour": [
           {
            "colorbar": {
             "outlinewidth": 0,
             "ticks": ""
            },
            "colorscale": [
             [
              0,
              "#0d0887"
             ],
             [
              0.1111111111111111,
              "#46039f"
             ],
             [
              0.2222222222222222,
              "#7201a8"
             ],
             [
              0.3333333333333333,
              "#9c179e"
             ],
             [
              0.4444444444444444,
              "#bd3786"
             ],
             [
              0.5555555555555556,
              "#d8576b"
             ],
             [
              0.6666666666666666,
              "#ed7953"
             ],
             [
              0.7777777777777778,
              "#fb9f3a"
             ],
             [
              0.8888888888888888,
              "#fdca26"
             ],
             [
              1,
              "#f0f921"
             ]
            ],
            "type": "histogram2dcontour"
           }
          ],
          "mesh3d": [
           {
            "colorbar": {
             "outlinewidth": 0,
             "ticks": ""
            },
            "type": "mesh3d"
           }
          ],
          "parcoords": [
           {
            "line": {
             "colorbar": {
              "outlinewidth": 0,
              "ticks": ""
             }
            },
            "type": "parcoords"
           }
          ],
          "pie": [
           {
            "automargin": true,
            "type": "pie"
           }
          ],
          "scatter": [
           {
            "marker": {
             "colorbar": {
              "outlinewidth": 0,
              "ticks": ""
             }
            },
            "type": "scatter"
           }
          ],
          "scatter3d": [
           {
            "line": {
             "colorbar": {
              "outlinewidth": 0,
              "ticks": ""
             }
            },
            "marker": {
             "colorbar": {
              "outlinewidth": 0,
              "ticks": ""
             }
            },
            "type": "scatter3d"
           }
          ],
          "scattercarpet": [
           {
            "marker": {
             "colorbar": {
              "outlinewidth": 0,
              "ticks": ""
             }
            },
            "type": "scattercarpet"
           }
          ],
          "scattergeo": [
           {
            "marker": {
             "colorbar": {
              "outlinewidth": 0,
              "ticks": ""
             }
            },
            "type": "scattergeo"
           }
          ],
          "scattergl": [
           {
            "marker": {
             "colorbar": {
              "outlinewidth": 0,
              "ticks": ""
             }
            },
            "type": "scattergl"
           }
          ],
          "scattermapbox": [
           {
            "marker": {
             "colorbar": {
              "outlinewidth": 0,
              "ticks": ""
             }
            },
            "type": "scattermapbox"
           }
          ],
          "scatterpolar": [
           {
            "marker": {
             "colorbar": {
              "outlinewidth": 0,
              "ticks": ""
             }
            },
            "type": "scatterpolar"
           }
          ],
          "scatterpolargl": [
           {
            "marker": {
             "colorbar": {
              "outlinewidth": 0,
              "ticks": ""
             }
            },
            "type": "scatterpolargl"
           }
          ],
          "scatterternary": [
           {
            "marker": {
             "colorbar": {
              "outlinewidth": 0,
              "ticks": ""
             }
            },
            "type": "scatterternary"
           }
          ],
          "surface": [
           {
            "colorbar": {
             "outlinewidth": 0,
             "ticks": ""
            },
            "colorscale": [
             [
              0,
              "#0d0887"
             ],
             [
              0.1111111111111111,
              "#46039f"
             ],
             [
              0.2222222222222222,
              "#7201a8"
             ],
             [
              0.3333333333333333,
              "#9c179e"
             ],
             [
              0.4444444444444444,
              "#bd3786"
             ],
             [
              0.5555555555555556,
              "#d8576b"
             ],
             [
              0.6666666666666666,
              "#ed7953"
             ],
             [
              0.7777777777777778,
              "#fb9f3a"
             ],
             [
              0.8888888888888888,
              "#fdca26"
             ],
             [
              1,
              "#f0f921"
             ]
            ],
            "type": "surface"
           }
          ],
          "table": [
           {
            "cells": {
             "fill": {
              "color": "#EBF0F8"
             },
             "line": {
              "color": "white"
             }
            },
            "header": {
             "fill": {
              "color": "#C8D4E3"
             },
             "line": {
              "color": "white"
             }
            },
            "type": "table"
           }
          ]
         },
         "layout": {
          "annotationdefaults": {
           "arrowcolor": "#2a3f5f",
           "arrowhead": 0,
           "arrowwidth": 1
          },
          "coloraxis": {
           "colorbar": {
            "outlinewidth": 0,
            "ticks": ""
           }
          },
          "colorscale": {
           "diverging": [
            [
             0,
             "#8e0152"
            ],
            [
             0.1,
             "#c51b7d"
            ],
            [
             0.2,
             "#de77ae"
            ],
            [
             0.3,
             "#f1b6da"
            ],
            [
             0.4,
             "#fde0ef"
            ],
            [
             0.5,
             "#f7f7f7"
            ],
            [
             0.6,
             "#e6f5d0"
            ],
            [
             0.7,
             "#b8e186"
            ],
            [
             0.8,
             "#7fbc41"
            ],
            [
             0.9,
             "#4d9221"
            ],
            [
             1,
             "#276419"
            ]
           ],
           "sequential": [
            [
             0,
             "#0d0887"
            ],
            [
             0.1111111111111111,
             "#46039f"
            ],
            [
             0.2222222222222222,
             "#7201a8"
            ],
            [
             0.3333333333333333,
             "#9c179e"
            ],
            [
             0.4444444444444444,
             "#bd3786"
            ],
            [
             0.5555555555555556,
             "#d8576b"
            ],
            [
             0.6666666666666666,
             "#ed7953"
            ],
            [
             0.7777777777777778,
             "#fb9f3a"
            ],
            [
             0.8888888888888888,
             "#fdca26"
            ],
            [
             1,
             "#f0f921"
            ]
           ],
           "sequentialminus": [
            [
             0,
             "#0d0887"
            ],
            [
             0.1111111111111111,
             "#46039f"
            ],
            [
             0.2222222222222222,
             "#7201a8"
            ],
            [
             0.3333333333333333,
             "#9c179e"
            ],
            [
             0.4444444444444444,
             "#bd3786"
            ],
            [
             0.5555555555555556,
             "#d8576b"
            ],
            [
             0.6666666666666666,
             "#ed7953"
            ],
            [
             0.7777777777777778,
             "#fb9f3a"
            ],
            [
             0.8888888888888888,
             "#fdca26"
            ],
            [
             1,
             "#f0f921"
            ]
           ]
          },
          "colorway": [
           "#636efa",
           "#EF553B",
           "#00cc96",
           "#ab63fa",
           "#FFA15A",
           "#19d3f3",
           "#FF6692",
           "#B6E880",
           "#FF97FF",
           "#FECB52"
          ],
          "font": {
           "color": "#2a3f5f"
          },
          "geo": {
           "bgcolor": "white",
           "lakecolor": "white",
           "landcolor": "#E5ECF6",
           "showlakes": true,
           "showland": true,
           "subunitcolor": "white"
          },
          "hoverlabel": {
           "align": "left"
          },
          "hovermode": "closest",
          "mapbox": {
           "style": "light"
          },
          "paper_bgcolor": "white",
          "plot_bgcolor": "#E5ECF6",
          "polar": {
           "angularaxis": {
            "gridcolor": "white",
            "linecolor": "white",
            "ticks": ""
           },
           "bgcolor": "#E5ECF6",
           "radialaxis": {
            "gridcolor": "white",
            "linecolor": "white",
            "ticks": ""
           }
          },
          "scene": {
           "xaxis": {
            "backgroundcolor": "#E5ECF6",
            "gridcolor": "white",
            "gridwidth": 2,
            "linecolor": "white",
            "showbackground": true,
            "ticks": "",
            "zerolinecolor": "white"
           },
           "yaxis": {
            "backgroundcolor": "#E5ECF6",
            "gridcolor": "white",
            "gridwidth": 2,
            "linecolor": "white",
            "showbackground": true,
            "ticks": "",
            "zerolinecolor": "white"
           },
           "zaxis": {
            "backgroundcolor": "#E5ECF6",
            "gridcolor": "white",
            "gridwidth": 2,
            "linecolor": "white",
            "showbackground": true,
            "ticks": "",
            "zerolinecolor": "white"
           }
          },
          "shapedefaults": {
           "line": {
            "color": "#2a3f5f"
           }
          },
          "ternary": {
           "aaxis": {
            "gridcolor": "white",
            "linecolor": "white",
            "ticks": ""
           },
           "baxis": {
            "gridcolor": "white",
            "linecolor": "white",
            "ticks": ""
           },
           "bgcolor": "#E5ECF6",
           "caxis": {
            "gridcolor": "white",
            "linecolor": "white",
            "ticks": ""
           }
          },
          "title": {
           "x": 0.05
          },
          "xaxis": {
           "automargin": true,
           "gridcolor": "white",
           "linecolor": "white",
           "ticks": "",
           "title": {
            "standoff": 15
           },
           "zerolinecolor": "white",
           "zerolinewidth": 2
          },
          "yaxis": {
           "automargin": true,
           "gridcolor": "white",
           "linecolor": "white",
           "ticks": "",
           "title": {
            "standoff": 15
           },
           "zerolinecolor": "white",
           "zerolinewidth": 2
          }
         }
        },
        "title": {
         "text": "Figure 1. (From Author) Tution Fee : University Degrees in Data Science"
        },
        "width": 900,
        "xaxis": {
         "tickangle": 45
        }
       }
      },
      "text/html": [
       "<div>                            <div id=\"e5f703a6-3c5e-445c-ab23-163c2274e990\" class=\"plotly-graph-div\" style=\"height:450px; width:900px;\"></div>            <script type=\"text/javascript\">                require([\"plotly\"], function(Plotly) {                    window.PLOTLYENV=window.PLOTLYENV || {};                                    if (document.getElementById(\"e5f703a6-3c5e-445c-ab23-163c2274e990\")) {                    Plotly.newPlot(                        \"e5f703a6-3c5e-445c-ab23-163c2274e990\",                        [{\"marker\": {\"color\": \"orange\", \"opacity\": 0.5}, \"name\": \"Tution Fee\", \"orientation\": \"v\", \"type\": \"bar\", \"x\": [\"CMU Tepper\", \"UC Berkeley\", \"Georgia Tech\", \"Illinois-Urbana\", \"South California\", \"Wisconsin\", \"Boston Metropolitan\", \"Johns Hopkins\", \"Pennsylvania State\", \"Northwestern SPS\", \"Rutgers\", \"UCD Dublin\", \"Texas A&M\", \"Arizona State\", \"Northeastern\", \"Ohio\", \"Rice\", \"Indiana Bloomington\", \"Notre Dame\", \"IIT Chicago\", \"Syracuse\", \"California Riverside\", \"Iowa State\", \"Oregon State\", \"Missouri\", \"CUNY SPS\", \"American\", \"Oklahoma\", \"Colorado\", \"Oklahoma State\", \"Baker College\", \"Bay Path\", \"Bellevue\", \"Blanchardstown\", \"Capella\", \"Central Connecticut\", \"Colorado Technical\", \"DePaul\", \"DS TechInstitute\", \"Dakota State\", \"Elmhurst College\", \"Full Sail\", \"La Salle\", \"Lewis\", \"Maryville St. Louis\", \"Phoenix\", \"Regis\", \"Saint Mary's College\", \"South Dakota State\", \"Saint Joseph's\", \"Southern Methodist\", \"Southern New Hampshire\", \"Slippery Rock\", \"Alabama Huntsville\", \"Maryland College\", \"Villanova\", \"West Virginia\", \"Northcentral\", \"Edinburgh Napier\", \"Drexel\", \"Merrimack College\", \"Varna Free\", \"Johnson & Wales\", \"Kent State\"], \"y\": [67575.0, 66150.0, 9900.0, 19200.0, 55886.0, 30600.0, 34400.0, 53740.0, 29250.0, 53148.0, 23136.0, 7575.0, 65000.0, 39622.0, 34200.0, 35250.0, 129000.0, 15172.0, 48000.0, 30985.0, 54000.0, 24990.0, 24000.0, 23445.0, 34000.0, 13200.0, 54186.0, 26103.0, 39450.0, 33990.0, 17100.0, 29340.0, 20700.0, 2320.0, 33360.0, 21681.0, 28080.0, 43160.0, 7900.0, 13320.0, 25350.0, 28008.0, 26250.0, 26235.0, 22950.0, 29316.0, 25560.0, 31946.0, 13320.0, 17520.0, 57084.0, 22572.0, 16269.0, 21810.0, 24984.0, 43400.0, 30690.0, 30530.0, 9060.0, 56925.0, 28320.0, 5391.0, 23744.0, 21524.0]}, {\"line\": {\"dash\": \"dash\"}, \"marker\": {\"color\": \"red\"}, \"mode\": \"lines\", \"name\": \"Median Household Income\", \"type\": \"scatter\", \"x\": [\"CMU Tepper\", \"UC Berkeley\", \"Georgia Tech\", \"Illinois-Urbana\", \"South California\", \"Wisconsin\", \"Boston Metropolitan\", \"Johns Hopkins\", \"Pennsylvania State\", \"Northwestern SPS\", \"Rutgers\", \"UCD Dublin\", \"Texas A&M\", \"Arizona State\", \"Northeastern\", \"Ohio\", \"Rice\", \"Indiana Bloomington\", \"Notre Dame\", \"IIT Chicago\", \"Syracuse\", \"California Riverside\", \"Iowa State\", \"Oregon State\", \"Missouri\", \"CUNY SPS\", \"American\", \"Oklahoma\", \"Colorado\", \"Oklahoma State\", \"Baker College\", \"Bay Path\", \"Bellevue\", \"Blanchardstown\", \"Capella\", \"Central Connecticut\", \"Colorado Technical\", \"DePaul\", \"DS TechInstitute\", \"Dakota State\", \"Elmhurst College\", \"Full Sail\", \"La Salle\", \"Lewis\", \"Maryville St. Louis\", \"Phoenix\", \"Regis\", \"Saint Mary's College\", \"South Dakota State\", \"Saint Joseph's\", \"Southern Methodist\", \"Southern New Hampshire\", \"Slippery Rock\", \"Alabama Huntsville\", \"Maryland College\", \"Villanova\", \"West Virginia\", \"Northcentral\", \"Edinburgh Napier\", \"Drexel\", \"Merrimack College\", \"Varna Free\", \"Johnson & Wales\", \"Kent State\"], \"y\": [59000, 59000, 59000, 59000, 59000, 59000, 59000, 59000, 59000, 59000, 59000, 59000, 59000, 59000, 59000, 59000, 59000, 59000, 59000, 59000, 59000, 59000, 59000, 59000, 59000, 59000, 59000, 59000, 59000, 59000, 59000, 59000, 59000, 59000, 59000, 59000, 59000, 59000, 59000, 59000, 59000, 59000, 59000, 59000, 59000, 59000, 59000, 59000, 59000, 59000, 59000, 59000, 59000, 59000, 59000, 59000, 59000, 59000, 59000, 59000, 59000, 59000, 59000, 59000]}],                        {\"height\": 450, \"legend\": {\"orientation\": \"h\", \"x\": 0.1, \"y\": 1.1}, \"paper_bgcolor\": \"#fff\", \"plot_bgcolor\": \"#fff\", \"template\": {\"data\": {\"bar\": [{\"error_x\": {\"color\": \"#2a3f5f\"}, \"error_y\": {\"color\": \"#2a3f5f\"}, \"marker\": {\"line\": {\"color\": \"#E5ECF6\", \"width\": 0.5}}, \"type\": \"bar\"}], \"barpolar\": [{\"marker\": {\"line\": {\"color\": \"#E5ECF6\", \"width\": 0.5}}, \"type\": \"barpolar\"}], \"carpet\": [{\"aaxis\": {\"endlinecolor\": \"#2a3f5f\", \"gridcolor\": \"white\", \"linecolor\": \"white\", \"minorgridcolor\": \"white\", \"startlinecolor\": \"#2a3f5f\"}, \"baxis\": {\"endlinecolor\": \"#2a3f5f\", \"gridcolor\": \"white\", \"linecolor\": \"white\", \"minorgridcolor\": \"white\", \"startlinecolor\": \"#2a3f5f\"}, \"type\": \"carpet\"}], \"choropleth\": [{\"colorbar\": {\"outlinewidth\": 0, \"ticks\": \"\"}, \"type\": \"choropleth\"}], \"contour\": [{\"colorbar\": {\"outlinewidth\": 0, \"ticks\": \"\"}, \"colorscale\": [[0.0, \"#0d0887\"], [0.1111111111111111, \"#46039f\"], [0.2222222222222222, \"#7201a8\"], [0.3333333333333333, \"#9c179e\"], [0.4444444444444444, \"#bd3786\"], [0.5555555555555556, \"#d8576b\"], [0.6666666666666666, \"#ed7953\"], [0.7777777777777778, \"#fb9f3a\"], [0.8888888888888888, \"#fdca26\"], [1.0, \"#f0f921\"]], \"type\": \"contour\"}], \"contourcarpet\": [{\"colorbar\": {\"outlinewidth\": 0, \"ticks\": \"\"}, \"type\": \"contourcarpet\"}], \"heatmap\": [{\"colorbar\": {\"outlinewidth\": 0, \"ticks\": \"\"}, \"colorscale\": [[0.0, \"#0d0887\"], [0.1111111111111111, \"#46039f\"], [0.2222222222222222, \"#7201a8\"], [0.3333333333333333, \"#9c179e\"], [0.4444444444444444, \"#bd3786\"], [0.5555555555555556, \"#d8576b\"], [0.6666666666666666, \"#ed7953\"], [0.7777777777777778, \"#fb9f3a\"], [0.8888888888888888, \"#fdca26\"], [1.0, \"#f0f921\"]], \"type\": \"heatmap\"}], \"heatmapgl\": [{\"colorbar\": {\"outlinewidth\": 0, \"ticks\": \"\"}, \"colorscale\": [[0.0, \"#0d0887\"], [0.1111111111111111, \"#46039f\"], [0.2222222222222222, \"#7201a8\"], [0.3333333333333333, \"#9c179e\"], [0.4444444444444444, \"#bd3786\"], [0.5555555555555556, \"#d8576b\"], [0.6666666666666666, \"#ed7953\"], [0.7777777777777778, \"#fb9f3a\"], [0.8888888888888888, \"#fdca26\"], [1.0, \"#f0f921\"]], \"type\": \"heatmapgl\"}], \"histogram\": [{\"marker\": {\"colorbar\": {\"outlinewidth\": 0, \"ticks\": \"\"}}, \"type\": \"histogram\"}], \"histogram2d\": [{\"colorbar\": {\"outlinewidth\": 0, \"ticks\": \"\"}, \"colorscale\": [[0.0, \"#0d0887\"], [0.1111111111111111, \"#46039f\"], [0.2222222222222222, \"#7201a8\"], [0.3333333333333333, \"#9c179e\"], [0.4444444444444444, \"#bd3786\"], [0.5555555555555556, \"#d8576b\"], [0.6666666666666666, \"#ed7953\"], [0.7777777777777778, \"#fb9f3a\"], [0.8888888888888888, \"#fdca26\"], [1.0, \"#f0f921\"]], \"type\": \"histogram2d\"}], \"histogram2dcontour\": [{\"colorbar\": {\"outlinewidth\": 0, \"ticks\": \"\"}, \"colorscale\": [[0.0, \"#0d0887\"], [0.1111111111111111, \"#46039f\"], [0.2222222222222222, \"#7201a8\"], [0.3333333333333333, \"#9c179e\"], [0.4444444444444444, \"#bd3786\"], [0.5555555555555556, \"#d8576b\"], [0.6666666666666666, \"#ed7953\"], [0.7777777777777778, \"#fb9f3a\"], [0.8888888888888888, \"#fdca26\"], [1.0, \"#f0f921\"]], \"type\": \"histogram2dcontour\"}], \"mesh3d\": [{\"colorbar\": {\"outlinewidth\": 0, \"ticks\": \"\"}, \"type\": \"mesh3d\"}], \"parcoords\": [{\"line\": {\"colorbar\": {\"outlinewidth\": 0, \"ticks\": \"\"}}, \"type\": \"parcoords\"}], \"pie\": [{\"automargin\": true, \"type\": \"pie\"}], \"scatter\": [{\"marker\": {\"colorbar\": {\"outlinewidth\": 0, \"ticks\": \"\"}}, \"type\": \"scatter\"}], \"scatter3d\": [{\"line\": {\"colorbar\": {\"outlinewidth\": 0, \"ticks\": \"\"}}, \"marker\": {\"colorbar\": {\"outlinewidth\": 0, \"ticks\": \"\"}}, \"type\": \"scatter3d\"}], \"scattercarpet\": [{\"marker\": {\"colorbar\": {\"outlinewidth\": 0, \"ticks\": \"\"}}, \"type\": \"scattercarpet\"}], \"scattergeo\": [{\"marker\": {\"colorbar\": {\"outlinewidth\": 0, \"ticks\": \"\"}}, \"type\": \"scattergeo\"}], \"scattergl\": [{\"marker\": {\"colorbar\": {\"outlinewidth\": 0, \"ticks\": \"\"}}, \"type\": \"scattergl\"}], \"scattermapbox\": [{\"marker\": {\"colorbar\": {\"outlinewidth\": 0, \"ticks\": \"\"}}, \"type\": \"scattermapbox\"}], \"scatterpolar\": [{\"marker\": {\"colorbar\": {\"outlinewidth\": 0, \"ticks\": \"\"}}, \"type\": \"scatterpolar\"}], \"scatterpolargl\": [{\"marker\": {\"colorbar\": {\"outlinewidth\": 0, \"ticks\": \"\"}}, \"type\": \"scatterpolargl\"}], \"scatterternary\": [{\"marker\": {\"colorbar\": {\"outlinewidth\": 0, \"ticks\": \"\"}}, \"type\": \"scatterternary\"}], \"surface\": [{\"colorbar\": {\"outlinewidth\": 0, \"ticks\": \"\"}, \"colorscale\": [[0.0, \"#0d0887\"], [0.1111111111111111, \"#46039f\"], [0.2222222222222222, \"#7201a8\"], [0.3333333333333333, \"#9c179e\"], [0.4444444444444444, \"#bd3786\"], [0.5555555555555556, \"#d8576b\"], [0.6666666666666666, \"#ed7953\"], [0.7777777777777778, \"#fb9f3a\"], [0.8888888888888888, \"#fdca26\"], [1.0, \"#f0f921\"]], \"type\": \"surface\"}], \"table\": [{\"cells\": {\"fill\": {\"color\": \"#EBF0F8\"}, \"line\": {\"color\": \"white\"}}, \"header\": {\"fill\": {\"color\": \"#C8D4E3\"}, \"line\": {\"color\": \"white\"}}, \"type\": \"table\"}]}, \"layout\": {\"annotationdefaults\": {\"arrowcolor\": \"#2a3f5f\", \"arrowhead\": 0, \"arrowwidth\": 1}, \"coloraxis\": {\"colorbar\": {\"outlinewidth\": 0, \"ticks\": \"\"}}, \"colorscale\": {\"diverging\": [[0, \"#8e0152\"], [0.1, \"#c51b7d\"], [0.2, \"#de77ae\"], [0.3, \"#f1b6da\"], [0.4, \"#fde0ef\"], [0.5, \"#f7f7f7\"], [0.6, \"#e6f5d0\"], [0.7, \"#b8e186\"], [0.8, \"#7fbc41\"], [0.9, \"#4d9221\"], [1, \"#276419\"]], \"sequential\": [[0.0, \"#0d0887\"], [0.1111111111111111, \"#46039f\"], [0.2222222222222222, \"#7201a8\"], [0.3333333333333333, \"#9c179e\"], [0.4444444444444444, \"#bd3786\"], [0.5555555555555556, \"#d8576b\"], [0.6666666666666666, \"#ed7953\"], [0.7777777777777778, \"#fb9f3a\"], [0.8888888888888888, \"#fdca26\"], [1.0, \"#f0f921\"]], \"sequentialminus\": [[0.0, \"#0d0887\"], [0.1111111111111111, \"#46039f\"], [0.2222222222222222, \"#7201a8\"], [0.3333333333333333, \"#9c179e\"], [0.4444444444444444, \"#bd3786\"], [0.5555555555555556, \"#d8576b\"], [0.6666666666666666, \"#ed7953\"], [0.7777777777777778, \"#fb9f3a\"], [0.8888888888888888, \"#fdca26\"], [1.0, \"#f0f921\"]]}, \"colorway\": [\"#636efa\", \"#EF553B\", \"#00cc96\", \"#ab63fa\", \"#FFA15A\", \"#19d3f3\", \"#FF6692\", \"#B6E880\", \"#FF97FF\", \"#FECB52\"], \"font\": {\"color\": \"#2a3f5f\"}, \"geo\": {\"bgcolor\": \"white\", \"lakecolor\": \"white\", \"landcolor\": \"#E5ECF6\", \"showlakes\": true, \"showland\": true, \"subunitcolor\": \"white\"}, \"hoverlabel\": {\"align\": \"left\"}, \"hovermode\": \"closest\", \"mapbox\": {\"style\": \"light\"}, \"paper_bgcolor\": \"white\", \"plot_bgcolor\": \"#E5ECF6\", \"polar\": {\"angularaxis\": {\"gridcolor\": \"white\", \"linecolor\": \"white\", \"ticks\": \"\"}, \"bgcolor\": \"#E5ECF6\", \"radialaxis\": {\"gridcolor\": \"white\", \"linecolor\": \"white\", \"ticks\": \"\"}}, \"scene\": {\"xaxis\": {\"backgroundcolor\": \"#E5ECF6\", \"gridcolor\": \"white\", \"gridwidth\": 2, \"linecolor\": \"white\", \"showbackground\": true, \"ticks\": \"\", \"zerolinecolor\": \"white\"}, \"yaxis\": {\"backgroundcolor\": \"#E5ECF6\", \"gridcolor\": \"white\", \"gridwidth\": 2, \"linecolor\": \"white\", \"showbackground\": true, \"ticks\": \"\", \"zerolinecolor\": \"white\"}, \"zaxis\": {\"backgroundcolor\": \"#E5ECF6\", \"gridcolor\": \"white\", \"gridwidth\": 2, \"linecolor\": \"white\", \"showbackground\": true, \"ticks\": \"\", \"zerolinecolor\": \"white\"}}, \"shapedefaults\": {\"line\": {\"color\": \"#2a3f5f\"}}, \"ternary\": {\"aaxis\": {\"gridcolor\": \"white\", \"linecolor\": \"white\", \"ticks\": \"\"}, \"baxis\": {\"gridcolor\": \"white\", \"linecolor\": \"white\", \"ticks\": \"\"}, \"bgcolor\": \"#E5ECF6\", \"caxis\": {\"gridcolor\": \"white\", \"linecolor\": \"white\", \"ticks\": \"\"}}, \"title\": {\"x\": 0.05}, \"xaxis\": {\"automargin\": true, \"gridcolor\": \"white\", \"linecolor\": \"white\", \"ticks\": \"\", \"title\": {\"standoff\": 15}, \"zerolinecolor\": \"white\", \"zerolinewidth\": 2}, \"yaxis\": {\"automargin\": true, \"gridcolor\": \"white\", \"linecolor\": \"white\", \"ticks\": \"\", \"title\": {\"standoff\": 15}, \"zerolinecolor\": \"white\", \"zerolinewidth\": 2}}}, \"title\": {\"text\": \"Figure 1. (From Author) Tution Fee : University Degrees in Data Science\"}, \"width\": 900, \"xaxis\": {\"tickangle\": 45}},                        {\"responsive\": true}                    ).then(function(){\n",
       "                            \n",
       "var gd = document.getElementById('e5f703a6-3c5e-445c-ab23-163c2274e990');\n",
       "var x = new MutationObserver(function (mutations, observer) {{\n",
       "        var display = window.getComputedStyle(gd).display;\n",
       "        if (!display || display === 'none') {{\n",
       "            console.log([gd, 'removed!']);\n",
       "            Plotly.purge(gd);\n",
       "            observer.disconnect();\n",
       "        }}\n",
       "}});\n",
       "\n",
       "// Listen for the removal of the full notebook cells\n",
       "var notebookContainer = gd.closest('#notebook-container');\n",
       "if (notebookContainer) {{\n",
       "    x.observe(notebookContainer, {childList: true});\n",
       "}}\n",
       "\n",
       "// Listen for the clearing of the current output cell\n",
       "var outputEl = gd.closest('.output');\n",
       "if (outputEl) {{\n",
       "    x.observe(outputEl, {childList: true});\n",
       "}}\n",
       "\n",
       "                        })                };                });            </script>        </div>"
      ]
     },
     "metadata": {},
     "output_type": "display_data"
    },
    {
     "data": {
      "application/vnd.plotly.v1+json": {
       "config": {
        "plotlyServerURL": "https://plot.ly"
       },
       "data": [
        {
         "marker": {
          "color": "#3498d5",
          "line": {
           "color": "#3498d5"
          },
          "opacity": 0.5
         },
         "name": "Duration",
         "orientation": "v",
         "type": "bar",
         "x": [
          "CMU Tepper",
          "UC Berkeley",
          "Georgia Tech",
          "Illinois-Urbana",
          "South California",
          "Wisconsin",
          "Boston Metropolitan",
          "Johns Hopkins",
          "Pennsylvania State",
          "Northwestern SPS",
          "Rutgers",
          "UCD Dublin",
          "Texas A&M",
          "Arizona State",
          "Northeastern",
          "Ohio",
          "Rice",
          "Indiana Bloomington",
          "Notre Dame",
          "IIT Chicago",
          "Syracuse",
          "California Riverside",
          "Iowa State",
          "Oregon State",
          "Missouri",
          "CUNY SPS",
          "American",
          "Oklahoma",
          "Colorado",
          "Oklahoma State",
          "Baker College",
          "Bay Path",
          "Bellevue",
          "Blanchardstown",
          "Capella",
          "Central Connecticut",
          "Colorado Technical",
          "DePaul",
          "DS TechInstitute",
          "Dakota State",
          "Elmhurst College",
          "Full Sail",
          "La Salle",
          "Lewis",
          "Maryville St. Louis",
          "Phoenix",
          "Regis",
          "Saint Mary's College",
          "South Dakota State",
          "Saint Joseph's",
          "Southern Methodist",
          "Southern New Hampshire",
          "Slippery Rock",
          "Alabama Huntsville",
          "Maryland College",
          "Villanova",
          "West Virginia",
          "Northcentral",
          "Edinburgh Napier",
          "Drexel",
          "Merrimack College",
          "Varna Free",
          "Johnson & Wales",
          "Kent State"
         ],
         "y": [
          24,
          20,
          23,
          17.5,
          24,
          17.5,
          24,
          17.5,
          17.5,
          18,
          24,
          36,
          24,
          15,
          24,
          20,
          24,
          18,
          21,
          16,
          24,
          13,
          21,
          17.5,
          24,
          17.5,
          15,
          14,
          24,
          24,
          17.5,
          24,
          17.5,
          24,
          12,
          17.5,
          24,
          17.5,
          9,
          10,
          24,
          12,
          20,
          24,
          17.5,
          17.5,
          17.5,
          24,
          12,
          24,
          28,
          15,
          10,
          12,
          17.5,
          24,
          17.5,
          23,
          33,
          24,
          16,
          12,
          24,
          12
         ]
        },
        {
         "line": {
          "dash": "dash"
         },
         "marker": {
          "color": "red"
         },
         "mode": "lines",
         "name": "1 Yr",
         "type": "scatter",
         "x": [
          "CMU Tepper",
          "UC Berkeley",
          "Georgia Tech",
          "Illinois-Urbana",
          "South California",
          "Wisconsin",
          "Boston Metropolitan",
          "Johns Hopkins",
          "Pennsylvania State",
          "Northwestern SPS",
          "Rutgers",
          "UCD Dublin",
          "Texas A&M",
          "Arizona State",
          "Northeastern",
          "Ohio",
          "Rice",
          "Indiana Bloomington",
          "Notre Dame",
          "IIT Chicago",
          "Syracuse",
          "California Riverside",
          "Iowa State",
          "Oregon State",
          "Missouri",
          "CUNY SPS",
          "American",
          "Oklahoma",
          "Colorado",
          "Oklahoma State",
          "Baker College",
          "Bay Path",
          "Bellevue",
          "Blanchardstown",
          "Capella",
          "Central Connecticut",
          "Colorado Technical",
          "DePaul",
          "DS TechInstitute",
          "Dakota State",
          "Elmhurst College",
          "Full Sail",
          "La Salle",
          "Lewis",
          "Maryville St. Louis",
          "Phoenix",
          "Regis",
          "Saint Mary's College",
          "South Dakota State",
          "Saint Joseph's",
          "Southern Methodist",
          "Southern New Hampshire",
          "Slippery Rock",
          "Alabama Huntsville",
          "Maryland College",
          "Villanova",
          "West Virginia",
          "Northcentral",
          "Edinburgh Napier",
          "Drexel",
          "Merrimack College",
          "Varna Free",
          "Johnson & Wales",
          "Kent State"
         ],
         "y": [
          12,
          12,
          12,
          12,
          12,
          12,
          12,
          12,
          12,
          12,
          12,
          12,
          12,
          12,
          12,
          12,
          12,
          12,
          12,
          12,
          12,
          12,
          12,
          12,
          12,
          12,
          12,
          12,
          12,
          12,
          12,
          12,
          12,
          12,
          12,
          12,
          12,
          12,
          12,
          12,
          12,
          12,
          12,
          12,
          12,
          12,
          12,
          12,
          12,
          12,
          12,
          12,
          12,
          12,
          12,
          12,
          12,
          12,
          12,
          12,
          12,
          12,
          12,
          12
         ]
        },
        {
         "line": {
          "dash": "dash"
         },
         "marker": {
          "color": "blue"
         },
         "mode": "lines",
         "name": "1.5 Yr",
         "type": "scatter",
         "x": [
          "CMU Tepper",
          "UC Berkeley",
          "Georgia Tech",
          "Illinois-Urbana",
          "South California",
          "Wisconsin",
          "Boston Metropolitan",
          "Johns Hopkins",
          "Pennsylvania State",
          "Northwestern SPS",
          "Rutgers",
          "UCD Dublin",
          "Texas A&M",
          "Arizona State",
          "Northeastern",
          "Ohio",
          "Rice",
          "Indiana Bloomington",
          "Notre Dame",
          "IIT Chicago",
          "Syracuse",
          "California Riverside",
          "Iowa State",
          "Oregon State",
          "Missouri",
          "CUNY SPS",
          "American",
          "Oklahoma",
          "Colorado",
          "Oklahoma State",
          "Baker College",
          "Bay Path",
          "Bellevue",
          "Blanchardstown",
          "Capella",
          "Central Connecticut",
          "Colorado Technical",
          "DePaul",
          "DS TechInstitute",
          "Dakota State",
          "Elmhurst College",
          "Full Sail",
          "La Salle",
          "Lewis",
          "Maryville St. Louis",
          "Phoenix",
          "Regis",
          "Saint Mary's College",
          "South Dakota State",
          "Saint Joseph's",
          "Southern Methodist",
          "Southern New Hampshire",
          "Slippery Rock",
          "Alabama Huntsville",
          "Maryland College",
          "Villanova",
          "West Virginia",
          "Northcentral",
          "Edinburgh Napier",
          "Drexel",
          "Merrimack College",
          "Varna Free",
          "Johnson & Wales",
          "Kent State"
         ],
         "y": [
          18,
          18,
          18,
          18,
          18,
          18,
          18,
          18,
          18,
          18,
          18,
          18,
          18,
          18,
          18,
          18,
          18,
          18,
          18,
          18,
          18,
          18,
          18,
          18,
          18,
          18,
          18,
          18,
          18,
          18,
          18,
          18,
          18,
          18,
          18,
          18,
          18,
          18,
          18,
          18,
          18,
          18,
          18,
          18,
          18,
          18,
          18,
          18,
          18,
          18,
          18,
          18,
          18,
          18,
          18,
          18,
          18,
          18,
          18,
          18,
          18,
          18,
          18,
          18
         ]
        },
        {
         "line": {
          "dash": "dash"
         },
         "marker": {
          "color": "orange"
         },
         "mode": "lines",
         "name": "2 Yr",
         "type": "scatter",
         "x": [
          "CMU Tepper",
          "UC Berkeley",
          "Georgia Tech",
          "Illinois-Urbana",
          "South California",
          "Wisconsin",
          "Boston Metropolitan",
          "Johns Hopkins",
          "Pennsylvania State",
          "Northwestern SPS",
          "Rutgers",
          "UCD Dublin",
          "Texas A&M",
          "Arizona State",
          "Northeastern",
          "Ohio",
          "Rice",
          "Indiana Bloomington",
          "Notre Dame",
          "IIT Chicago",
          "Syracuse",
          "California Riverside",
          "Iowa State",
          "Oregon State",
          "Missouri",
          "CUNY SPS",
          "American",
          "Oklahoma",
          "Colorado",
          "Oklahoma State",
          "Baker College",
          "Bay Path",
          "Bellevue",
          "Blanchardstown",
          "Capella",
          "Central Connecticut",
          "Colorado Technical",
          "DePaul",
          "DS TechInstitute",
          "Dakota State",
          "Elmhurst College",
          "Full Sail",
          "La Salle",
          "Lewis",
          "Maryville St. Louis",
          "Phoenix",
          "Regis",
          "Saint Mary's College",
          "South Dakota State",
          "Saint Joseph's",
          "Southern Methodist",
          "Southern New Hampshire",
          "Slippery Rock",
          "Alabama Huntsville",
          "Maryland College",
          "Villanova",
          "West Virginia",
          "Northcentral",
          "Edinburgh Napier",
          "Drexel",
          "Merrimack College",
          "Varna Free",
          "Johnson & Wales",
          "Kent State"
         ],
         "y": [
          24,
          24,
          24,
          24,
          24,
          24,
          24,
          24,
          24,
          24,
          24,
          24,
          24,
          24,
          24,
          24,
          24,
          24,
          24,
          24,
          24,
          24,
          24,
          24,
          24,
          24,
          24,
          24,
          24,
          24,
          24,
          24,
          24,
          24,
          24,
          24,
          24,
          24,
          24,
          24,
          24,
          24,
          24,
          24,
          24,
          24,
          24,
          24,
          24,
          24,
          24,
          24,
          24,
          24,
          24,
          24,
          24,
          24,
          24,
          24,
          24,
          24,
          24,
          24
         ]
        }
       ],
       "layout": {
        "height": 450,
        "legend": {
         "orientation": "h",
         "x": 0.1,
         "y": 1.1
        },
        "paper_bgcolor": "#fff",
        "plot_bgcolor": "#fff",
        "template": {
         "data": {
          "bar": [
           {
            "error_x": {
             "color": "#2a3f5f"
            },
            "error_y": {
             "color": "#2a3f5f"
            },
            "marker": {
             "line": {
              "color": "#E5ECF6",
              "width": 0.5
             }
            },
            "type": "bar"
           }
          ],
          "barpolar": [
           {
            "marker": {
             "line": {
              "color": "#E5ECF6",
              "width": 0.5
             }
            },
            "type": "barpolar"
           }
          ],
          "carpet": [
           {
            "aaxis": {
             "endlinecolor": "#2a3f5f",
             "gridcolor": "white",
             "linecolor": "white",
             "minorgridcolor": "white",
             "startlinecolor": "#2a3f5f"
            },
            "baxis": {
             "endlinecolor": "#2a3f5f",
             "gridcolor": "white",
             "linecolor": "white",
             "minorgridcolor": "white",
             "startlinecolor": "#2a3f5f"
            },
            "type": "carpet"
           }
          ],
          "choropleth": [
           {
            "colorbar": {
             "outlinewidth": 0,
             "ticks": ""
            },
            "type": "choropleth"
           }
          ],
          "contour": [
           {
            "colorbar": {
             "outlinewidth": 0,
             "ticks": ""
            },
            "colorscale": [
             [
              0,
              "#0d0887"
             ],
             [
              0.1111111111111111,
              "#46039f"
             ],
             [
              0.2222222222222222,
              "#7201a8"
             ],
             [
              0.3333333333333333,
              "#9c179e"
             ],
             [
              0.4444444444444444,
              "#bd3786"
             ],
             [
              0.5555555555555556,
              "#d8576b"
             ],
             [
              0.6666666666666666,
              "#ed7953"
             ],
             [
              0.7777777777777778,
              "#fb9f3a"
             ],
             [
              0.8888888888888888,
              "#fdca26"
             ],
             [
              1,
              "#f0f921"
             ]
            ],
            "type": "contour"
           }
          ],
          "contourcarpet": [
           {
            "colorbar": {
             "outlinewidth": 0,
             "ticks": ""
            },
            "type": "contourcarpet"
           }
          ],
          "heatmap": [
           {
            "colorbar": {
             "outlinewidth": 0,
             "ticks": ""
            },
            "colorscale": [
             [
              0,
              "#0d0887"
             ],
             [
              0.1111111111111111,
              "#46039f"
             ],
             [
              0.2222222222222222,
              "#7201a8"
             ],
             [
              0.3333333333333333,
              "#9c179e"
             ],
             [
              0.4444444444444444,
              "#bd3786"
             ],
             [
              0.5555555555555556,
              "#d8576b"
             ],
             [
              0.6666666666666666,
              "#ed7953"
             ],
             [
              0.7777777777777778,
              "#fb9f3a"
             ],
             [
              0.8888888888888888,
              "#fdca26"
             ],
             [
              1,
              "#f0f921"
             ]
            ],
            "type": "heatmap"
           }
          ],
          "heatmapgl": [
           {
            "colorbar": {
             "outlinewidth": 0,
             "ticks": ""
            },
            "colorscale": [
             [
              0,
              "#0d0887"
             ],
             [
              0.1111111111111111,
              "#46039f"
             ],
             [
              0.2222222222222222,
              "#7201a8"
             ],
             [
              0.3333333333333333,
              "#9c179e"
             ],
             [
              0.4444444444444444,
              "#bd3786"
             ],
             [
              0.5555555555555556,
              "#d8576b"
             ],
             [
              0.6666666666666666,
              "#ed7953"
             ],
             [
              0.7777777777777778,
              "#fb9f3a"
             ],
             [
              0.8888888888888888,
              "#fdca26"
             ],
             [
              1,
              "#f0f921"
             ]
            ],
            "type": "heatmapgl"
           }
          ],
          "histogram": [
           {
            "marker": {
             "colorbar": {
              "outlinewidth": 0,
              "ticks": ""
             }
            },
            "type": "histogram"
           }
          ],
          "histogram2d": [
           {
            "colorbar": {
             "outlinewidth": 0,
             "ticks": ""
            },
            "colorscale": [
             [
              0,
              "#0d0887"
             ],
             [
              0.1111111111111111,
              "#46039f"
             ],
             [
              0.2222222222222222,
              "#7201a8"
             ],
             [
              0.3333333333333333,
              "#9c179e"
             ],
             [
              0.4444444444444444,
              "#bd3786"
             ],
             [
              0.5555555555555556,
              "#d8576b"
             ],
             [
              0.6666666666666666,
              "#ed7953"
             ],
             [
              0.7777777777777778,
              "#fb9f3a"
             ],
             [
              0.8888888888888888,
              "#fdca26"
             ],
             [
              1,
              "#f0f921"
             ]
            ],
            "type": "histogram2d"
           }
          ],
          "histogram2dcontour": [
           {
            "colorbar": {
             "outlinewidth": 0,
             "ticks": ""
            },
            "colorscale": [
             [
              0,
              "#0d0887"
             ],
             [
              0.1111111111111111,
              "#46039f"
             ],
             [
              0.2222222222222222,
              "#7201a8"
             ],
             [
              0.3333333333333333,
              "#9c179e"
             ],
             [
              0.4444444444444444,
              "#bd3786"
             ],
             [
              0.5555555555555556,
              "#d8576b"
             ],
             [
              0.6666666666666666,
              "#ed7953"
             ],
             [
              0.7777777777777778,
              "#fb9f3a"
             ],
             [
              0.8888888888888888,
              "#fdca26"
             ],
             [
              1,
              "#f0f921"
             ]
            ],
            "type": "histogram2dcontour"
           }
          ],
          "mesh3d": [
           {
            "colorbar": {
             "outlinewidth": 0,
             "ticks": ""
            },
            "type": "mesh3d"
           }
          ],
          "parcoords": [
           {
            "line": {
             "colorbar": {
              "outlinewidth": 0,
              "ticks": ""
             }
            },
            "type": "parcoords"
           }
          ],
          "pie": [
           {
            "automargin": true,
            "type": "pie"
           }
          ],
          "scatter": [
           {
            "marker": {
             "colorbar": {
              "outlinewidth": 0,
              "ticks": ""
             }
            },
            "type": "scatter"
           }
          ],
          "scatter3d": [
           {
            "line": {
             "colorbar": {
              "outlinewidth": 0,
              "ticks": ""
             }
            },
            "marker": {
             "colorbar": {
              "outlinewidth": 0,
              "ticks": ""
             }
            },
            "type": "scatter3d"
           }
          ],
          "scattercarpet": [
           {
            "marker": {
             "colorbar": {
              "outlinewidth": 0,
              "ticks": ""
             }
            },
            "type": "scattercarpet"
           }
          ],
          "scattergeo": [
           {
            "marker": {
             "colorbar": {
              "outlinewidth": 0,
              "ticks": ""
             }
            },
            "type": "scattergeo"
           }
          ],
          "scattergl": [
           {
            "marker": {
             "colorbar": {
              "outlinewidth": 0,
              "ticks": ""
             }
            },
            "type": "scattergl"
           }
          ],
          "scattermapbox": [
           {
            "marker": {
             "colorbar": {
              "outlinewidth": 0,
              "ticks": ""
             }
            },
            "type": "scattermapbox"
           }
          ],
          "scatterpolar": [
           {
            "marker": {
             "colorbar": {
              "outlinewidth": 0,
              "ticks": ""
             }
            },
            "type": "scatterpolar"
           }
          ],
          "scatterpolargl": [
           {
            "marker": {
             "colorbar": {
              "outlinewidth": 0,
              "ticks": ""
             }
            },
            "type": "scatterpolargl"
           }
          ],
          "scatterternary": [
           {
            "marker": {
             "colorbar": {
              "outlinewidth": 0,
              "ticks": ""
             }
            },
            "type": "scatterternary"
           }
          ],
          "surface": [
           {
            "colorbar": {
             "outlinewidth": 0,
             "ticks": ""
            },
            "colorscale": [
             [
              0,
              "#0d0887"
             ],
             [
              0.1111111111111111,
              "#46039f"
             ],
             [
              0.2222222222222222,
              "#7201a8"
             ],
             [
              0.3333333333333333,
              "#9c179e"
             ],
             [
              0.4444444444444444,
              "#bd3786"
             ],
             [
              0.5555555555555556,
              "#d8576b"
             ],
             [
              0.6666666666666666,
              "#ed7953"
             ],
             [
              0.7777777777777778,
              "#fb9f3a"
             ],
             [
              0.8888888888888888,
              "#fdca26"
             ],
             [
              1,
              "#f0f921"
             ]
            ],
            "type": "surface"
           }
          ],
          "table": [
           {
            "cells": {
             "fill": {
              "color": "#EBF0F8"
             },
             "line": {
              "color": "white"
             }
            },
            "header": {
             "fill": {
              "color": "#C8D4E3"
             },
             "line": {
              "color": "white"
             }
            },
            "type": "table"
           }
          ]
         },
         "layout": {
          "annotationdefaults": {
           "arrowcolor": "#2a3f5f",
           "arrowhead": 0,
           "arrowwidth": 1
          },
          "coloraxis": {
           "colorbar": {
            "outlinewidth": 0,
            "ticks": ""
           }
          },
          "colorscale": {
           "diverging": [
            [
             0,
             "#8e0152"
            ],
            [
             0.1,
             "#c51b7d"
            ],
            [
             0.2,
             "#de77ae"
            ],
            [
             0.3,
             "#f1b6da"
            ],
            [
             0.4,
             "#fde0ef"
            ],
            [
             0.5,
             "#f7f7f7"
            ],
            [
             0.6,
             "#e6f5d0"
            ],
            [
             0.7,
             "#b8e186"
            ],
            [
             0.8,
             "#7fbc41"
            ],
            [
             0.9,
             "#4d9221"
            ],
            [
             1,
             "#276419"
            ]
           ],
           "sequential": [
            [
             0,
             "#0d0887"
            ],
            [
             0.1111111111111111,
             "#46039f"
            ],
            [
             0.2222222222222222,
             "#7201a8"
            ],
            [
             0.3333333333333333,
             "#9c179e"
            ],
            [
             0.4444444444444444,
             "#bd3786"
            ],
            [
             0.5555555555555556,
             "#d8576b"
            ],
            [
             0.6666666666666666,
             "#ed7953"
            ],
            [
             0.7777777777777778,
             "#fb9f3a"
            ],
            [
             0.8888888888888888,
             "#fdca26"
            ],
            [
             1,
             "#f0f921"
            ]
           ],
           "sequentialminus": [
            [
             0,
             "#0d0887"
            ],
            [
             0.1111111111111111,
             "#46039f"
            ],
            [
             0.2222222222222222,
             "#7201a8"
            ],
            [
             0.3333333333333333,
             "#9c179e"
            ],
            [
             0.4444444444444444,
             "#bd3786"
            ],
            [
             0.5555555555555556,
             "#d8576b"
            ],
            [
             0.6666666666666666,
             "#ed7953"
            ],
            [
             0.7777777777777778,
             "#fb9f3a"
            ],
            [
             0.8888888888888888,
             "#fdca26"
            ],
            [
             1,
             "#f0f921"
            ]
           ]
          },
          "colorway": [
           "#636efa",
           "#EF553B",
           "#00cc96",
           "#ab63fa",
           "#FFA15A",
           "#19d3f3",
           "#FF6692",
           "#B6E880",
           "#FF97FF",
           "#FECB52"
          ],
          "font": {
           "color": "#2a3f5f"
          },
          "geo": {
           "bgcolor": "white",
           "lakecolor": "white",
           "landcolor": "#E5ECF6",
           "showlakes": true,
           "showland": true,
           "subunitcolor": "white"
          },
          "hoverlabel": {
           "align": "left"
          },
          "hovermode": "closest",
          "mapbox": {
           "style": "light"
          },
          "paper_bgcolor": "white",
          "plot_bgcolor": "#E5ECF6",
          "polar": {
           "angularaxis": {
            "gridcolor": "white",
            "linecolor": "white",
            "ticks": ""
           },
           "bgcolor": "#E5ECF6",
           "radialaxis": {
            "gridcolor": "white",
            "linecolor": "white",
            "ticks": ""
           }
          },
          "scene": {
           "xaxis": {
            "backgroundcolor": "#E5ECF6",
            "gridcolor": "white",
            "gridwidth": 2,
            "linecolor": "white",
            "showbackground": true,
            "ticks": "",
            "zerolinecolor": "white"
           },
           "yaxis": {
            "backgroundcolor": "#E5ECF6",
            "gridcolor": "white",
            "gridwidth": 2,
            "linecolor": "white",
            "showbackground": true,
            "ticks": "",
            "zerolinecolor": "white"
           },
           "zaxis": {
            "backgroundcolor": "#E5ECF6",
            "gridcolor": "white",
            "gridwidth": 2,
            "linecolor": "white",
            "showbackground": true,
            "ticks": "",
            "zerolinecolor": "white"
           }
          },
          "shapedefaults": {
           "line": {
            "color": "#2a3f5f"
           }
          },
          "ternary": {
           "aaxis": {
            "gridcolor": "white",
            "linecolor": "white",
            "ticks": ""
           },
           "baxis": {
            "gridcolor": "white",
            "linecolor": "white",
            "ticks": ""
           },
           "bgcolor": "#E5ECF6",
           "caxis": {
            "gridcolor": "white",
            "linecolor": "white",
            "ticks": ""
           }
          },
          "title": {
           "x": 0.05
          },
          "xaxis": {
           "automargin": true,
           "gridcolor": "white",
           "linecolor": "white",
           "ticks": "",
           "title": {
            "standoff": 15
           },
           "zerolinecolor": "white",
           "zerolinewidth": 2
          },
          "yaxis": {
           "automargin": true,
           "gridcolor": "white",
           "linecolor": "white",
           "ticks": "",
           "title": {
            "standoff": 15
           },
           "zerolinecolor": "white",
           "zerolinewidth": 2
          }
         }
        },
        "title": {
         "text": "Figure 2. (From Author) Duration : University Degrees in Data Science"
        },
        "width": 900,
        "xaxis": {
         "tickangle": 45
        }
       }
      },
      "text/html": [
       "<div>                            <div id=\"bac0eb9a-c577-413a-bb4f-9bb0c27e5e09\" class=\"plotly-graph-div\" style=\"height:450px; width:900px;\"></div>            <script type=\"text/javascript\">                require([\"plotly\"], function(Plotly) {                    window.PLOTLYENV=window.PLOTLYENV || {};                                    if (document.getElementById(\"bac0eb9a-c577-413a-bb4f-9bb0c27e5e09\")) {                    Plotly.newPlot(                        \"bac0eb9a-c577-413a-bb4f-9bb0c27e5e09\",                        [{\"marker\": {\"color\": \"#3498d5\", \"line\": {\"color\": \"#3498d5\"}, \"opacity\": 0.5}, \"name\": \"Duration\", \"orientation\": \"v\", \"type\": \"bar\", \"x\": [\"CMU Tepper\", \"UC Berkeley\", \"Georgia Tech\", \"Illinois-Urbana\", \"South California\", \"Wisconsin\", \"Boston Metropolitan\", \"Johns Hopkins\", \"Pennsylvania State\", \"Northwestern SPS\", \"Rutgers\", \"UCD Dublin\", \"Texas A&M\", \"Arizona State\", \"Northeastern\", \"Ohio\", \"Rice\", \"Indiana Bloomington\", \"Notre Dame\", \"IIT Chicago\", \"Syracuse\", \"California Riverside\", \"Iowa State\", \"Oregon State\", \"Missouri\", \"CUNY SPS\", \"American\", \"Oklahoma\", \"Colorado\", \"Oklahoma State\", \"Baker College\", \"Bay Path\", \"Bellevue\", \"Blanchardstown\", \"Capella\", \"Central Connecticut\", \"Colorado Technical\", \"DePaul\", \"DS TechInstitute\", \"Dakota State\", \"Elmhurst College\", \"Full Sail\", \"La Salle\", \"Lewis\", \"Maryville St. Louis\", \"Phoenix\", \"Regis\", \"Saint Mary's College\", \"South Dakota State\", \"Saint Joseph's\", \"Southern Methodist\", \"Southern New Hampshire\", \"Slippery Rock\", \"Alabama Huntsville\", \"Maryland College\", \"Villanova\", \"West Virginia\", \"Northcentral\", \"Edinburgh Napier\", \"Drexel\", \"Merrimack College\", \"Varna Free\", \"Johnson & Wales\", \"Kent State\"], \"y\": [24.0, 20.0, 23.0, 17.5, 24.0, 17.5, 24.0, 17.5, 17.5, 18.0, 24.0, 36.0, 24.0, 15.0, 24.0, 20.0, 24.0, 18.0, 21.0, 16.0, 24.0, 13.0, 21.0, 17.5, 24.0, 17.5, 15.0, 14.0, 24.0, 24.0, 17.5, 24.0, 17.5, 24.0, 12.0, 17.5, 24.0, 17.5, 9.0, 10.0, 24.0, 12.0, 20.0, 24.0, 17.5, 17.5, 17.5, 24.0, 12.0, 24.0, 28.0, 15.0, 10.0, 12.0, 17.5, 24.0, 17.5, 23.0, 33.0, 24.0, 16.0, 12.0, 24.0, 12.0]}, {\"line\": {\"dash\": \"dash\"}, \"marker\": {\"color\": \"red\"}, \"mode\": \"lines\", \"name\": \"1 Yr\", \"type\": \"scatter\", \"x\": [\"CMU Tepper\", \"UC Berkeley\", \"Georgia Tech\", \"Illinois-Urbana\", \"South California\", \"Wisconsin\", \"Boston Metropolitan\", \"Johns Hopkins\", \"Pennsylvania State\", \"Northwestern SPS\", \"Rutgers\", \"UCD Dublin\", \"Texas A&M\", \"Arizona State\", \"Northeastern\", \"Ohio\", \"Rice\", \"Indiana Bloomington\", \"Notre Dame\", \"IIT Chicago\", \"Syracuse\", \"California Riverside\", \"Iowa State\", \"Oregon State\", \"Missouri\", \"CUNY SPS\", \"American\", \"Oklahoma\", \"Colorado\", \"Oklahoma State\", \"Baker College\", \"Bay Path\", \"Bellevue\", \"Blanchardstown\", \"Capella\", \"Central Connecticut\", \"Colorado Technical\", \"DePaul\", \"DS TechInstitute\", \"Dakota State\", \"Elmhurst College\", \"Full Sail\", \"La Salle\", \"Lewis\", \"Maryville St. Louis\", \"Phoenix\", \"Regis\", \"Saint Mary's College\", \"South Dakota State\", \"Saint Joseph's\", \"Southern Methodist\", \"Southern New Hampshire\", \"Slippery Rock\", \"Alabama Huntsville\", \"Maryland College\", \"Villanova\", \"West Virginia\", \"Northcentral\", \"Edinburgh Napier\", \"Drexel\", \"Merrimack College\", \"Varna Free\", \"Johnson & Wales\", \"Kent State\"], \"y\": [12, 12, 12, 12, 12, 12, 12, 12, 12, 12, 12, 12, 12, 12, 12, 12, 12, 12, 12, 12, 12, 12, 12, 12, 12, 12, 12, 12, 12, 12, 12, 12, 12, 12, 12, 12, 12, 12, 12, 12, 12, 12, 12, 12, 12, 12, 12, 12, 12, 12, 12, 12, 12, 12, 12, 12, 12, 12, 12, 12, 12, 12, 12, 12]}, {\"line\": {\"dash\": \"dash\"}, \"marker\": {\"color\": \"blue\"}, \"mode\": \"lines\", \"name\": \"1.5 Yr\", \"type\": \"scatter\", \"x\": [\"CMU Tepper\", \"UC Berkeley\", \"Georgia Tech\", \"Illinois-Urbana\", \"South California\", \"Wisconsin\", \"Boston Metropolitan\", \"Johns Hopkins\", \"Pennsylvania State\", \"Northwestern SPS\", \"Rutgers\", \"UCD Dublin\", \"Texas A&M\", \"Arizona State\", \"Northeastern\", \"Ohio\", \"Rice\", \"Indiana Bloomington\", \"Notre Dame\", \"IIT Chicago\", \"Syracuse\", \"California Riverside\", \"Iowa State\", \"Oregon State\", \"Missouri\", \"CUNY SPS\", \"American\", \"Oklahoma\", \"Colorado\", \"Oklahoma State\", \"Baker College\", \"Bay Path\", \"Bellevue\", \"Blanchardstown\", \"Capella\", \"Central Connecticut\", \"Colorado Technical\", \"DePaul\", \"DS TechInstitute\", \"Dakota State\", \"Elmhurst College\", \"Full Sail\", \"La Salle\", \"Lewis\", \"Maryville St. Louis\", \"Phoenix\", \"Regis\", \"Saint Mary's College\", \"South Dakota State\", \"Saint Joseph's\", \"Southern Methodist\", \"Southern New Hampshire\", \"Slippery Rock\", \"Alabama Huntsville\", \"Maryland College\", \"Villanova\", \"West Virginia\", \"Northcentral\", \"Edinburgh Napier\", \"Drexel\", \"Merrimack College\", \"Varna Free\", \"Johnson & Wales\", \"Kent State\"], \"y\": [18, 18, 18, 18, 18, 18, 18, 18, 18, 18, 18, 18, 18, 18, 18, 18, 18, 18, 18, 18, 18, 18, 18, 18, 18, 18, 18, 18, 18, 18, 18, 18, 18, 18, 18, 18, 18, 18, 18, 18, 18, 18, 18, 18, 18, 18, 18, 18, 18, 18, 18, 18, 18, 18, 18, 18, 18, 18, 18, 18, 18, 18, 18, 18]}, {\"line\": {\"dash\": \"dash\"}, \"marker\": {\"color\": \"orange\"}, \"mode\": \"lines\", \"name\": \"2 Yr\", \"type\": \"scatter\", \"x\": [\"CMU Tepper\", \"UC Berkeley\", \"Georgia Tech\", \"Illinois-Urbana\", \"South California\", \"Wisconsin\", \"Boston Metropolitan\", \"Johns Hopkins\", \"Pennsylvania State\", \"Northwestern SPS\", \"Rutgers\", \"UCD Dublin\", \"Texas A&M\", \"Arizona State\", \"Northeastern\", \"Ohio\", \"Rice\", \"Indiana Bloomington\", \"Notre Dame\", \"IIT Chicago\", \"Syracuse\", \"California Riverside\", \"Iowa State\", \"Oregon State\", \"Missouri\", \"CUNY SPS\", \"American\", \"Oklahoma\", \"Colorado\", \"Oklahoma State\", \"Baker College\", \"Bay Path\", \"Bellevue\", \"Blanchardstown\", \"Capella\", \"Central Connecticut\", \"Colorado Technical\", \"DePaul\", \"DS TechInstitute\", \"Dakota State\", \"Elmhurst College\", \"Full Sail\", \"La Salle\", \"Lewis\", \"Maryville St. Louis\", \"Phoenix\", \"Regis\", \"Saint Mary's College\", \"South Dakota State\", \"Saint Joseph's\", \"Southern Methodist\", \"Southern New Hampshire\", \"Slippery Rock\", \"Alabama Huntsville\", \"Maryland College\", \"Villanova\", \"West Virginia\", \"Northcentral\", \"Edinburgh Napier\", \"Drexel\", \"Merrimack College\", \"Varna Free\", \"Johnson & Wales\", \"Kent State\"], \"y\": [24, 24, 24, 24, 24, 24, 24, 24, 24, 24, 24, 24, 24, 24, 24, 24, 24, 24, 24, 24, 24, 24, 24, 24, 24, 24, 24, 24, 24, 24, 24, 24, 24, 24, 24, 24, 24, 24, 24, 24, 24, 24, 24, 24, 24, 24, 24, 24, 24, 24, 24, 24, 24, 24, 24, 24, 24, 24, 24, 24, 24, 24, 24, 24]}],                        {\"height\": 450, \"legend\": {\"orientation\": \"h\", \"x\": 0.1, \"y\": 1.1}, \"paper_bgcolor\": \"#fff\", \"plot_bgcolor\": \"#fff\", \"template\": {\"data\": {\"bar\": [{\"error_x\": {\"color\": \"#2a3f5f\"}, \"error_y\": {\"color\": \"#2a3f5f\"}, \"marker\": {\"line\": {\"color\": \"#E5ECF6\", \"width\": 0.5}}, \"type\": \"bar\"}], \"barpolar\": [{\"marker\": {\"line\": {\"color\": \"#E5ECF6\", \"width\": 0.5}}, \"type\": \"barpolar\"}], \"carpet\": [{\"aaxis\": {\"endlinecolor\": \"#2a3f5f\", \"gridcolor\": \"white\", \"linecolor\": \"white\", \"minorgridcolor\": \"white\", \"startlinecolor\": \"#2a3f5f\"}, \"baxis\": {\"endlinecolor\": \"#2a3f5f\", \"gridcolor\": \"white\", \"linecolor\": \"white\", \"minorgridcolor\": \"white\", \"startlinecolor\": \"#2a3f5f\"}, \"type\": \"carpet\"}], \"choropleth\": [{\"colorbar\": {\"outlinewidth\": 0, \"ticks\": \"\"}, \"type\": \"choropleth\"}], \"contour\": [{\"colorbar\": {\"outlinewidth\": 0, \"ticks\": \"\"}, \"colorscale\": [[0.0, \"#0d0887\"], [0.1111111111111111, \"#46039f\"], [0.2222222222222222, \"#7201a8\"], [0.3333333333333333, \"#9c179e\"], [0.4444444444444444, \"#bd3786\"], [0.5555555555555556, \"#d8576b\"], [0.6666666666666666, \"#ed7953\"], [0.7777777777777778, \"#fb9f3a\"], [0.8888888888888888, \"#fdca26\"], [1.0, \"#f0f921\"]], \"type\": \"contour\"}], \"contourcarpet\": [{\"colorbar\": {\"outlinewidth\": 0, \"ticks\": \"\"}, \"type\": \"contourcarpet\"}], \"heatmap\": [{\"colorbar\": {\"outlinewidth\": 0, \"ticks\": \"\"}, \"colorscale\": [[0.0, \"#0d0887\"], [0.1111111111111111, \"#46039f\"], [0.2222222222222222, \"#7201a8\"], [0.3333333333333333, \"#9c179e\"], [0.4444444444444444, \"#bd3786\"], [0.5555555555555556, \"#d8576b\"], [0.6666666666666666, \"#ed7953\"], [0.7777777777777778, \"#fb9f3a\"], [0.8888888888888888, \"#fdca26\"], [1.0, \"#f0f921\"]], \"type\": \"heatmap\"}], \"heatmapgl\": [{\"colorbar\": {\"outlinewidth\": 0, \"ticks\": \"\"}, \"colorscale\": [[0.0, \"#0d0887\"], [0.1111111111111111, \"#46039f\"], [0.2222222222222222, \"#7201a8\"], [0.3333333333333333, \"#9c179e\"], [0.4444444444444444, \"#bd3786\"], [0.5555555555555556, \"#d8576b\"], [0.6666666666666666, \"#ed7953\"], [0.7777777777777778, \"#fb9f3a\"], [0.8888888888888888, \"#fdca26\"], [1.0, \"#f0f921\"]], \"type\": \"heatmapgl\"}], \"histogram\": [{\"marker\": {\"colorbar\": {\"outlinewidth\": 0, \"ticks\": \"\"}}, \"type\": \"histogram\"}], \"histogram2d\": [{\"colorbar\": {\"outlinewidth\": 0, \"ticks\": \"\"}, \"colorscale\": [[0.0, \"#0d0887\"], [0.1111111111111111, \"#46039f\"], [0.2222222222222222, \"#7201a8\"], [0.3333333333333333, \"#9c179e\"], [0.4444444444444444, \"#bd3786\"], [0.5555555555555556, \"#d8576b\"], [0.6666666666666666, \"#ed7953\"], [0.7777777777777778, \"#fb9f3a\"], [0.8888888888888888, \"#fdca26\"], [1.0, \"#f0f921\"]], \"type\": \"histogram2d\"}], \"histogram2dcontour\": [{\"colorbar\": {\"outlinewidth\": 0, \"ticks\": \"\"}, \"colorscale\": [[0.0, \"#0d0887\"], [0.1111111111111111, \"#46039f\"], [0.2222222222222222, \"#7201a8\"], [0.3333333333333333, \"#9c179e\"], [0.4444444444444444, \"#bd3786\"], [0.5555555555555556, \"#d8576b\"], [0.6666666666666666, \"#ed7953\"], [0.7777777777777778, \"#fb9f3a\"], [0.8888888888888888, \"#fdca26\"], [1.0, \"#f0f921\"]], \"type\": \"histogram2dcontour\"}], \"mesh3d\": [{\"colorbar\": {\"outlinewidth\": 0, \"ticks\": \"\"}, \"type\": \"mesh3d\"}], \"parcoords\": [{\"line\": {\"colorbar\": {\"outlinewidth\": 0, \"ticks\": \"\"}}, \"type\": \"parcoords\"}], \"pie\": [{\"automargin\": true, \"type\": \"pie\"}], \"scatter\": [{\"marker\": {\"colorbar\": {\"outlinewidth\": 0, \"ticks\": \"\"}}, \"type\": \"scatter\"}], \"scatter3d\": [{\"line\": {\"colorbar\": {\"outlinewidth\": 0, \"ticks\": \"\"}}, \"marker\": {\"colorbar\": {\"outlinewidth\": 0, \"ticks\": \"\"}}, \"type\": \"scatter3d\"}], \"scattercarpet\": [{\"marker\": {\"colorbar\": {\"outlinewidth\": 0, \"ticks\": \"\"}}, \"type\": \"scattercarpet\"}], \"scattergeo\": [{\"marker\": {\"colorbar\": {\"outlinewidth\": 0, \"ticks\": \"\"}}, \"type\": \"scattergeo\"}], \"scattergl\": [{\"marker\": {\"colorbar\": {\"outlinewidth\": 0, \"ticks\": \"\"}}, \"type\": \"scattergl\"}], \"scattermapbox\": [{\"marker\": {\"colorbar\": {\"outlinewidth\": 0, \"ticks\": \"\"}}, \"type\": \"scattermapbox\"}], \"scatterpolar\": [{\"marker\": {\"colorbar\": {\"outlinewidth\": 0, \"ticks\": \"\"}}, \"type\": \"scatterpolar\"}], \"scatterpolargl\": [{\"marker\": {\"colorbar\": {\"outlinewidth\": 0, \"ticks\": \"\"}}, \"type\": \"scatterpolargl\"}], \"scatterternary\": [{\"marker\": {\"colorbar\": {\"outlinewidth\": 0, \"ticks\": \"\"}}, \"type\": \"scatterternary\"}], \"surface\": [{\"colorbar\": {\"outlinewidth\": 0, \"ticks\": \"\"}, \"colorscale\": [[0.0, \"#0d0887\"], [0.1111111111111111, \"#46039f\"], [0.2222222222222222, \"#7201a8\"], [0.3333333333333333, \"#9c179e\"], [0.4444444444444444, \"#bd3786\"], [0.5555555555555556, \"#d8576b\"], [0.6666666666666666, \"#ed7953\"], [0.7777777777777778, \"#fb9f3a\"], [0.8888888888888888, \"#fdca26\"], [1.0, \"#f0f921\"]], \"type\": \"surface\"}], \"table\": [{\"cells\": {\"fill\": {\"color\": \"#EBF0F8\"}, \"line\": {\"color\": \"white\"}}, \"header\": {\"fill\": {\"color\": \"#C8D4E3\"}, \"line\": {\"color\": \"white\"}}, \"type\": \"table\"}]}, \"layout\": {\"annotationdefaults\": {\"arrowcolor\": \"#2a3f5f\", \"arrowhead\": 0, \"arrowwidth\": 1}, \"coloraxis\": {\"colorbar\": {\"outlinewidth\": 0, \"ticks\": \"\"}}, \"colorscale\": {\"diverging\": [[0, \"#8e0152\"], [0.1, \"#c51b7d\"], [0.2, \"#de77ae\"], [0.3, \"#f1b6da\"], [0.4, \"#fde0ef\"], [0.5, \"#f7f7f7\"], [0.6, \"#e6f5d0\"], [0.7, \"#b8e186\"], [0.8, \"#7fbc41\"], [0.9, \"#4d9221\"], [1, \"#276419\"]], \"sequential\": [[0.0, \"#0d0887\"], [0.1111111111111111, \"#46039f\"], [0.2222222222222222, \"#7201a8\"], [0.3333333333333333, \"#9c179e\"], [0.4444444444444444, \"#bd3786\"], [0.5555555555555556, \"#d8576b\"], [0.6666666666666666, \"#ed7953\"], [0.7777777777777778, \"#fb9f3a\"], [0.8888888888888888, \"#fdca26\"], [1.0, \"#f0f921\"]], \"sequentialminus\": [[0.0, \"#0d0887\"], [0.1111111111111111, \"#46039f\"], [0.2222222222222222, \"#7201a8\"], [0.3333333333333333, \"#9c179e\"], [0.4444444444444444, \"#bd3786\"], [0.5555555555555556, \"#d8576b\"], [0.6666666666666666, \"#ed7953\"], [0.7777777777777778, \"#fb9f3a\"], [0.8888888888888888, \"#fdca26\"], [1.0, \"#f0f921\"]]}, \"colorway\": [\"#636efa\", \"#EF553B\", \"#00cc96\", \"#ab63fa\", \"#FFA15A\", \"#19d3f3\", \"#FF6692\", \"#B6E880\", \"#FF97FF\", \"#FECB52\"], \"font\": {\"color\": \"#2a3f5f\"}, \"geo\": {\"bgcolor\": \"white\", \"lakecolor\": \"white\", \"landcolor\": \"#E5ECF6\", \"showlakes\": true, \"showland\": true, \"subunitcolor\": \"white\"}, \"hoverlabel\": {\"align\": \"left\"}, \"hovermode\": \"closest\", \"mapbox\": {\"style\": \"light\"}, \"paper_bgcolor\": \"white\", \"plot_bgcolor\": \"#E5ECF6\", \"polar\": {\"angularaxis\": {\"gridcolor\": \"white\", \"linecolor\": \"white\", \"ticks\": \"\"}, \"bgcolor\": \"#E5ECF6\", \"radialaxis\": {\"gridcolor\": \"white\", \"linecolor\": \"white\", \"ticks\": \"\"}}, \"scene\": {\"xaxis\": {\"backgroundcolor\": \"#E5ECF6\", \"gridcolor\": \"white\", \"gridwidth\": 2, \"linecolor\": \"white\", \"showbackground\": true, \"ticks\": \"\", \"zerolinecolor\": \"white\"}, \"yaxis\": {\"backgroundcolor\": \"#E5ECF6\", \"gridcolor\": \"white\", \"gridwidth\": 2, \"linecolor\": \"white\", \"showbackground\": true, \"ticks\": \"\", \"zerolinecolor\": \"white\"}, \"zaxis\": {\"backgroundcolor\": \"#E5ECF6\", \"gridcolor\": \"white\", \"gridwidth\": 2, \"linecolor\": \"white\", \"showbackground\": true, \"ticks\": \"\", \"zerolinecolor\": \"white\"}}, \"shapedefaults\": {\"line\": {\"color\": \"#2a3f5f\"}}, \"ternary\": {\"aaxis\": {\"gridcolor\": \"white\", \"linecolor\": \"white\", \"ticks\": \"\"}, \"baxis\": {\"gridcolor\": \"white\", \"linecolor\": \"white\", \"ticks\": \"\"}, \"bgcolor\": \"#E5ECF6\", \"caxis\": {\"gridcolor\": \"white\", \"linecolor\": \"white\", \"ticks\": \"\"}}, \"title\": {\"x\": 0.05}, \"xaxis\": {\"automargin\": true, \"gridcolor\": \"white\", \"linecolor\": \"white\", \"ticks\": \"\", \"title\": {\"standoff\": 15}, \"zerolinecolor\": \"white\", \"zerolinewidth\": 2}, \"yaxis\": {\"automargin\": true, \"gridcolor\": \"white\", \"linecolor\": \"white\", \"ticks\": \"\", \"title\": {\"standoff\": 15}, \"zerolinecolor\": \"white\", \"zerolinewidth\": 2}}}, \"title\": {\"text\": \"Figure 2. (From Author) Duration : University Degrees in Data Science\"}, \"width\": 900, \"xaxis\": {\"tickangle\": 45}},                        {\"responsive\": true}                    ).then(function(){\n",
       "                            \n",
       "var gd = document.getElementById('bac0eb9a-c577-413a-bb4f-9bb0c27e5e09');\n",
       "var x = new MutationObserver(function (mutations, observer) {{\n",
       "        var display = window.getComputedStyle(gd).display;\n",
       "        if (!display || display === 'none') {{\n",
       "            console.log([gd, 'removed!']);\n",
       "            Plotly.purge(gd);\n",
       "            observer.disconnect();\n",
       "        }}\n",
       "}});\n",
       "\n",
       "// Listen for the removal of the full notebook cells\n",
       "var notebookContainer = gd.closest('#notebook-container');\n",
       "if (notebookContainer) {{\n",
       "    x.observe(notebookContainer, {childList: true});\n",
       "}}\n",
       "\n",
       "// Listen for the clearing of the current output cell\n",
       "var outputEl = gd.closest('.output');\n",
       "if (outputEl) {{\n",
       "    x.observe(outputEl, {childList: true});\n",
       "}}\n",
       "\n",
       "                        })                };                });            </script>        </div>"
      ]
     },
     "metadata": {},
     "output_type": "display_data"
    }
   ],
   "source": [
    "# (Figures 1 and 2: Tuition Fee and Duration of University Degrees in Data Science)\n",
    "\n",
    "# show/hide functionality from https://stackoverflow.com/questions/31517194/how-to-hide-one-specific-cell-input-or-output-in-ipython-notebook\n",
    "tag = HTML('''<script>\n",
    "code_show=true; \n",
    "function code_toggle() {\n",
    "    if (code_show){\n",
    "        $('div.cell.code_cell.rendered.selected div.input').hide();\n",
    "    } else {\n",
    "        $('div.cell.code_cell.rendered.selected div.input').show();\n",
    "    }\n",
    "    code_show = !code_show\n",
    "} \n",
    "$( document ).ready(code_toggle);\n",
    "</script>\n",
    "<a href=\"javascript:code_toggle()\">show/hide author's derivation of charts</a>''')\n",
    "display(tag)\n",
    "\n",
    "university_data = \"\"\"CMU Tepper\t67575\t24\n",
    "UC Berkeley\t66150\t20\n",
    "Georgia Tech\t9900\t23\n",
    "Illinois-Urbana\t19200\t17.5\n",
    "South California\t55886\t24\n",
    "Wisconsin\t30600\t17.5\n",
    "Boston Metropolitan\t34400\t24\n",
    "Johns Hopkins\t53740\t17.5\n",
    "Pennsylvania State\t29250\t17.5\n",
    "Northwestern SPS\t53148\t18\n",
    "Rutgers\t23136\t24\n",
    "UCD Dublin\t7575\t36\n",
    "Texas A&M\t65000\t24\n",
    "Arizona State\t39622\t15\n",
    "Northeastern\t34200\t24\n",
    "Ohio\t35250\t20\n",
    "Rice\t129000\t24\n",
    "Indiana Bloomington\t15172\t18\n",
    "Notre Dame\t48000\t21\n",
    "IIT Chicago\t30985\t16\n",
    "Syracuse\t54000\t24\n",
    "California Riverside\t24990\t13\n",
    "Iowa State\t24000\t21\n",
    "Oregon State\t23445\t17.5\n",
    "Missouri\t34000\t24\n",
    "CUNY SPS\t13200\t17.5\n",
    "American\t54186\t15\n",
    "Oklahoma\t26103\t14\n",
    "Colorado\t39450\t24\n",
    "Oklahoma State\t33990\t24\n",
    "Baker College\t17100\t17.5\n",
    "Bay Path\t29340\t24\n",
    "Bellevue\t20700\t17.5\n",
    "Blanchardstown\t2320\t24\n",
    "Capella\t33360\t12\n",
    "Central Connecticut\t21681\t17.5\n",
    "Colorado Technical\t28080\t24\n",
    "DePaul\t43160\t17.5\n",
    "DS TechInstitute\t7900\t9\n",
    "Dakota State\t13320\t10\n",
    "Elmhurst College\t25350\t24\n",
    "Full Sail\t28008\t12\n",
    "La Salle\t26250\t20\n",
    "Lewis\t26235\t24\n",
    "Maryville St. Louis\t22950\t17.5\n",
    "Phoenix\t29316\t17.5\n",
    "Regis\t25560\t17.5\n",
    "Saint Mary's College\t31946\t24\n",
    "South Dakota State\t13320\t12\n",
    "Saint Joseph's\t17520\t24\n",
    "Southern Methodist\t57084\t28\n",
    "Southern New Hampshire\t22572\t15\n",
    "Slippery Rock\t16269\t10\n",
    "Alabama Huntsville\t21810\t12\n",
    "Maryland College\t24984\t17.5\n",
    "Villanova\t43400\t24\n",
    "West Virginia\t30690\t17.5\n",
    "Northcentral\t30530\t23\n",
    "Edinburgh Napier\t9060\t33\n",
    "Drexel\t56925\t24\n",
    "Merrimack College\t28320\t16\n",
    "Varna Free\t5391\t12\n",
    "Johnson & Wales\t23744\t24\n",
    "Kent State\t21524\t12\"\"\"\n",
    "\n",
    "university_data = university_data.split(\"\\n\")\n",
    "udf = pd.DataFrame()\n",
    "udf['name'] = [_.split(\"\t\")[0] for _ in university_data]\n",
    "udf['tution'] = [float(_.split(\"\t\")[1]) for _ in university_data]\n",
    "udf['months'] = [float(_.split(\"\t\")[2]) for _ in university_data]\n",
    "\n",
    "udf1 = udf[udf['months'] > 6]\n",
    "udf1 = udf1[udf1['months'] < 25]\n",
    "udf1 = udf1[udf1['tution'] < 100000]\n",
    "udf1['name1'] = udf1.apply(lambda x : \"\" if x['months'] in [9, 12, 17.5, 24] else x['name'], axis = 1)\n",
    "\n",
    "fig = go.Figure([go.Bar(x=udf['name'], y=udf['tution'], orientation=\"v\", name=\"Tution Fee\", marker=dict(color=\"orange\", opacity=0.5), ),\n",
    "                 go.Scatter(x=udf['name'], name=\"Median Household Income\", y=[59000]*len(udf), mode=\"lines\", marker=dict(color=\"red\"), line=dict(dash='dash')) ])\n",
    "fig.update_layout(title=\"Figure 1. (From Author) Tution Fee : University Degrees in Data Science\", plot_bgcolor='#fff', paper_bgcolor='#fff', legend=dict(orientation=\"h\", x=0.1, y=1.1), \n",
    "                 xaxis = dict(tickangle = 45), height=450, width=900)\n",
    "fig.show()\n",
    "\n",
    "fig = go.Figure([go.Bar(x=udf['name'], y=udf['months'], orientation=\"v\", marker=dict(color=\"#3498d5\", opacity=0.5, line=dict(color=\"#3498d5\")), name=\"Duration\"),\n",
    "                 go.Scatter(x=udf['name'], y=[12]*len(udf), mode=\"lines\", marker=dict(color=\"red\"), line=dict(dash='dash'), name=\"1 Yr\"), \n",
    "                 go.Scatter(x=udf['name'], y=[18]*len(udf), mode=\"lines\", marker=dict(color=\"blue\"), line=dict(dash='dash'), name=\"1.5 Yr\"), \n",
    "                 go.Scatter(x=udf['name'], y=[24]*len(udf), mode=\"lines\", marker=dict(color=\"orange\"), line=dict(dash='dash'), name=\"2 Yr\"), \n",
    "                ])\n",
    "fig.update_layout(title=\"Figure 2. (From Author) Duration : University Degrees in Data Science\", plot_bgcolor='#fff', paper_bgcolor='#fff', legend=dict(orientation=\"h\", x=0.1, y=1.1),\n",
    "                   xaxis = dict(tickangle = 45), height=450, width=900)\n",
    "fig.show()"
   ]
  },
  {
   "cell_type": "markdown",
   "metadata": {},
   "source": [
    "<p>\n",
    "    &emsp;&emsp;&emsp;The author concludes that <b>\"if someone wants to work as a data scientist (fresher or career change)...then it may or may not be worth it\"</b> to get a degree and <b>\"if someone wants to earn more, then it is not necessary to have university degree, </b>as one with good experience or good skills can grab very high compensation packages.\" He bases these conclusions off his findings that:\n",
    "    <ul>\n",
    "        <li>Most data scientists didn't get a degree in data science</li>\n",
    "        <li>Data science degrees don't usually lead to greater compensation</li>\n",
    "    </ul>\n",
    "</p>\n",
    "\n",
    "<p>\n",
    "    &emsp;&emsp;&emsp;Now, going into this I thought that I was going to prove this Kaggle grandmaster wrong (and make a lot of college admissions counselors happy in the process), but while the approach he used to test his hypothesis was flawed, <i>one</i> of his two findings still held true under my alternative approach. <b>In order to test whether it was worth going to school to learn data science, the author compared the outcomes of those that learned data science in school and those that didn't.</b> You can see this in the cell below copied from his analysis, where he differentiates between those that selected (potentially among other responses) 'University courses (resulting in a university degree)' when asked ''on which platforms have you begun or completed data science courses? Select all that apply' on the 2019 Kaggle ML & DS Survey.\n",
    "</p>"
   ]
  },
  {
   "cell_type": "code",
   "execution_count": 4,
   "metadata": {},
   "outputs": [],
   "source": [
    "df = pd.read_csv(\"multiple_choice_responses.csv\", low_memory = False)\n",
    "df = df[~df['Q5'].isin([\"Student\", \"Not employed\"])]\n",
    "#note that the author removed from his analysis those that indicated that they were either students or unemployed\n",
    "\n",
    "key1 = \"University Courses (resulting in a university degree)\"\n",
    "df1 = df[df['Q13_Part_10'] == key1]\n",
    "df2 = df[df['Q13_Part_10'] != key1]\n",
    "#df1 and df2 are used throughout the remainder of the author's analysis to segment those with degrees and those without"
   ]
  },
  {
   "cell_type": "markdown",
   "metadata": {},
   "source": [
    "<p>\n",
    "    &emsp;&emsp;&emsp;Without a question on the field of study of those that earned degrees, this <i>is</i> the most reasonable way to identify those that went to school to become data scientists. However, this approach overlooks the fact that since data science is so new, data scientists that were in school more than a few years ago likely didn't have access to data science curriculum, but rather, earned advanced degrees in related fields then transitioned in as data science grew in popularity. <b>As a result, the outcomes of older (and likely more experienced) respondents were used to argue that one did not need to go to school to become a data scientist, which I thought overlooked the fact that one still does need an advanced degree to become a data scientist.</b> One can see how this delineation can lead to a distorted view of the distribution of educational attainment among data scientists from the author's Figure 3, and how this lead to similar distributions of compensation between the two groups in the author's Figure 4.\n",
    "</p>"
   ]
  },
  {
   "cell_type": "markdown",
   "metadata": {},
   "source": [
    "<div id=\"3\"></div>"
   ]
  },
  {
   "cell_type": "code",
   "execution_count": 10,
   "metadata": {},
   "outputs": [
    {
     "data": {
      "text/html": [
       "<script>\n",
       "code_show=true; \n",
       "function code_toggle() {\n",
       "    if (code_show){\n",
       "        $('div.cell.code_cell.rendered.selected div.input').hide();\n",
       "    } else {\n",
       "        $('div.cell.code_cell.rendered.selected div.input').show();\n",
       "    }\n",
       "    code_show = !code_show\n",
       "} \n",
       "$( document ).ready(code_toggle);\n",
       "</script>\n",
       "<a href=\"javascript:code_toggle()\">show/hide author's derivation of charts</a>"
      ],
      "text/plain": [
       "<IPython.core.display.HTML object>"
      ]
     },
     "metadata": {},
     "output_type": "display_data"
    },
    {
     "data": {
      "image/png": "[encoded data removed]",
      "text/plain": [
       "<Figure size 864x864 with 12 Axes>"
      ]
     },
     "metadata": {},
     "output_type": "display_data"
    }
   ],
   "source": [
    "# (viz: most data scientists didn't get a degree in data science)\n",
    "\n",
    "# show/hide functionality from https://stackoverflow.com/questions/31517194/how-to-hide-one-specific-cell-input-or-output-in-ipython-notebook\n",
    "tag = HTML('''<script>\n",
    "code_show=true; \n",
    "function code_toggle() {\n",
    "    if (code_show){\n",
    "        $('div.cell.code_cell.rendered.selected div.input').hide();\n",
    "    } else {\n",
    "        $('div.cell.code_cell.rendered.selected div.input').show();\n",
    "    }\n",
    "    code_show = !code_show\n",
    "} \n",
    "$( document ).ready(code_toggle);\n",
    "</script>\n",
    "<a href=\"javascript:code_toggle()\">show/hide author's derivation of charts</a>''')\n",
    "display(tag)\n",
    "\n",
    "nations = [\"United States of America\", \"Canada\", \"Brazil\", \"Mexico\", \n",
    "           \"Germany\", \"Spain\", \"France\", \"Italy\", \n",
    "           \"India\", \"Japan\", \"China\", \"South Korea\"]\n",
    "nation_map = {\"United States of America\" : \"USA\", \"United Kingdom of Great Britain and Northern Ireland\" : \"UK\"}\n",
    "plt.figure(figsize=(12,12))\n",
    "plt.suptitle(\"Figure 3. (From Author) Most Data Scientists didn't get a Degree in Data Science\", x=0.45, y=.94, fontsize=17)\n",
    "vals = []\n",
    "for j in range(len(nations)):\n",
    "    country = nations[j]\n",
    "    country_df = df[df['Q3'] == country]\n",
    "    ddf1 = country_df[country_df['Q13_Part_10'] == key1]\n",
    "    ddf2 = country_df[country_df['Q13_Part_10'] != key1]\n",
    "    plt.subplot(4, 4, j+1)\n",
    "    \n",
    "    if j < 4:\n",
    "        colors = [\"#ff8ce0\", \"#60cfe6\"]\n",
    "    elif j < 8:\n",
    "        colors = [\"#ff8ce0\", \"#89e8a2\"]\n",
    "    else:\n",
    "        colors = [\"#ff8ce0\", \"#827ec4\"]\n",
    "    \n",
    "    vals.append(len(ddf1) / (len(ddf1) + len(ddf2)))    \n",
    "    plt.pie([len(ddf1), len(ddf2)],\n",
    "            labels=[\"With Degree\", \"No Degree\"],\n",
    "            autopct=\"%1.0f%%\", \n",
    "            colors=colors,\n",
    "            wedgeprops={\"linewidth\":5,\"edgecolor\":\"white\"})\n",
    "    if country in nation_map:\n",
    "        country = nation_map[country]\n",
    "    plt.title(r\"$\\bf{\" + country + \"}$\")"
   ]
  },
  {
   "cell_type": "markdown",
   "metadata": {},
   "source": [
    "[//]: # (Discussion of 'Most Data Scientists didn't get a Degree in Data Science)\n",
    "\n",
    "<p>\n",
    "    &emsp;&emsp;&emsp;As you can see, the share of data scientists <i>that learned data science through university</i> varies from 7% in Japan to over 25%, and is as high as 40% in Tunisia, Austria, New Zealand, and Greece (all not shown). In the United States, which I focus my analysis on, 27% of data scientists have learned data science through university courses. Using these statistics, <b>the author argues that since most data scientists didn't go to school to learn data science, people shouldn't go to school in order to become data scientists.</b>\n",
    "</p>"
   ]
  },
  {
   "cell_type": "markdown",
   "metadata": {},
   "source": [
    "<div id=\"4\"></div>"
   ]
  },
  {
   "cell_type": "code",
   "execution_count": 12,
   "metadata": {},
   "outputs": [
    {
     "data": {
      "text/html": [
       "<script>\n",
       "code_show=true; \n",
       "function code_toggle() {\n",
       "    if (code_show){\n",
       "        $('div.cell.code_cell.rendered.selected div.input').hide();\n",
       "    } else {\n",
       "        $('div.cell.code_cell.rendered.selected div.input').show();\n",
       "    }\n",
       "    code_show = !code_show\n",
       "} \n",
       "$( document ).ready(code_toggle);\n",
       "</script>\n",
       "<a href=\"javascript:code_toggle()\">show/hide author's derivation of charts</a>"
      ],
      "text/plain": [
       "<IPython.core.display.HTML object>"
      ]
     },
     "metadata": {},
     "output_type": "display_data"
    },
    {
     "data": {
      "application/vnd.plotly.v1+json": {
       "config": {
        "plotlyServerURL": "https://plot.ly"
       },
       "data": [
        {
         "marker": {
          "color": "#97c6e8",
          "opacity": 0.8
         },
         "name": "Without University Degree",
         "type": "bar",
         "x": [
          "10 - 15K",
          "15 - 20K",
          "20 - 25K",
          "25 - 30K",
          "30 - 40K",
          "40 - 50K",
          "50 - 60K",
          "60 - 70K",
          "70 - 80K",
          "80 - 90K",
          "90 - 100K",
          "100 - 125K",
          "125 - 150K",
          "150 - 200K",
          "200 - 250K",
          "250 - 300K",
          "300 - 500K",
          "> $500K"
         ],
         "y": [
          0.2375296912114014,
          0.4750593824228028,
          0.2375296912114014,
          0.2375296912114014,
          0.2375296912114014,
          0.9501187648456056,
          0.9501187648456056,
          0.9501187648456056,
          3.0878859857482186,
          5.225653206650831,
          5.938242280285036,
          18.28978622327791,
          19.477434679334916,
          26.36579572446556,
          7.600950118764845,
          2.6128266033254155,
          2.137767220902613,
          1.187648456057007
         ]
        },
        {
         "marker": {
          "color": "#fad46b",
          "opacity": 0.8
         },
         "name": "With University Degree",
         "type": "bar",
         "x": [
          "10 - 15K",
          "15 - 20K",
          "20 - 25K",
          "25 - 30K",
          "30 - 40K",
          "40 - 50K",
          "50 - 60K",
          "60 - 70K",
          "70 - 80K",
          "80 - 90K",
          "90 - 100K",
          "100 - 125K",
          "125 - 150K",
          "150 - 200K",
          "200 - 250K",
          "250 - 300K",
          "300 - 500K",
          "> $500K"
         ],
         "y": [
          0.34965034965034963,
          0.6993006993006993,
          0,
          0.6993006993006993,
          1.3986013986013985,
          1.3986013986013985,
          1.3986013986013985,
          3.1468531468531467,
          5.244755244755245,
          6.643356643356643,
          5.244755244755245,
          23.426573426573427,
          20.27972027972028,
          18.53146853146853,
          4.545454545454546,
          2.097902097902098,
          1.7482517482517483,
          1.048951048951049
         ]
        }
       ],
       "layout": {
        "annotations": [
         {
          "arrowhead": 7,
          "ax": 0,
          "ay": -40,
          "showarrow": true,
          "text": "More % of Individuals <br> Without University Degrees <br>Earning > $150K",
          "x": 15.5,
          "xref": "x",
          "y": 13,
          "yref": "y"
         },
         {
          "arrowhead": 7,
          "ax": 0,
          "ay": -40,
          "showarrow": true,
          "text": "With University Degrees <br> Earning More",
          "x": 11,
          "xref": "x",
          "y": 24,
          "yref": "y"
         }
        ],
        "barmode": "group",
        "height": 450,
        "legend": {
         "orientation": "h",
         "x": 0.01,
         "y": 1.1
        },
        "paper_bgcolor": "#fff",
        "plot_bgcolor": "#fff",
        "shapes": [
         {
          "fillcolor": "red",
          "layer": "below",
          "line": {
           "width": 0
          },
          "opacity": 0.1,
          "type": "rect",
          "x0": 12.5,
          "x1": 17.5,
          "xref": "x",
          "y0": 0.03,
          "y1": 1,
          "yref": "paper"
         },
         {
          "fillcolor": "green",
          "layer": "below",
          "line": {
           "width": 0
          },
          "opacity": 0.1,
          "type": "rect",
          "x0": 10.5,
          "x1": 12.4,
          "xref": "x",
          "y0": 0.5,
          "y1": 1,
          "yref": "paper"
         }
        ],
        "template": {
         "data": {
          "bar": [
           {
            "error_x": {
             "color": "#2a3f5f"
            },
            "error_y": {
             "color": "#2a3f5f"
            },
            "marker": {
             "line": {
              "color": "#E5ECF6",
              "width": 0.5
             }
            },
            "type": "bar"
           }
          ],
          "barpolar": [
           {
            "marker": {
             "line": {
              "color": "#E5ECF6",
              "width": 0.5
             }
            },
            "type": "barpolar"
           }
          ],
          "carpet": [
           {
            "aaxis": {
             "endlinecolor": "#2a3f5f",
             "gridcolor": "white",
             "linecolor": "white",
             "minorgridcolor": "white",
             "startlinecolor": "#2a3f5f"
            },
            "baxis": {
             "endlinecolor": "#2a3f5f",
             "gridcolor": "white",
             "linecolor": "white",
             "minorgridcolor": "white",
             "startlinecolor": "#2a3f5f"
            },
            "type": "carpet"
           }
          ],
          "choropleth": [
           {
            "colorbar": {
             "outlinewidth": 0,
             "ticks": ""
            },
            "type": "choropleth"
           }
          ],
          "contour": [
           {
            "colorbar": {
             "outlinewidth": 0,
             "ticks": ""
            },
            "colorscale": [
             [
              0,
              "#0d0887"
             ],
             [
              0.1111111111111111,
              "#46039f"
             ],
             [
              0.2222222222222222,
              "#7201a8"
             ],
             [
              0.3333333333333333,
              "#9c179e"
             ],
             [
              0.4444444444444444,
              "#bd3786"
             ],
             [
              0.5555555555555556,
              "#d8576b"
             ],
             [
              0.6666666666666666,
              "#ed7953"
             ],
             [
              0.7777777777777778,
              "#fb9f3a"
             ],
             [
              0.8888888888888888,
              "#fdca26"
             ],
             [
              1,
              "#f0f921"
             ]
            ],
            "type": "contour"
           }
          ],
          "contourcarpet": [
           {
            "colorbar": {
             "outlinewidth": 0,
             "ticks": ""
            },
            "type": "contourcarpet"
           }
          ],
          "heatmap": [
           {
            "colorbar": {
             "outlinewidth": 0,
             "ticks": ""
            },
            "colorscale": [
             [
              0,
              "#0d0887"
             ],
             [
              0.1111111111111111,
              "#46039f"
             ],
             [
              0.2222222222222222,
              "#7201a8"
             ],
             [
              0.3333333333333333,
              "#9c179e"
             ],
             [
              0.4444444444444444,
              "#bd3786"
             ],
             [
              0.5555555555555556,
              "#d8576b"
             ],
             [
              0.6666666666666666,
              "#ed7953"
             ],
             [
              0.7777777777777778,
              "#fb9f3a"
             ],
             [
              0.8888888888888888,
              "#fdca26"
             ],
             [
              1,
              "#f0f921"
             ]
            ],
            "type": "heatmap"
           }
          ],
          "heatmapgl": [
           {
            "colorbar": {
             "outlinewidth": 0,
             "ticks": ""
            },
            "colorscale": [
             [
              0,
              "#0d0887"
             ],
             [
              0.1111111111111111,
              "#46039f"
             ],
             [
              0.2222222222222222,
              "#7201a8"
             ],
             [
              0.3333333333333333,
              "#9c179e"
             ],
             [
              0.4444444444444444,
              "#bd3786"
             ],
             [
              0.5555555555555556,
              "#d8576b"
             ],
             [
              0.6666666666666666,
              "#ed7953"
             ],
             [
              0.7777777777777778,
              "#fb9f3a"
             ],
             [
              0.8888888888888888,
              "#fdca26"
             ],
             [
              1,
              "#f0f921"
             ]
            ],
            "type": "heatmapgl"
           }
          ],
          "histogram": [
           {
            "marker": {
             "colorbar": {
              "outlinewidth": 0,
              "ticks": ""
             }
            },
            "type": "histogram"
           }
          ],
          "histogram2d": [
           {
            "colorbar": {
             "outlinewidth": 0,
             "ticks": ""
            },
            "colorscale": [
             [
              0,
              "#0d0887"
             ],
             [
              0.1111111111111111,
              "#46039f"
             ],
             [
              0.2222222222222222,
              "#7201a8"
             ],
             [
              0.3333333333333333,
              "#9c179e"
             ],
             [
              0.4444444444444444,
              "#bd3786"
             ],
             [
              0.5555555555555556,
              "#d8576b"
             ],
             [
              0.6666666666666666,
              "#ed7953"
             ],
             [
              0.7777777777777778,
              "#fb9f3a"
             ],
             [
              0.8888888888888888,
              "#fdca26"
             ],
             [
              1,
              "#f0f921"
             ]
            ],
            "type": "histogram2d"
           }
          ],
          "histogram2dcontour": [
           {
            "colorbar": {
             "outlinewidth": 0,
             "ticks": ""
            },
            "colorscale": [
             [
              0,
              "#0d0887"
             ],
             [
              0.1111111111111111,
              "#46039f"
             ],
             [
              0.2222222222222222,
              "#7201a8"
             ],
             [
              0.3333333333333333,
              "#9c179e"
             ],
             [
              0.4444444444444444,
              "#bd3786"
             ],
             [
              0.5555555555555556,
              "#d8576b"
             ],
             [
              0.6666666666666666,
              "#ed7953"
             ],
             [
              0.7777777777777778,
              "#fb9f3a"
             ],
             [
              0.8888888888888888,
              "#fdca26"
             ],
             [
              1,
              "#f0f921"
             ]
            ],
            "type": "histogram2dcontour"
           }
          ],
          "mesh3d": [
           {
            "colorbar": {
             "outlinewidth": 0,
             "ticks": ""
            },
            "type": "mesh3d"
           }
          ],
          "parcoords": [
           {
            "line": {
             "colorbar": {
              "outlinewidth": 0,
              "ticks": ""
             }
            },
            "type": "parcoords"
           }
          ],
          "pie": [
           {
            "automargin": true,
            "type": "pie"
           }
          ],
          "scatter": [
           {
            "marker": {
             "colorbar": {
              "outlinewidth": 0,
              "ticks": ""
             }
            },
            "type": "scatter"
           }
          ],
          "scatter3d": [
           {
            "line": {
             "colorbar": {
              "outlinewidth": 0,
              "ticks": ""
             }
            },
            "marker": {
             "colorbar": {
              "outlinewidth": 0,
              "ticks": ""
             }
            },
            "type": "scatter3d"
           }
          ],
          "scattercarpet": [
           {
            "marker": {
             "colorbar": {
              "outlinewidth": 0,
              "ticks": ""
             }
            },
            "type": "scattercarpet"
           }
          ],
          "scattergeo": [
           {
            "marker": {
             "colorbar": {
              "outlinewidth": 0,
              "ticks": ""
             }
            },
            "type": "scattergeo"
           }
          ],
          "scattergl": [
           {
            "marker": {
             "colorbar": {
              "outlinewidth": 0,
              "ticks": ""
             }
            },
            "type": "scattergl"
           }
          ],
          "scattermapbox": [
           {
            "marker": {
             "colorbar": {
              "outlinewidth": 0,
              "ticks": ""
             }
            },
            "type": "scattermapbox"
           }
          ],
          "scatterpolar": [
           {
            "marker": {
             "colorbar": {
              "outlinewidth": 0,
              "ticks": ""
             }
            },
            "type": "scatterpolar"
           }
          ],
          "scatterpolargl": [
           {
            "marker": {
             "colorbar": {
              "outlinewidth": 0,
              "ticks": ""
             }
            },
            "type": "scatterpolargl"
           }
          ],
          "scatterternary": [
           {
            "marker": {
             "colorbar": {
              "outlinewidth": 0,
              "ticks": ""
             }
            },
            "type": "scatterternary"
           }
          ],
          "surface": [
           {
            "colorbar": {
             "outlinewidth": 0,
             "ticks": ""
            },
            "colorscale": [
             [
              0,
              "#0d0887"
             ],
             [
              0.1111111111111111,
              "#46039f"
             ],
             [
              0.2222222222222222,
              "#7201a8"
             ],
             [
              0.3333333333333333,
              "#9c179e"
             ],
             [
              0.4444444444444444,
              "#bd3786"
             ],
             [
              0.5555555555555556,
              "#d8576b"
             ],
             [
              0.6666666666666666,
              "#ed7953"
             ],
             [
              0.7777777777777778,
              "#fb9f3a"
             ],
             [
              0.8888888888888888,
              "#fdca26"
             ],
             [
              1,
              "#f0f921"
             ]
            ],
            "type": "surface"
           }
          ],
          "table": [
           {
            "cells": {
             "fill": {
              "color": "#EBF0F8"
             },
             "line": {
              "color": "white"
             }
            },
            "header": {
             "fill": {
              "color": "#C8D4E3"
             },
             "line": {
              "color": "white"
             }
            },
            "type": "table"
           }
          ]
         },
         "layout": {
          "annotationdefaults": {
           "arrowcolor": "#2a3f5f",
           "arrowhead": 0,
           "arrowwidth": 1
          },
          "coloraxis": {
           "colorbar": {
            "outlinewidth": 0,
            "ticks": ""
           }
          },
          "colorscale": {
           "diverging": [
            [
             0,
             "#8e0152"
            ],
            [
             0.1,
             "#c51b7d"
            ],
            [
             0.2,
             "#de77ae"
            ],
            [
             0.3,
             "#f1b6da"
            ],
            [
             0.4,
             "#fde0ef"
            ],
            [
             0.5,
             "#f7f7f7"
            ],
            [
             0.6,
             "#e6f5d0"
            ],
            [
             0.7,
             "#b8e186"
            ],
            [
             0.8,
             "#7fbc41"
            ],
            [
             0.9,
             "#4d9221"
            ],
            [
             1,
             "#276419"
            ]
           ],
           "sequential": [
            [
             0,
             "#0d0887"
            ],
            [
             0.1111111111111111,
             "#46039f"
            ],
            [
             0.2222222222222222,
             "#7201a8"
            ],
            [
             0.3333333333333333,
             "#9c179e"
            ],
            [
             0.4444444444444444,
             "#bd3786"
            ],
            [
             0.5555555555555556,
             "#d8576b"
            ],
            [
             0.6666666666666666,
             "#ed7953"
            ],
            [
             0.7777777777777778,
             "#fb9f3a"
            ],
            [
             0.8888888888888888,
             "#fdca26"
            ],
            [
             1,
             "#f0f921"
            ]
           ],
           "sequentialminus": [
            [
             0,
             "#0d0887"
            ],
            [
             0.1111111111111111,
             "#46039f"
            ],
            [
             0.2222222222222222,
             "#7201a8"
            ],
            [
             0.3333333333333333,
             "#9c179e"
            ],
            [
             0.4444444444444444,
             "#bd3786"
            ],
            [
             0.5555555555555556,
             "#d8576b"
            ],
            [
             0.6666666666666666,
             "#ed7953"
            ],
            [
             0.7777777777777778,
             "#fb9f3a"
            ],
            [
             0.8888888888888888,
             "#fdca26"
            ],
            [
             1,
             "#f0f921"
            ]
           ]
          },
          "colorway": [
           "#636efa",
           "#EF553B",
           "#00cc96",
           "#ab63fa",
           "#FFA15A",
           "#19d3f3",
           "#FF6692",
           "#B6E880",
           "#FF97FF",
           "#FECB52"
          ],
          "font": {
           "color": "#2a3f5f"
          },
          "geo": {
           "bgcolor": "white",
           "lakecolor": "white",
           "landcolor": "#E5ECF6",
           "showlakes": true,
           "showland": true,
           "subunitcolor": "white"
          },
          "hoverlabel": {
           "align": "left"
          },
          "hovermode": "closest",
          "mapbox": {
           "style": "light"
          },
          "paper_bgcolor": "white",
          "plot_bgcolor": "#E5ECF6",
          "polar": {
           "angularaxis": {
            "gridcolor": "white",
            "linecolor": "white",
            "ticks": ""
           },
           "bgcolor": "#E5ECF6",
           "radialaxis": {
            "gridcolor": "white",
            "linecolor": "white",
            "ticks": ""
           }
          },
          "scene": {
           "xaxis": {
            "backgroundcolor": "#E5ECF6",
            "gridcolor": "white",
            "gridwidth": 2,
            "linecolor": "white",
            "showbackground": true,
            "ticks": "",
            "zerolinecolor": "white"
           },
           "yaxis": {
            "backgroundcolor": "#E5ECF6",
            "gridcolor": "white",
            "gridwidth": 2,
            "linecolor": "white",
            "showbackground": true,
            "ticks": "",
            "zerolinecolor": "white"
           },
           "zaxis": {
            "backgroundcolor": "#E5ECF6",
            "gridcolor": "white",
            "gridwidth": 2,
            "linecolor": "white",
            "showbackground": true,
            "ticks": "",
            "zerolinecolor": "white"
           }
          },
          "shapedefaults": {
           "line": {
            "color": "#2a3f5f"
           }
          },
          "ternary": {
           "aaxis": {
            "gridcolor": "white",
            "linecolor": "white",
            "ticks": ""
           },
           "baxis": {
            "gridcolor": "white",
            "linecolor": "white",
            "ticks": ""
           },
           "bgcolor": "#E5ECF6",
           "caxis": {
            "gridcolor": "white",
            "linecolor": "white",
            "ticks": ""
           }
          },
          "title": {
           "x": 0.05
          },
          "xaxis": {
           "automargin": true,
           "gridcolor": "white",
           "linecolor": "white",
           "ticks": "",
           "title": {
            "standoff": 15
           },
           "zerolinecolor": "white",
           "zerolinewidth": 2
          },
          "yaxis": {
           "automargin": true,
           "gridcolor": "white",
           "linecolor": "white",
           "ticks": "",
           "title": {
            "standoff": 15
           },
           "zerolinecolor": "white",
           "zerolinewidth": 2
          }
         }
        },
        "title": {
         "text": "Figure 4. (From Author) Data Science Degrees don't Yield Greater Compensation"
        },
        "width": 900,
        "xaxis": {
         "showgrid": false,
         "title": {
          "text": "US$"
         },
         "zeroline": false
        },
        "yaxis": {
         "showgrid": false,
         "title": {
          "text": "% of respondents"
         },
         "zeroline": false
        }
       }
      },
      "text/html": [
       "<div>                            <div id=\"f701ac37-2a4f-4b13-806f-8c35bfe2e7dd\" class=\"plotly-graph-div\" style=\"height:450px; width:900px;\"></div>            <script type=\"text/javascript\">                require([\"plotly\"], function(Plotly) {                    window.PLOTLYENV=window.PLOTLYENV || {};                                    if (document.getElementById(\"f701ac37-2a4f-4b13-806f-8c35bfe2e7dd\")) {                    Plotly.newPlot(                        \"f701ac37-2a4f-4b13-806f-8c35bfe2e7dd\",                        [{\"marker\": {\"color\": \"#97c6e8\", \"opacity\": 0.8}, \"name\": \"Without University Degree\", \"type\": \"bar\", \"x\": [\"10 - 15K\", \"15 - 20K\", \"20 - 25K\", \"25 - 30K\", \"30 - 40K\", \"40 - 50K\", \"50 - 60K\", \"60 - 70K\", \"70 - 80K\", \"80 - 90K\", \"90 - 100K\", \"100 - 125K\", \"125 - 150K\", \"150 - 200K\", \"200 - 250K\", \"250 - 300K\", \"300 - 500K\", \"> $500K\"], \"y\": [0.2375296912114014, 0.4750593824228028, 0.2375296912114014, 0.2375296912114014, 0.2375296912114014, 0.9501187648456056, 0.9501187648456056, 0.9501187648456056, 3.0878859857482186, 5.225653206650831, 5.938242280285036, 18.28978622327791, 19.477434679334916, 26.36579572446556, 7.600950118764845, 2.6128266033254155, 2.137767220902613, 1.187648456057007]}, {\"marker\": {\"color\": \"#fad46b\", \"opacity\": 0.8}, \"name\": \"With University Degree\", \"type\": \"bar\", \"x\": [\"10 - 15K\", \"15 - 20K\", \"20 - 25K\", \"25 - 30K\", \"30 - 40K\", \"40 - 50K\", \"50 - 60K\", \"60 - 70K\", \"70 - 80K\", \"80 - 90K\", \"90 - 100K\", \"100 - 125K\", \"125 - 150K\", \"150 - 200K\", \"200 - 250K\", \"250 - 300K\", \"300 - 500K\", \"> $500K\"], \"y\": [0.34965034965034963, 0.6993006993006993, 0, 0.6993006993006993, 1.3986013986013985, 1.3986013986013985, 1.3986013986013985, 3.1468531468531467, 5.244755244755245, 6.643356643356643, 5.244755244755245, 23.426573426573427, 20.27972027972028, 18.53146853146853, 4.545454545454546, 2.097902097902098, 1.7482517482517483, 1.048951048951049]}],                        {\"annotations\": [{\"arrowhead\": 7, \"ax\": 0, \"ay\": -40, \"showarrow\": true, \"text\": \"More % of Individuals <br> Without University Degrees <br>Earning > $150K\", \"x\": 15.5, \"xref\": \"x\", \"y\": 13, \"yref\": \"y\"}, {\"arrowhead\": 7, \"ax\": 0, \"ay\": -40, \"showarrow\": true, \"text\": \"With University Degrees <br> Earning More\", \"x\": 11, \"xref\": \"x\", \"y\": 24, \"yref\": \"y\"}], \"barmode\": \"group\", \"height\": 450, \"legend\": {\"orientation\": \"h\", \"x\": 0.01, \"y\": 1.1}, \"paper_bgcolor\": \"#fff\", \"plot_bgcolor\": \"#fff\", \"shapes\": [{\"fillcolor\": \"red\", \"layer\": \"below\", \"line\": {\"width\": 0}, \"opacity\": 0.1, \"type\": \"rect\", \"x0\": 12.5, \"x1\": 17.5, \"xref\": \"x\", \"y0\": 0.03, \"y1\": 1, \"yref\": \"paper\"}, {\"fillcolor\": \"green\", \"layer\": \"below\", \"line\": {\"width\": 0}, \"opacity\": 0.1, \"type\": \"rect\", \"x0\": 10.5, \"x1\": 12.4, \"xref\": \"x\", \"y0\": 0.5, \"y1\": 1, \"yref\": \"paper\"}], \"template\": {\"data\": {\"bar\": [{\"error_x\": {\"color\": \"#2a3f5f\"}, \"error_y\": {\"color\": \"#2a3f5f\"}, \"marker\": {\"line\": {\"color\": \"#E5ECF6\", \"width\": 0.5}}, \"type\": \"bar\"}], \"barpolar\": [{\"marker\": {\"line\": {\"color\": \"#E5ECF6\", \"width\": 0.5}}, \"type\": \"barpolar\"}], \"carpet\": [{\"aaxis\": {\"endlinecolor\": \"#2a3f5f\", \"gridcolor\": \"white\", \"linecolor\": \"white\", \"minorgridcolor\": \"white\", \"startlinecolor\": \"#2a3f5f\"}, \"baxis\": {\"endlinecolor\": \"#2a3f5f\", \"gridcolor\": \"white\", \"linecolor\": \"white\", \"minorgridcolor\": \"white\", \"startlinecolor\": \"#2a3f5f\"}, \"type\": \"carpet\"}], \"choropleth\": [{\"colorbar\": {\"outlinewidth\": 0, \"ticks\": \"\"}, \"type\": \"choropleth\"}], \"contour\": [{\"colorbar\": {\"outlinewidth\": 0, \"ticks\": \"\"}, \"colorscale\": [[0.0, \"#0d0887\"], [0.1111111111111111, \"#46039f\"], [0.2222222222222222, \"#7201a8\"], [0.3333333333333333, \"#9c179e\"], [0.4444444444444444, \"#bd3786\"], [0.5555555555555556, \"#d8576b\"], [0.6666666666666666, \"#ed7953\"], [0.7777777777777778, \"#fb9f3a\"], [0.8888888888888888, \"#fdca26\"], [1.0, \"#f0f921\"]], \"type\": \"contour\"}], \"contourcarpet\": [{\"colorbar\": {\"outlinewidth\": 0, \"ticks\": \"\"}, \"type\": \"contourcarpet\"}], \"heatmap\": [{\"colorbar\": {\"outlinewidth\": 0, \"ticks\": \"\"}, \"colorscale\": [[0.0, \"#0d0887\"], [0.1111111111111111, \"#46039f\"], [0.2222222222222222, \"#7201a8\"], [0.3333333333333333, \"#9c179e\"], [0.4444444444444444, \"#bd3786\"], [0.5555555555555556, \"#d8576b\"], [0.6666666666666666, \"#ed7953\"], [0.7777777777777778, \"#fb9f3a\"], [0.8888888888888888, \"#fdca26\"], [1.0, \"#f0f921\"]], \"type\": \"heatmap\"}], \"heatmapgl\": [{\"colorbar\": {\"outlinewidth\": 0, \"ticks\": \"\"}, \"colorscale\": [[0.0, \"#0d0887\"], [0.1111111111111111, \"#46039f\"], [0.2222222222222222, \"#7201a8\"], [0.3333333333333333, \"#9c179e\"], [0.4444444444444444, \"#bd3786\"], [0.5555555555555556, \"#d8576b\"], [0.6666666666666666, \"#ed7953\"], [0.7777777777777778, \"#fb9f3a\"], [0.8888888888888888, \"#fdca26\"], [1.0, \"#f0f921\"]], \"type\": \"heatmapgl\"}], \"histogram\": [{\"marker\": {\"colorbar\": {\"outlinewidth\": 0, \"ticks\": \"\"}}, \"type\": \"histogram\"}], \"histogram2d\": [{\"colorbar\": {\"outlinewidth\": 0, \"ticks\": \"\"}, \"colorscale\": [[0.0, \"#0d0887\"], [0.1111111111111111, \"#46039f\"], [0.2222222222222222, \"#7201a8\"], [0.3333333333333333, \"#9c179e\"], [0.4444444444444444, \"#bd3786\"], [0.5555555555555556, \"#d8576b\"], [0.6666666666666666, \"#ed7953\"], [0.7777777777777778, \"#fb9f3a\"], [0.8888888888888888, \"#fdca26\"], [1.0, \"#f0f921\"]], \"type\": \"histogram2d\"}], \"histogram2dcontour\": [{\"colorbar\": {\"outlinewidth\": 0, \"ticks\": \"\"}, \"colorscale\": [[0.0, \"#0d0887\"], [0.1111111111111111, \"#46039f\"], [0.2222222222222222, \"#7201a8\"], [0.3333333333333333, \"#9c179e\"], [0.4444444444444444, \"#bd3786\"], [0.5555555555555556, \"#d8576b\"], [0.6666666666666666, \"#ed7953\"], [0.7777777777777778, \"#fb9f3a\"], [0.8888888888888888, \"#fdca26\"], [1.0, \"#f0f921\"]], \"type\": \"histogram2dcontour\"}], \"mesh3d\": [{\"colorbar\": {\"outlinewidth\": 0, \"ticks\": \"\"}, \"type\": \"mesh3d\"}], \"parcoords\": [{\"line\": {\"colorbar\": {\"outlinewidth\": 0, \"ticks\": \"\"}}, \"type\": \"parcoords\"}], \"pie\": [{\"automargin\": true, \"type\": \"pie\"}], \"scatter\": [{\"marker\": {\"colorbar\": {\"outlinewidth\": 0, \"ticks\": \"\"}}, \"type\": \"scatter\"}], \"scatter3d\": [{\"line\": {\"colorbar\": {\"outlinewidth\": 0, \"ticks\": \"\"}}, \"marker\": {\"colorbar\": {\"outlinewidth\": 0, \"ticks\": \"\"}}, \"type\": \"scatter3d\"}], \"scattercarpet\": [{\"marker\": {\"colorbar\": {\"outlinewidth\": 0, \"ticks\": \"\"}}, \"type\": \"scattercarpet\"}], \"scattergeo\": [{\"marker\": {\"colorbar\": {\"outlinewidth\": 0, \"ticks\": \"\"}}, \"type\": \"scattergeo\"}], \"scattergl\": [{\"marker\": {\"colorbar\": {\"outlinewidth\": 0, \"ticks\": \"\"}}, \"type\": \"scattergl\"}], \"scattermapbox\": [{\"marker\": {\"colorbar\": {\"outlinewidth\": 0, \"ticks\": \"\"}}, \"type\": \"scattermapbox\"}], \"scatterpolar\": [{\"marker\": {\"colorbar\": {\"outlinewidth\": 0, \"ticks\": \"\"}}, \"type\": \"scatterpolar\"}], \"scatterpolargl\": [{\"marker\": {\"colorbar\": {\"outlinewidth\": 0, \"ticks\": \"\"}}, \"type\": \"scatterpolargl\"}], \"scatterternary\": [{\"marker\": {\"colorbar\": {\"outlinewidth\": 0, \"ticks\": \"\"}}, \"type\": \"scatterternary\"}], \"surface\": [{\"colorbar\": {\"outlinewidth\": 0, \"ticks\": \"\"}, \"colorscale\": [[0.0, \"#0d0887\"], [0.1111111111111111, \"#46039f\"], [0.2222222222222222, \"#7201a8\"], [0.3333333333333333, \"#9c179e\"], [0.4444444444444444, \"#bd3786\"], [0.5555555555555556, \"#d8576b\"], [0.6666666666666666, \"#ed7953\"], [0.7777777777777778, \"#fb9f3a\"], [0.8888888888888888, \"#fdca26\"], [1.0, \"#f0f921\"]], \"type\": \"surface\"}], \"table\": [{\"cells\": {\"fill\": {\"color\": \"#EBF0F8\"}, \"line\": {\"color\": \"white\"}}, \"header\": {\"fill\": {\"color\": \"#C8D4E3\"}, \"line\": {\"color\": \"white\"}}, \"type\": \"table\"}]}, \"layout\": {\"annotationdefaults\": {\"arrowcolor\": \"#2a3f5f\", \"arrowhead\": 0, \"arrowwidth\": 1}, \"coloraxis\": {\"colorbar\": {\"outlinewidth\": 0, \"ticks\": \"\"}}, \"colorscale\": {\"diverging\": [[0, \"#8e0152\"], [0.1, \"#c51b7d\"], [0.2, \"#de77ae\"], [0.3, \"#f1b6da\"], [0.4, \"#fde0ef\"], [0.5, \"#f7f7f7\"], [0.6, \"#e6f5d0\"], [0.7, \"#b8e186\"], [0.8, \"#7fbc41\"], [0.9, \"#4d9221\"], [1, \"#276419\"]], \"sequential\": [[0.0, \"#0d0887\"], [0.1111111111111111, \"#46039f\"], [0.2222222222222222, \"#7201a8\"], [0.3333333333333333, \"#9c179e\"], [0.4444444444444444, \"#bd3786\"], [0.5555555555555556, \"#d8576b\"], [0.6666666666666666, \"#ed7953\"], [0.7777777777777778, \"#fb9f3a\"], [0.8888888888888888, \"#fdca26\"], [1.0, \"#f0f921\"]], \"sequentialminus\": [[0.0, \"#0d0887\"], [0.1111111111111111, \"#46039f\"], [0.2222222222222222, \"#7201a8\"], [0.3333333333333333, \"#9c179e\"], [0.4444444444444444, \"#bd3786\"], [0.5555555555555556, \"#d8576b\"], [0.6666666666666666, \"#ed7953\"], [0.7777777777777778, \"#fb9f3a\"], [0.8888888888888888, \"#fdca26\"], [1.0, \"#f0f921\"]]}, \"colorway\": [\"#636efa\", \"#EF553B\", \"#00cc96\", \"#ab63fa\", \"#FFA15A\", \"#19d3f3\", \"#FF6692\", \"#B6E880\", \"#FF97FF\", \"#FECB52\"], \"font\": {\"color\": \"#2a3f5f\"}, \"geo\": {\"bgcolor\": \"white\", \"lakecolor\": \"white\", \"landcolor\": \"#E5ECF6\", \"showlakes\": true, \"showland\": true, \"subunitcolor\": \"white\"}, \"hoverlabel\": {\"align\": \"left\"}, \"hovermode\": \"closest\", \"mapbox\": {\"style\": \"light\"}, \"paper_bgcolor\": \"white\", \"plot_bgcolor\": \"#E5ECF6\", \"polar\": {\"angularaxis\": {\"gridcolor\": \"white\", \"linecolor\": \"white\", \"ticks\": \"\"}, \"bgcolor\": \"#E5ECF6\", \"radialaxis\": {\"gridcolor\": \"white\", \"linecolor\": \"white\", \"ticks\": \"\"}}, \"scene\": {\"xaxis\": {\"backgroundcolor\": \"#E5ECF6\", \"gridcolor\": \"white\", \"gridwidth\": 2, \"linecolor\": \"white\", \"showbackground\": true, \"ticks\": \"\", \"zerolinecolor\": \"white\"}, \"yaxis\": {\"backgroundcolor\": \"#E5ECF6\", \"gridcolor\": \"white\", \"gridwidth\": 2, \"linecolor\": \"white\", \"showbackground\": true, \"ticks\": \"\", \"zerolinecolor\": \"white\"}, \"zaxis\": {\"backgroundcolor\": \"#E5ECF6\", \"gridcolor\": \"white\", \"gridwidth\": 2, \"linecolor\": \"white\", \"showbackground\": true, \"ticks\": \"\", \"zerolinecolor\": \"white\"}}, \"shapedefaults\": {\"line\": {\"color\": \"#2a3f5f\"}}, \"ternary\": {\"aaxis\": {\"gridcolor\": \"white\", \"linecolor\": \"white\", \"ticks\": \"\"}, \"baxis\": {\"gridcolor\": \"white\", \"linecolor\": \"white\", \"ticks\": \"\"}, \"bgcolor\": \"#E5ECF6\", \"caxis\": {\"gridcolor\": \"white\", \"linecolor\": \"white\", \"ticks\": \"\"}}, \"title\": {\"x\": 0.05}, \"xaxis\": {\"automargin\": true, \"gridcolor\": \"white\", \"linecolor\": \"white\", \"ticks\": \"\", \"title\": {\"standoff\": 15}, \"zerolinecolor\": \"white\", \"zerolinewidth\": 2}, \"yaxis\": {\"automargin\": true, \"gridcolor\": \"white\", \"linecolor\": \"white\", \"ticks\": \"\", \"title\": {\"standoff\": 15}, \"zerolinecolor\": \"white\", \"zerolinewidth\": 2}}}, \"title\": {\"text\": \"Figure 4. (From Author) Data Science Degrees don't Yield Greater Compensation\"}, \"width\": 900, \"xaxis\": {\"showgrid\": false, \"title\": {\"text\": \"US$\"}, \"zeroline\": false}, \"yaxis\": {\"showgrid\": false, \"title\": {\"text\": \"% of respondents\"}, \"zeroline\": false}},                        {\"responsive\": true}                    ).then(function(){\n",
       "                            \n",
       "var gd = document.getElementById('f701ac37-2a4f-4b13-806f-8c35bfe2e7dd');\n",
       "var x = new MutationObserver(function (mutations, observer) {{\n",
       "        var display = window.getComputedStyle(gd).display;\n",
       "        if (!display || display === 'none') {{\n",
       "            console.log([gd, 'removed!']);\n",
       "            Plotly.purge(gd);\n",
       "            observer.disconnect();\n",
       "        }}\n",
       "}});\n",
       "\n",
       "// Listen for the removal of the full notebook cells\n",
       "var notebookContainer = gd.closest('#notebook-container');\n",
       "if (notebookContainer) {{\n",
       "    x.observe(notebookContainer, {childList: true});\n",
       "}}\n",
       "\n",
       "// Listen for the clearing of the current output cell\n",
       "var outputEl = gd.closest('.output');\n",
       "if (outputEl) {{\n",
       "    x.observe(outputEl, {childList: true});\n",
       "}}\n",
       "\n",
       "                        })                };                });            </script>        </div>"
      ]
     },
     "metadata": {},
     "output_type": "display_data"
    }
   ],
   "source": [
    "# (viz: data science degrees don't yield greater compensation)\n",
    "\n",
    "# show/hide functionality from https://stackoverflow.com/questions/31517194/how-to-hide-one-specific-cell-input-or-output-in-ipython-notebook\n",
    "tag = HTML('''<script>\n",
    "code_show=true; \n",
    "function code_toggle() {\n",
    "    if (code_show){\n",
    "        $('div.cell.code_cell.rendered.selected div.input').hide();\n",
    "    } else {\n",
    "        $('div.cell.code_cell.rendered.selected div.input').show();\n",
    "    }\n",
    "    code_show = !code_show\n",
    "} \n",
    "$( document ).ready(code_toggle);\n",
    "</script>\n",
    "<a href=\"javascript:code_toggle()\">show/hide author's derivation of charts</a>''')\n",
    "display(tag)\n",
    "\n",
    "col_yes = \"#fad46b\"\n",
    "col_no = \"#97c6e8\"\n",
    "\n",
    "def compute_stats(df, col, xaxis=None):\n",
    "    agg_df = df[col].value_counts().to_frame()\n",
    "    total = sum(agg_df[col])\n",
    "    agg_df['percent'] = agg_df[col].apply(lambda x : 100*x / total)\n",
    "    agg_df = agg_df.reset_index().rename(columns = {col: \"count\", 'index' : col})\n",
    "    agg_doc = {}\n",
    "    if xaxis != None:\n",
    "        for _ in xaxis:\n",
    "            try:\n",
    "                agg_doc[_] = agg_df[agg_df[col] == _]['percent'].iloc(0)[0]\n",
    "            except:\n",
    "                agg_doc[_] = 0\n",
    "    return agg_doc\n",
    "\n",
    "def plot_ver_bars(c, ht=500, annot = True):\n",
    "    dxf1 = df1[df1['Q5'].isin([\"Data Scientist\"])]\n",
    "    dxf2 = df2[df2['Q5'].isin([\"Data Scientist\"])]\n",
    "\n",
    "    count_df1 = dxf1[dxf1[\"Q3\"].isin([c])]\n",
    "    count_df2 = dxf2[dxf2[\"Q3\"].isin([c])]\n",
    "    col = \"Q10\"\n",
    "    xaxis = [\"$0-999\", \"1,000-1,999\", \"2,000-2,999\", \"3,000-3,999\", \"4,000-4,999\", \"5,000-7,499\", \"7,500-9,999\", \"10,000-14,999\", \"15,000-19,999\", \"20,000-24,999\", \"25,000-29,999\", \"30,000-39,999\", \"40,000-49,999\", \"50,000-59,999\", \"60,000-69,999\", \"70,000-79,999\", \"80,000-89,999\", \"90,000-99,999\", \"100,000-124,999\", \"125,000-149,999\", \"150,000-199,999\", \"200,000-249,999\", \"250,000-299,999\", \"300,000-500,000\", \"> $500,000\"]\n",
    "    t1_doc = compute_stats(count_df1, col, xaxis=xaxis)\n",
    "    t2_doc = compute_stats(count_df2, col, xaxis=xaxis)\n",
    "\n",
    "    ## plot the bar chart\n",
    "    xaxis1 = [\"$0K\", \"1 - 1K\", \"2 - 2K\", \"3 - 3K\", \"4 - 4K\", \"5 - 7.5K\", \"7.5 - 10K\", \"10 - 15K\", \"15 - 20K\", \"20 - 25K\", \"25 - 30K\", \"30 - 40K\", \"40 - 50K\", \"50 - 60K\", \"60 - 70K\", \"70 - 80K\", \"80 - 90K\", \"90 - 100K\", \"100 - 125K\", \"125 - 150K\", \"150 - 200K\", \"200 - 250K\", \"250 - 300K\", \"300 - 500K\", \"> $500K\"]\n",
    "    fig = go.Figure(data=[\n",
    "                go.Bar(name='Without University Degree', x=xaxis1[7:], y=[t2_doc[_] for _ in xaxis][7:], marker=dict(color=col_no, opacity=0.8)),\n",
    "                go.Bar(name='With University Degree', x=xaxis1[7:], y=[t1_doc[_] for _ in xaxis][7:], marker=dict(color=col_yes, opacity=0.8))])\n",
    "    fig.update_layout(barmode='group', title=\"Figure 4. (From Author) Data Science Degrees don't Yield Greater Compensation\", \n",
    "                      yaxis = dict(title=\"% of respondents\"), xaxis = dict(title=\"US$\"), height=450, width=900,\n",
    "                      legend=dict(orientation=\"h\", x=0.01, y=1.1), plot_bgcolor='#fff', paper_bgcolor='#fff')\n",
    "                                 \n",
    "    fig.update_xaxes(showgrid=False, zeroline=False)\n",
    "    fig.update_yaxes(showgrid=False, zeroline=False)\n",
    "    if annot == True:\n",
    "        fig.update_layout(annotations=[go.layout.Annotation(x=15.5, y=13, xref=\"x\", yref=\"y\", \n",
    "                                                       text=\"More % of Individuals <br> Without University Degrees <br>Earning > $150K\", \n",
    "                                                       showarrow=True, arrowhead=7, ax=0, ay=-40), \n",
    "                                 go.layout.Annotation(x=11, y=24, xref=\"x\", yref=\"y\", \n",
    "                                                       text=\"With University Degrees <br> Earning More\", \n",
    "                                                       showarrow=True, arrowhead=7, ax=0, ay=-40)])\n",
    "        fig.add_shape(go.layout.Shape(\n",
    "                    type=\"rect\",\n",
    "                    xref=\"x\",\n",
    "                    yref=\"paper\",\n",
    "                    x0=12.5,\n",
    "                    x1=17.5,\n",
    "                    y0=0.03,\n",
    "                    y1=1,\n",
    "                    fillcolor=\"red\",\n",
    "                    opacity=0.1,\n",
    "                    layer=\"below\",\n",
    "                    line_width=0))\n",
    "        fig.add_shape(go.layout.Shape(\n",
    "                    type=\"rect\",\n",
    "                    xref=\"x\",\n",
    "                    yref=\"paper\",\n",
    "                    x0=10.5,\n",
    "                    x1=12.4,\n",
    "                    y0=0.5,\n",
    "                    y1=1,\n",
    "                    fillcolor=\"green\",\n",
    "                    opacity=0.1,\n",
    "                    layer=\"below\",\n",
    "                    line_width=0))\n",
    "    \n",
    "    \n",
    "    fig.show()\n",
    "    return count_df1, count_df2\n",
    "\n",
    "nations = [\"United States of America\", \"Germany\"]\n",
    "c1, c2 = plot_ver_bars(nations[0])"
   ]
  },
  {
   "cell_type": "markdown",
   "metadata": {},
   "source": [
    "[//]: # (Discussion of 'Data Science Degrees don't Yield Greater Compensation)\n",
    "\n",
    "<p>\n",
    "&emsp;&emsp;&emsp;The author then goes on to argue based on the chart above that <b>\"looking at every bucket, it is clear that there are no significant differences (in terms of compensation) between the two groups.\"</b> He finds it \"very interesting to note that there are more percentage of respondents without university degrees than those who have who are earning in the range of USD 150K- 300K. This area is highlighted in red.\" Bear in mind that, as we'll see in my analysis, individuals in the blue category tend to be older (and further in their careers) and so one should not conclude based on this chart that people earn the same compensation regardless of whether or not they go to school to learn data science.\n",
    "</p>"
   ]
  },
  {
   "cell_type": "markdown",
   "metadata": {},
   "source": [
    "[//]: # (2. Where the Author was Right: Advanced Degrees don't earn Data Scientists Higher Compensation)\n",
    "\n",
    "<div id=\"5\"></div>\n",
    "<font color='#088a5a' size=6>2. Where the Author was Right: Advanced Degrees don't earn Data Scientists Higher Compensation</font><br>"
   ]
  },
  {
   "cell_type": "markdown",
   "metadata": {},
   "source": [
    "[//]: # (body introducing where the author was right)\n",
    "\n",
    "<p>\n",
    "    &emsp;&emsp;&emsp;Yes, you read that correctly. The person that's about to spend ~\\$50k on an MS in data science is telling you that an advanced degree in data science won't earn you more money than your data scientist counterparts with mere bachelor's degrees. This flies in the face of reason, veteran economists, the admissions counselors for the reach schools that I'd like to flatter, and everybody in between. In 2013, the wage premium on a master's degree over a bachelor's was $12,000 <a href=\"https://www.bls.gov/careeroutlook/2015/article/should-i-get-a-masters-degree.htm\">according to the US Bureau of Labor Statistics.</a> The BLS notes, however, that \"in some occupations, workers with a master's degree earned about the same as, or even less than, those with a bachelor's degree.\" They point to this happening in professions that don't often require advanced degrees, though, so this is an interesting dynamic. And at first glance at Figure 5, it's not a dynamic one would even notice.\n",
    "</p>"
   ]
  },
  {
   "cell_type": "markdown",
   "metadata": {},
   "source": [
    "<div id=\"6\"></div>"
   ]
  },
  {
   "cell_type": "code",
   "execution_count": 13,
   "metadata": {},
   "outputs": [
    {
     "data": {
      "text/html": [
       "<script>\n",
       "code_show=true; \n",
       "function code_toggle() {\n",
       "    if (code_show){\n",
       "        $('div.cell.code_cell.rendered.selected div.input').hide();\n",
       "    } else {\n",
       "        $('div.cell.code_cell.rendered.selected div.input').show();\n",
       "    }\n",
       "    code_show = !code_show\n",
       "} \n",
       "$( document ).ready(code_toggle);\n",
       "</script>\n",
       "<a href=\"javascript:code_toggle()\">show/hide my derivation of charts</a>"
      ],
      "text/plain": [
       "<IPython.core.display.HTML object>"
      ]
     },
     "metadata": {},
     "output_type": "display_data"
    },
    {
     "data": {
      "application/vnd.plotly.v1+json": {
       "config": {
        "plotlyServerURL": "https://plot.ly"
       },
       "data": [
        {
         "marker": {
          "color": [
           "#FF97CD",
           "#6EE9FF",
           "#0BDAFF",
           "#00C0E1",
           "#C12173"
          ],
          "opacity": 1
         },
         "name": "Educational Attainment",
         "type": "bar",
         "x": [
          "Some college",
          "Bachelor’s degree",
          "Master’s degree",
          "Doctoral degree",
          "Professional degree"
         ],
         "y": [
          192999.6,
          132054.05454545454,
          133231.7939632546,
          158202.33163265305,
          180555.05555555556
         ]
        }
       ],
       "layout": {
        "height": 450,
        "plot_bgcolor": "#fff",
        "template": {
         "data": {
          "bar": [
           {
            "error_x": {
             "color": "#2a3f5f"
            },
            "error_y": {
             "color": "#2a3f5f"
            },
            "marker": {
             "line": {
              "color": "#E5ECF6",
              "width": 0.5
             }
            },
            "type": "bar"
           }
          ],
          "barpolar": [
           {
            "marker": {
             "line": {
              "color": "#E5ECF6",
              "width": 0.5
             }
            },
            "type": "barpolar"
           }
          ],
          "carpet": [
           {
            "aaxis": {
             "endlinecolor": "#2a3f5f",
             "gridcolor": "white",
             "linecolor": "white",
             "minorgridcolor": "white",
             "startlinecolor": "#2a3f5f"
            },
            "baxis": {
             "endlinecolor": "#2a3f5f",
             "gridcolor": "white",
             "linecolor": "white",
             "minorgridcolor": "white",
             "startlinecolor": "#2a3f5f"
            },
            "type": "carpet"
           }
          ],
          "choropleth": [
           {
            "colorbar": {
             "outlinewidth": 0,
             "ticks": ""
            },
            "type": "choropleth"
           }
          ],
          "contour": [
           {
            "colorbar": {
             "outlinewidth": 0,
             "ticks": ""
            },
            "colorscale": [
             [
              0,
              "#0d0887"
             ],
             [
              0.1111111111111111,
              "#46039f"
             ],
             [
              0.2222222222222222,
              "#7201a8"
             ],
             [
              0.3333333333333333,
              "#9c179e"
             ],
             [
              0.4444444444444444,
              "#bd3786"
             ],
             [
              0.5555555555555556,
              "#d8576b"
             ],
             [
              0.6666666666666666,
              "#ed7953"
             ],
             [
              0.7777777777777778,
              "#fb9f3a"
             ],
             [
              0.8888888888888888,
              "#fdca26"
             ],
             [
              1,
              "#f0f921"
             ]
            ],
            "type": "contour"
           }
          ],
          "contourcarpet": [
           {
            "colorbar": {
             "outlinewidth": 0,
             "ticks": ""
            },
            "type": "contourcarpet"
           }
          ],
          "heatmap": [
           {
            "colorbar": {
             "outlinewidth": 0,
             "ticks": ""
            },
            "colorscale": [
             [
              0,
              "#0d0887"
             ],
             [
              0.1111111111111111,
              "#46039f"
             ],
             [
              0.2222222222222222,
              "#7201a8"
             ],
             [
              0.3333333333333333,
              "#9c179e"
             ],
             [
              0.4444444444444444,
              "#bd3786"
             ],
             [
              0.5555555555555556,
              "#d8576b"
             ],
             [
              0.6666666666666666,
              "#ed7953"
             ],
             [
              0.7777777777777778,
              "#fb9f3a"
             ],
             [
              0.8888888888888888,
              "#fdca26"
             ],
             [
              1,
              "#f0f921"
             ]
            ],
            "type": "heatmap"
           }
          ],
          "heatmapgl": [
           {
            "colorbar": {
             "outlinewidth": 0,
             "ticks": ""
            },
            "colorscale": [
             [
              0,
              "#0d0887"
             ],
             [
              0.1111111111111111,
              "#46039f"
             ],
             [
              0.2222222222222222,
              "#7201a8"
             ],
             [
              0.3333333333333333,
              "#9c179e"
             ],
             [
              0.4444444444444444,
              "#bd3786"
             ],
             [
              0.5555555555555556,
              "#d8576b"
             ],
             [
              0.6666666666666666,
              "#ed7953"
             ],
             [
              0.7777777777777778,
              "#fb9f3a"
             ],
             [
              0.8888888888888888,
              "#fdca26"
             ],
             [
              1,
              "#f0f921"
             ]
            ],
            "type": "heatmapgl"
           }
          ],
          "histogram": [
           {
            "marker": {
             "colorbar": {
              "outlinewidth": 0,
              "ticks": ""
             }
            },
            "type": "histogram"
           }
          ],
          "histogram2d": [
           {
            "colorbar": {
             "outlinewidth": 0,
             "ticks": ""
            },
            "colorscale": [
             [
              0,
              "#0d0887"
             ],
             [
              0.1111111111111111,
              "#46039f"
             ],
             [
              0.2222222222222222,
              "#7201a8"
             ],
             [
              0.3333333333333333,
              "#9c179e"
             ],
             [
              0.4444444444444444,
              "#bd3786"
             ],
             [
              0.5555555555555556,
              "#d8576b"
             ],
             [
              0.6666666666666666,
              "#ed7953"
             ],
             [
              0.7777777777777778,
              "#fb9f3a"
             ],
             [
              0.8888888888888888,
              "#fdca26"
             ],
             [
              1,
              "#f0f921"
             ]
            ],
            "type": "histogram2d"
           }
          ],
          "histogram2dcontour": [
           {
            "colorbar": {
             "outlinewidth": 0,
             "ticks": ""
            },
            "colorscale": [
             [
              0,
              "#0d0887"
             ],
             [
              0.1111111111111111,
              "#46039f"
             ],
             [
              0.2222222222222222,
              "#7201a8"
             ],
             [
              0.3333333333333333,
              "#9c179e"
             ],
             [
              0.4444444444444444,
              "#bd3786"
             ],
             [
              0.5555555555555556,
              "#d8576b"
             ],
             [
              0.6666666666666666,
              "#ed7953"
             ],
             [
              0.7777777777777778,
              "#fb9f3a"
             ],
             [
              0.8888888888888888,
              "#fdca26"
             ],
             [
              1,
              "#f0f921"
             ]
            ],
            "type": "histogram2dcontour"
           }
          ],
          "mesh3d": [
           {
            "colorbar": {
             "outlinewidth": 0,
             "ticks": ""
            },
            "type": "mesh3d"
           }
          ],
          "parcoords": [
           {
            "line": {
             "colorbar": {
              "outlinewidth": 0,
              "ticks": ""
             }
            },
            "type": "parcoords"
           }
          ],
          "pie": [
           {
            "automargin": true,
            "type": "pie"
           }
          ],
          "scatter": [
           {
            "marker": {
             "colorbar": {
              "outlinewidth": 0,
              "ticks": ""
             }
            },
            "type": "scatter"
           }
          ],
          "scatter3d": [
           {
            "line": {
             "colorbar": {
              "outlinewidth": 0,
              "ticks": ""
             }
            },
            "marker": {
             "colorbar": {
              "outlinewidth": 0,
              "ticks": ""
             }
            },
            "type": "scatter3d"
           }
          ],
          "scattercarpet": [
           {
            "marker": {
             "colorbar": {
              "outlinewidth": 0,
              "ticks": ""
             }
            },
            "type": "scattercarpet"
           }
          ],
          "scattergeo": [
           {
            "marker": {
             "colorbar": {
              "outlinewidth": 0,
              "ticks": ""
             }
            },
            "type": "scattergeo"
           }
          ],
          "scattergl": [
           {
            "marker": {
             "colorbar": {
              "outlinewidth": 0,
              "ticks": ""
             }
            },
            "type": "scattergl"
           }
          ],
          "scattermapbox": [
           {
            "marker": {
             "colorbar": {
              "outlinewidth": 0,
              "ticks": ""
             }
            },
            "type": "scattermapbox"
           }
          ],
          "scatterpolar": [
           {
            "marker": {
             "colorbar": {
              "outlinewidth": 0,
              "ticks": ""
             }
            },
            "type": "scatterpolar"
           }
          ],
          "scatterpolargl": [
           {
            "marker": {
             "colorbar": {
              "outlinewidth": 0,
              "ticks": ""
             }
            },
            "type": "scatterpolargl"
           }
          ],
          "scatterternary": [
           {
            "marker": {
             "colorbar": {
              "outlinewidth": 0,
              "ticks": ""
             }
            },
            "type": "scatterternary"
           }
          ],
          "surface": [
           {
            "colorbar": {
             "outlinewidth": 0,
             "ticks": ""
            },
            "colorscale": [
             [
              0,
              "#0d0887"
             ],
             [
              0.1111111111111111,
              "#46039f"
             ],
             [
              0.2222222222222222,
              "#7201a8"
             ],
             [
              0.3333333333333333,
              "#9c179e"
             ],
             [
              0.4444444444444444,
              "#bd3786"
             ],
             [
              0.5555555555555556,
              "#d8576b"
             ],
             [
              0.6666666666666666,
              "#ed7953"
             ],
             [
              0.7777777777777778,
              "#fb9f3a"
             ],
             [
              0.8888888888888888,
              "#fdca26"
             ],
             [
              1,
              "#f0f921"
             ]
            ],
            "type": "surface"
           }
          ],
          "table": [
           {
            "cells": {
             "fill": {
              "color": "#EBF0F8"
             },
             "line": {
              "color": "white"
             }
            },
            "header": {
             "fill": {
              "color": "#C8D4E3"
             },
             "line": {
              "color": "white"
             }
            },
            "type": "table"
           }
          ]
         },
         "layout": {
          "annotationdefaults": {
           "arrowcolor": "#2a3f5f",
           "arrowhead": 0,
           "arrowwidth": 1
          },
          "coloraxis": {
           "colorbar": {
            "outlinewidth": 0,
            "ticks": ""
           }
          },
          "colorscale": {
           "diverging": [
            [
             0,
             "#8e0152"
            ],
            [
             0.1,
             "#c51b7d"
            ],
            [
             0.2,
             "#de77ae"
            ],
            [
             0.3,
             "#f1b6da"
            ],
            [
             0.4,
             "#fde0ef"
            ],
            [
             0.5,
             "#f7f7f7"
            ],
            [
             0.6,
             "#e6f5d0"
            ],
            [
             0.7,
             "#b8e186"
            ],
            [
             0.8,
             "#7fbc41"
            ],
            [
             0.9,
             "#4d9221"
            ],
            [
             1,
             "#276419"
            ]
           ],
           "sequential": [
            [
             0,
             "#0d0887"
            ],
            [
             0.1111111111111111,
             "#46039f"
            ],
            [
             0.2222222222222222,
             "#7201a8"
            ],
            [
             0.3333333333333333,
             "#9c179e"
            ],
            [
             0.4444444444444444,
             "#bd3786"
            ],
            [
             0.5555555555555556,
             "#d8576b"
            ],
            [
             0.6666666666666666,
             "#ed7953"
            ],
            [
             0.7777777777777778,
             "#fb9f3a"
            ],
            [
             0.8888888888888888,
             "#fdca26"
            ],
            [
             1,
             "#f0f921"
            ]
           ],
           "sequentialminus": [
            [
             0,
             "#0d0887"
            ],
            [
             0.1111111111111111,
             "#46039f"
            ],
            [
             0.2222222222222222,
             "#7201a8"
            ],
            [
             0.3333333333333333,
             "#9c179e"
            ],
            [
             0.4444444444444444,
             "#bd3786"
            ],
            [
             0.5555555555555556,
             "#d8576b"
            ],
            [
             0.6666666666666666,
             "#ed7953"
            ],
            [
             0.7777777777777778,
             "#fb9f3a"
            ],
            [
             0.8888888888888888,
             "#fdca26"
            ],
            [
             1,
             "#f0f921"
            ]
           ]
          },
          "colorway": [
           "#636efa",
           "#EF553B",
           "#00cc96",
           "#ab63fa",
           "#FFA15A",
           "#19d3f3",
           "#FF6692",
           "#B6E880",
           "#FF97FF",
           "#FECB52"
          ],
          "font": {
           "color": "#2a3f5f"
          },
          "geo": {
           "bgcolor": "white",
           "lakecolor": "white",
           "landcolor": "#E5ECF6",
           "showlakes": true,
           "showland": true,
           "subunitcolor": "white"
          },
          "hoverlabel": {
           "align": "left"
          },
          "hovermode": "closest",
          "mapbox": {
           "style": "light"
          },
          "paper_bgcolor": "white",
          "plot_bgcolor": "#E5ECF6",
          "polar": {
           "angularaxis": {
            "gridcolor": "white",
            "linecolor": "white",
            "ticks": ""
           },
           "bgcolor": "#E5ECF6",
           "radialaxis": {
            "gridcolor": "white",
            "linecolor": "white",
            "ticks": ""
           }
          },
          "scene": {
           "xaxis": {
            "backgroundcolor": "#E5ECF6",
            "gridcolor": "white",
            "gridwidth": 2,
            "linecolor": "white",
            "showbackground": true,
            "ticks": "",
            "zerolinecolor": "white"
           },
           "yaxis": {
            "backgroundcolor": "#E5ECF6",
            "gridcolor": "white",
            "gridwidth": 2,
            "linecolor": "white",
            "showbackground": true,
            "ticks": "",
            "zerolinecolor": "white"
           },
           "zaxis": {
            "backgroundcolor": "#E5ECF6",
            "gridcolor": "white",
            "gridwidth": 2,
            "linecolor": "white",
            "showbackground": true,
            "ticks": "",
            "zerolinecolor": "white"
           }
          },
          "shapedefaults": {
           "line": {
            "color": "#2a3f5f"
           }
          },
          "ternary": {
           "aaxis": {
            "gridcolor": "white",
            "linecolor": "white",
            "ticks": ""
           },
           "baxis": {
            "gridcolor": "white",
            "linecolor": "white",
            "ticks": ""
           },
           "bgcolor": "#E5ECF6",
           "caxis": {
            "gridcolor": "white",
            "linecolor": "white",
            "ticks": ""
           }
          },
          "title": {
           "x": 0.05
          },
          "xaxis": {
           "automargin": true,
           "gridcolor": "white",
           "linecolor": "white",
           "ticks": "",
           "title": {
            "standoff": 15
           },
           "zerolinecolor": "white",
           "zerolinewidth": 2
          },
          "yaxis": {
           "automargin": true,
           "gridcolor": "white",
           "linecolor": "white",
           "ticks": "",
           "title": {
            "standoff": 15
           },
           "zerolinecolor": "white",
           "zerolinewidth": 2
          }
         }
        },
        "title": {
         "text": "Figure 5. Compensation of Data Scientists by Educational Attainment"
        },
        "width": 900,
        "xaxis": {
         "showgrid": false,
         "title": {
          "text": "Highest Level of Education Completed"
         },
         "zeroline": false
        },
        "yaxis": {
         "showgrid": false,
         "title": {
          "text": "Annual Compensation ($USD)"
         },
         "zeroline": false
        }
       }
      },
      "text/html": [
       "<div>                            <div id=\"b4fc647d-8d2d-4a19-8d69-515dc02372ba\" class=\"plotly-graph-div\" style=\"height:450px; width:900px;\"></div>            <script type=\"text/javascript\">                require([\"plotly\"], function(Plotly) {                    window.PLOTLYENV=window.PLOTLYENV || {};                                    if (document.getElementById(\"b4fc647d-8d2d-4a19-8d69-515dc02372ba\")) {                    Plotly.newPlot(                        \"b4fc647d-8d2d-4a19-8d69-515dc02372ba\",                        [{\"marker\": {\"color\": [\"#FF97CD\", \"#6EE9FF\", \"#0BDAFF\", \"#00C0E1\", \"#C12173\"], \"opacity\": 1}, \"name\": \"Educational Attainment\", \"type\": \"bar\", \"x\": [\"Some college\", \"Bachelor\\u2019s degree\", \"Master\\u2019s degree\", \"Doctoral degree\", \"Professional degree\"], \"y\": [192999.6, 132054.05454545454, 133231.7939632546, 158202.33163265305, 180555.05555555556]}],                        {\"height\": 450, \"plot_bgcolor\": \"#fff\", \"template\": {\"data\": {\"bar\": [{\"error_x\": {\"color\": \"#2a3f5f\"}, \"error_y\": {\"color\": \"#2a3f5f\"}, \"marker\": {\"line\": {\"color\": \"#E5ECF6\", \"width\": 0.5}}, \"type\": \"bar\"}], \"barpolar\": [{\"marker\": {\"line\": {\"color\": \"#E5ECF6\", \"width\": 0.5}}, \"type\": \"barpolar\"}], \"carpet\": [{\"aaxis\": {\"endlinecolor\": \"#2a3f5f\", \"gridcolor\": \"white\", \"linecolor\": \"white\", \"minorgridcolor\": \"white\", \"startlinecolor\": \"#2a3f5f\"}, \"baxis\": {\"endlinecolor\": \"#2a3f5f\", \"gridcolor\": \"white\", \"linecolor\": \"white\", \"minorgridcolor\": \"white\", \"startlinecolor\": \"#2a3f5f\"}, \"type\": \"carpet\"}], \"choropleth\": [{\"colorbar\": {\"outlinewidth\": 0, \"ticks\": \"\"}, \"type\": \"choropleth\"}], \"contour\": [{\"colorbar\": {\"outlinewidth\": 0, \"ticks\": \"\"}, \"colorscale\": [[0.0, \"#0d0887\"], [0.1111111111111111, \"#46039f\"], [0.2222222222222222, \"#7201a8\"], [0.3333333333333333, \"#9c179e\"], [0.4444444444444444, \"#bd3786\"], [0.5555555555555556, \"#d8576b\"], [0.6666666666666666, \"#ed7953\"], [0.7777777777777778, \"#fb9f3a\"], [0.8888888888888888, \"#fdca26\"], [1.0, \"#f0f921\"]], \"type\": \"contour\"}], \"contourcarpet\": [{\"colorbar\": {\"outlinewidth\": 0, \"ticks\": \"\"}, \"type\": \"contourcarpet\"}], \"heatmap\": [{\"colorbar\": {\"outlinewidth\": 0, \"ticks\": \"\"}, \"colorscale\": [[0.0, \"#0d0887\"], [0.1111111111111111, \"#46039f\"], [0.2222222222222222, \"#7201a8\"], [0.3333333333333333, \"#9c179e\"], [0.4444444444444444, \"#bd3786\"], [0.5555555555555556, \"#d8576b\"], [0.6666666666666666, \"#ed7953\"], [0.7777777777777778, \"#fb9f3a\"], [0.8888888888888888, \"#fdca26\"], [1.0, \"#f0f921\"]], \"type\": \"heatmap\"}], \"heatmapgl\": [{\"colorbar\": {\"outlinewidth\": 0, \"ticks\": \"\"}, \"colorscale\": [[0.0, \"#0d0887\"], [0.1111111111111111, \"#46039f\"], [0.2222222222222222, \"#7201a8\"], [0.3333333333333333, \"#9c179e\"], [0.4444444444444444, \"#bd3786\"], [0.5555555555555556, \"#d8576b\"], [0.6666666666666666, \"#ed7953\"], [0.7777777777777778, \"#fb9f3a\"], [0.8888888888888888, \"#fdca26\"], [1.0, \"#f0f921\"]], \"type\": \"heatmapgl\"}], \"histogram\": [{\"marker\": {\"colorbar\": {\"outlinewidth\": 0, \"ticks\": \"\"}}, \"type\": \"histogram\"}], \"histogram2d\": [{\"colorbar\": {\"outlinewidth\": 0, \"ticks\": \"\"}, \"colorscale\": [[0.0, \"#0d0887\"], [0.1111111111111111, \"#46039f\"], [0.2222222222222222, \"#7201a8\"], [0.3333333333333333, \"#9c179e\"], [0.4444444444444444, \"#bd3786\"], [0.5555555555555556, \"#d8576b\"], [0.6666666666666666, \"#ed7953\"], [0.7777777777777778, \"#fb9f3a\"], [0.8888888888888888, \"#fdca26\"], [1.0, \"#f0f921\"]], \"type\": \"histogram2d\"}], \"histogram2dcontour\": [{\"colorbar\": {\"outlinewidth\": 0, \"ticks\": \"\"}, \"colorscale\": [[0.0, \"#0d0887\"], [0.1111111111111111, \"#46039f\"], [0.2222222222222222, \"#7201a8\"], [0.3333333333333333, \"#9c179e\"], [0.4444444444444444, \"#bd3786\"], [0.5555555555555556, \"#d8576b\"], [0.6666666666666666, \"#ed7953\"], [0.7777777777777778, \"#fb9f3a\"], [0.8888888888888888, \"#fdca26\"], [1.0, \"#f0f921\"]], \"type\": \"histogram2dcontour\"}], \"mesh3d\": [{\"colorbar\": {\"outlinewidth\": 0, \"ticks\": \"\"}, \"type\": \"mesh3d\"}], \"parcoords\": [{\"line\": {\"colorbar\": {\"outlinewidth\": 0, \"ticks\": \"\"}}, \"type\": \"parcoords\"}], \"pie\": [{\"automargin\": true, \"type\": \"pie\"}], \"scatter\": [{\"marker\": {\"colorbar\": {\"outlinewidth\": 0, \"ticks\": \"\"}}, \"type\": \"scatter\"}], \"scatter3d\": [{\"line\": {\"colorbar\": {\"outlinewidth\": 0, \"ticks\": \"\"}}, \"marker\": {\"colorbar\": {\"outlinewidth\": 0, \"ticks\": \"\"}}, \"type\": \"scatter3d\"}], \"scattercarpet\": [{\"marker\": {\"colorbar\": {\"outlinewidth\": 0, \"ticks\": \"\"}}, \"type\": \"scattercarpet\"}], \"scattergeo\": [{\"marker\": {\"colorbar\": {\"outlinewidth\": 0, \"ticks\": \"\"}}, \"type\": \"scattergeo\"}], \"scattergl\": [{\"marker\": {\"colorbar\": {\"outlinewidth\": 0, \"ticks\": \"\"}}, \"type\": \"scattergl\"}], \"scattermapbox\": [{\"marker\": {\"colorbar\": {\"outlinewidth\": 0, \"ticks\": \"\"}}, \"type\": \"scattermapbox\"}], \"scatterpolar\": [{\"marker\": {\"colorbar\": {\"outlinewidth\": 0, \"ticks\": \"\"}}, \"type\": \"scatterpolar\"}], \"scatterpolargl\": [{\"marker\": {\"colorbar\": {\"outlinewidth\": 0, \"ticks\": \"\"}}, \"type\": \"scatterpolargl\"}], \"scatterternary\": [{\"marker\": {\"colorbar\": {\"outlinewidth\": 0, \"ticks\": \"\"}}, \"type\": \"scatterternary\"}], \"surface\": [{\"colorbar\": {\"outlinewidth\": 0, \"ticks\": \"\"}, \"colorscale\": [[0.0, \"#0d0887\"], [0.1111111111111111, \"#46039f\"], [0.2222222222222222, \"#7201a8\"], [0.3333333333333333, \"#9c179e\"], [0.4444444444444444, \"#bd3786\"], [0.5555555555555556, \"#d8576b\"], [0.6666666666666666, \"#ed7953\"], [0.7777777777777778, \"#fb9f3a\"], [0.8888888888888888, \"#fdca26\"], [1.0, \"#f0f921\"]], \"type\": \"surface\"}], \"table\": [{\"cells\": {\"fill\": {\"color\": \"#EBF0F8\"}, \"line\": {\"color\": \"white\"}}, \"header\": {\"fill\": {\"color\": \"#C8D4E3\"}, \"line\": {\"color\": \"white\"}}, \"type\": \"table\"}]}, \"layout\": {\"annotationdefaults\": {\"arrowcolor\": \"#2a3f5f\", \"arrowhead\": 0, \"arrowwidth\": 1}, \"coloraxis\": {\"colorbar\": {\"outlinewidth\": 0, \"ticks\": \"\"}}, \"colorscale\": {\"diverging\": [[0, \"#8e0152\"], [0.1, \"#c51b7d\"], [0.2, \"#de77ae\"], [0.3, \"#f1b6da\"], [0.4, \"#fde0ef\"], [0.5, \"#f7f7f7\"], [0.6, \"#e6f5d0\"], [0.7, \"#b8e186\"], [0.8, \"#7fbc41\"], [0.9, \"#4d9221\"], [1, \"#276419\"]], \"sequential\": [[0.0, \"#0d0887\"], [0.1111111111111111, \"#46039f\"], [0.2222222222222222, \"#7201a8\"], [0.3333333333333333, \"#9c179e\"], [0.4444444444444444, \"#bd3786\"], [0.5555555555555556, \"#d8576b\"], [0.6666666666666666, \"#ed7953\"], [0.7777777777777778, \"#fb9f3a\"], [0.8888888888888888, \"#fdca26\"], [1.0, \"#f0f921\"]], \"sequentialminus\": [[0.0, \"#0d0887\"], [0.1111111111111111, \"#46039f\"], [0.2222222222222222, \"#7201a8\"], [0.3333333333333333, \"#9c179e\"], [0.4444444444444444, \"#bd3786\"], [0.5555555555555556, \"#d8576b\"], [0.6666666666666666, \"#ed7953\"], [0.7777777777777778, \"#fb9f3a\"], [0.8888888888888888, \"#fdca26\"], [1.0, \"#f0f921\"]]}, \"colorway\": [\"#636efa\", \"#EF553B\", \"#00cc96\", \"#ab63fa\", \"#FFA15A\", \"#19d3f3\", \"#FF6692\", \"#B6E880\", \"#FF97FF\", \"#FECB52\"], \"font\": {\"color\": \"#2a3f5f\"}, \"geo\": {\"bgcolor\": \"white\", \"lakecolor\": \"white\", \"landcolor\": \"#E5ECF6\", \"showlakes\": true, \"showland\": true, \"subunitcolor\": \"white\"}, \"hoverlabel\": {\"align\": \"left\"}, \"hovermode\": \"closest\", \"mapbox\": {\"style\": \"light\"}, \"paper_bgcolor\": \"white\", \"plot_bgcolor\": \"#E5ECF6\", \"polar\": {\"angularaxis\": {\"gridcolor\": \"white\", \"linecolor\": \"white\", \"ticks\": \"\"}, \"bgcolor\": \"#E5ECF6\", \"radialaxis\": {\"gridcolor\": \"white\", \"linecolor\": \"white\", \"ticks\": \"\"}}, \"scene\": {\"xaxis\": {\"backgroundcolor\": \"#E5ECF6\", \"gridcolor\": \"white\", \"gridwidth\": 2, \"linecolor\": \"white\", \"showbackground\": true, \"ticks\": \"\", \"zerolinecolor\": \"white\"}, \"yaxis\": {\"backgroundcolor\": \"#E5ECF6\", \"gridcolor\": \"white\", \"gridwidth\": 2, \"linecolor\": \"white\", \"showbackground\": true, \"ticks\": \"\", \"zerolinecolor\": \"white\"}, \"zaxis\": {\"backgroundcolor\": \"#E5ECF6\", \"gridcolor\": \"white\", \"gridwidth\": 2, \"linecolor\": \"white\", \"showbackground\": true, \"ticks\": \"\", \"zerolinecolor\": \"white\"}}, \"shapedefaults\": {\"line\": {\"color\": \"#2a3f5f\"}}, \"ternary\": {\"aaxis\": {\"gridcolor\": \"white\", \"linecolor\": \"white\", \"ticks\": \"\"}, \"baxis\": {\"gridcolor\": \"white\", \"linecolor\": \"white\", \"ticks\": \"\"}, \"bgcolor\": \"#E5ECF6\", \"caxis\": {\"gridcolor\": \"white\", \"linecolor\": \"white\", \"ticks\": \"\"}}, \"title\": {\"x\": 0.05}, \"xaxis\": {\"automargin\": true, \"gridcolor\": \"white\", \"linecolor\": \"white\", \"ticks\": \"\", \"title\": {\"standoff\": 15}, \"zerolinecolor\": \"white\", \"zerolinewidth\": 2}, \"yaxis\": {\"automargin\": true, \"gridcolor\": \"white\", \"linecolor\": \"white\", \"ticks\": \"\", \"title\": {\"standoff\": 15}, \"zerolinecolor\": \"white\", \"zerolinewidth\": 2}}}, \"title\": {\"text\": \"Figure 5. Compensation of Data Scientists by Educational Attainment\"}, \"width\": 900, \"xaxis\": {\"showgrid\": false, \"title\": {\"text\": \"Highest Level of Education Completed\"}, \"zeroline\": false}, \"yaxis\": {\"showgrid\": false, \"title\": {\"text\": \"Annual Compensation ($USD)\"}, \"zeroline\": false}},                        {\"responsive\": true}                    ).then(function(){\n",
       "                            \n",
       "var gd = document.getElementById('b4fc647d-8d2d-4a19-8d69-515dc02372ba');\n",
       "var x = new MutationObserver(function (mutations, observer) {{\n",
       "        var display = window.getComputedStyle(gd).display;\n",
       "        if (!display || display === 'none') {{\n",
       "            console.log([gd, 'removed!']);\n",
       "            Plotly.purge(gd);\n",
       "            observer.disconnect();\n",
       "        }}\n",
       "}});\n",
       "\n",
       "// Listen for the removal of the full notebook cells\n",
       "var notebookContainer = gd.closest('#notebook-container');\n",
       "if (notebookContainer) {{\n",
       "    x.observe(notebookContainer, {childList: true});\n",
       "}}\n",
       "\n",
       "// Listen for the clearing of the current output cell\n",
       "var outputEl = gd.closest('.output');\n",
       "if (outputEl) {{\n",
       "    x.observe(outputEl, {childList: true});\n",
       "}}\n",
       "\n",
       "                        })                };                });            </script>        </div>"
      ]
     },
     "metadata": {},
     "output_type": "display_data"
    }
   ],
   "source": [
    "# (viz: compensation by educational attainment)\n",
    "\n",
    "# show/hide functionality from https://stackoverflow.com/questions/31517194/how-to-hide-one-specific-cell-input-or-output-in-ipython-notebook\n",
    "tag = HTML('''<script>\n",
    "code_show=true; \n",
    "function code_toggle() {\n",
    "    if (code_show){\n",
    "        $('div.cell.code_cell.rendered.selected div.input').hide();\n",
    "    } else {\n",
    "        $('div.cell.code_cell.rendered.selected div.input').show();\n",
    "    }\n",
    "    code_show = !code_show\n",
    "} \n",
    "$( document ).ready(code_toggle);\n",
    "</script>\n",
    "<a href=\"javascript:code_toggle()\">show/hide my derivation of charts</a>''')\n",
    "display(tag)\n",
    "\n",
    "mydf = pd.read_csv(\"multiple_choice_responses.csv\", low_memory = False)\n",
    "American_DS = mydf[(mydf['Q3']=='United States of America') & (mydf['Q5']=='Data Scientist')]\n",
    "\n",
    "#comp_calculator is used to calculate avg. compensation by educational attainment by being mapped to each item in educ_list.\n",
    "def comp_calculator(x):\n",
    "    comp_counter = 0\n",
    "    counter = 0\n",
    "    for row in American_DS.itertuples():           #it starts by iterating through each row of American_DS\n",
    "        if row[6] == x:                            #checking if that row belongs to the educational category of interest\n",
    "            if not isinstance(row[21], float):     #checking if that row has a value\n",
    "                y=row[21].split(\"-\")               #and then transforming that row's string for compensation into an integer\n",
    "                if len(y) == 2:                    #the mid-point is assumed for any compensation given as a range\n",
    "                    if y[0][0] == '$':\n",
    "                        y[0] = y[0][1]\n",
    "                    comp = ((int(y[0].replace(\",\",\"\")) + int(y[1].replace(\",\",\"\"))) / 2)\n",
    "                    comp_counter += comp\n",
    "                    counter += 1\n",
    "                if len(y) == 1:                    #and for individuals earning >500k, 500k is assumed absent more detailed information\n",
    "                    y = y[0][3:].replace(\",\",\"\")\n",
    "                    comp = int(y)\n",
    "                    comp_counter += comp\n",
    "                    counter += 1\n",
    "        #note - these six rows commented out were for finding the compensation of each individual with some college, then calculating what the average would have been if not for the two highest earning individuals\n",
    "        #if ((x == 'Some college/university study without earning a bachelor’s degree') & (row[6] == x)):\n",
    "            #print(row[21])\n",
    "    #if x == 'Some college/university study without earning a bachelor’s degree':\n",
    "        #print(comp_counter - 800000)\n",
    "        #print(counter - 2)\n",
    "        #print(1129996 / 8)\n",
    "    return (comp_counter / counter)\n",
    "\n",
    "colors = ['#FF97CD', '#6EE9FF', '#0BDAFF', '#00C0E1', '#C12173']\n",
    "educ_list = [\"Some college/university study without earning a bachelor’s degree\", \"Bachelor’s degree\", \"Master’s degree\", \"Doctoral degree\", \"Professional degree\"]\n",
    "\n",
    "comp_by_educ = pd.Series(list(map(comp_calculator, educ_list)))\n",
    "\n",
    "fig = go.Figure(data=[\n",
    "    go.Bar(name='Educational Attainment', \n",
    "           x=[\"Some college\", \"Bachelor’s degree\", \"Master’s degree\", \"Doctoral degree\", \"Professional degree\"],\n",
    "           y=comp_by_educ,\n",
    "           marker = dict(color=colors, opacity=1))\n",
    "    ])\n",
    "fig.update_layout(\n",
    "    title=\"Figure 5. Compensation of Data Scientists by Educational Attainment\",\n",
    "    xaxis=dict(title=\"Highest Level of Education Completed\"),\n",
    "    yaxis=dict(title=\"Annual Compensation ($USD)\"),\n",
    "    plot_bgcolor='#fff',\n",
    "    height = 450,\n",
    "    width=900\n",
    ")\n",
    "fig.update_xaxes(showgrid=False, zeroline=False)\n",
    "fig.update_yaxes(showgrid=False, zeroline=False)"
   ]
  },
  {
   "cell_type": "markdown",
   "metadata": {},
   "source": [
    "[//]: # (body discussing compensation by educational attainment)\n",
    "\n",
    "<p>\n",
    "    &emsp;&emsp;&emsp;As you can see in Figure 5, the <b>difference in average compensation between those with Bachelor's and Master's degrees, </b>while not huge, <b>is roughly $1,200 per year,</b> and <b>the premium when you jump up to a Ph.D. is \\$26.2k.</b> This would seem to contradict my claim that advanced degrees do not yield a wage premium, but note that these averages do not account for the average years of experience among the members of each category of educational attainment. </p>\n",
    "\n",
    "<p>\n",
    "    &emsp;&emsp;&emsp;Also note the high average compensation for those with some college but didn't finish their degree - those that are subject to what I'm referring to as the 'Jobs effect'. It's worth noting that there's only 10 observations in that category out of 706 total, and so that average is much more subject than the others to being skewed by outliers (like the two individuals that alone bring the average up from \\$141k). These individuals may very well be those that dropped out of school to start their own company, but the rest of us shouldn't draw conclusions about becoming a data scientist based off the experience of a very limited number of entrepreneurs. (Note: as such, 'some college' is withheld from the remaining visualizations)\n",
    "</p>\n",
    "\n",
    "<p>\n",
    "    &emsp;&emsp;&emsp;That being said, note the difference in compensation between those with a Bachelor's degree and either a Master's or a Doctoral Degree when controlling for experience in Figure 6. (Note: hiding the professional degree or other lines by clicking on their legend marker may improve the figure's readability)\n",
    "</p>"
   ]
  },
  {
   "cell_type": "markdown",
   "metadata": {},
   "source": [
    "<div id=\"7\"></div>"
   ]
  },
  {
   "cell_type": "code",
   "execution_count": 17,
   "metadata": {},
   "outputs": [
    {
     "data": {
      "text/html": [
       "<script>\n",
       "code_show=true; \n",
       "function code_toggle() {\n",
       "    if (code_show){\n",
       "        $('div.cell.code_cell.rendered.selected div.input').hide();\n",
       "    } else {\n",
       "        $('div.cell.code_cell.rendered.selected div.input').show();\n",
       "    }\n",
       "    code_show = !code_show\n",
       "} \n",
       "$( document ).ready(code_toggle);\n",
       "</script>\n",
       "<a href=\"javascript:code_toggle()\">show/hide my derivation of charts</a>"
      ],
      "text/plain": [
       "<IPython.core.display.HTML object>"
      ]
     },
     "metadata": {},
     "output_type": "display_data"
    },
    {
     "data": {
      "application/vnd.plotly.v1+json": {
       "config": {
        "plotlyServerURL": "https://plot.ly"
       },
       "data": [
        {
         "line": {
          "color": "#6EE9FF",
          "dash": "dot",
          "width": 3
         },
         "mode": "lines",
         "name": "Bachelor's degree",
         "type": "scatter",
         "x": [
          "< 1 years",
          "1-2 years",
          "3-5 years",
          "5-10 years",
          "10-20 years",
          "20+ years"
         ],
         "y": [
          64999.5,
          93166.16666666667,
          120525.81578947368,
          146832.83333333334,
          181124.5625,
          140749.5
         ]
        },
        {
         "line": {
          "color": "#0BDAFF",
          "dash": "dash",
          "width": 3
         },
         "mode": "lines",
         "name": "Master's degree",
         "type": "scatter",
         "x": [
          "< 1 years",
          "1-2 years",
          "3-5 years",
          "5-10 years",
          "10-20 years",
          "20+ years"
         ],
         "y": [
          53582.833333333336,
          89588.78571428571,
          112193.94444444444,
          142916.16666666666,
          178212.5,
          183039.02631578947
         ]
        },
        {
         "line": {
          "color": "#00C0E1",
          "dash": "dashdot",
          "width": 3
         },
         "mode": "lines",
         "name": "Doctoral Degree",
         "type": "scatter",
         "x": [
          "< 1 years",
          "1-2 years",
          "3-5 years",
          "5-10 years",
          "10-20 years",
          "20+ years"
         ],
         "y": [
          49999.5,
          137499.5,
          110989.08333333333,
          149166.1754385965,
          183769.38888888888,
          180028.11428571428
         ]
        },
        {
         "line": {
          "color": "#C12173",
          "width": 3
         },
         "mode": "lines",
         "name": "Professional Degree",
         "type": "scatter",
         "x": [
          "< 1 years",
          "1-2 years",
          "3-5 years",
          "5-10 years",
          "10-20 years",
          "20+ years"
         ],
         "y": [
          null,
          137499.5,
          224999.5,
          154166.16666666666,
          174999.5,
          null
         ]
        }
       ],
       "layout": {
        "height": 450,
        "legend": {
         "orientation": "h",
         "x": 0.5,
         "y": 0.2
        },
        "plot_bgcolor": "#fff",
        "template": {
         "data": {
          "bar": [
           {
            "error_x": {
             "color": "#2a3f5f"
            },
            "error_y": {
             "color": "#2a3f5f"
            },
            "marker": {
             "line": {
              "color": "#E5ECF6",
              "width": 0.5
             }
            },
            "type": "bar"
           }
          ],
          "barpolar": [
           {
            "marker": {
             "line": {
              "color": "#E5ECF6",
              "width": 0.5
             }
            },
            "type": "barpolar"
           }
          ],
          "carpet": [
           {
            "aaxis": {
             "endlinecolor": "#2a3f5f",
             "gridcolor": "white",
             "linecolor": "white",
             "minorgridcolor": "white",
             "startlinecolor": "#2a3f5f"
            },
            "baxis": {
             "endlinecolor": "#2a3f5f",
             "gridcolor": "white",
             "linecolor": "white",
             "minorgridcolor": "white",
             "startlinecolor": "#2a3f5f"
            },
            "type": "carpet"
           }
          ],
          "choropleth": [
           {
            "colorbar": {
             "outlinewidth": 0,
             "ticks": ""
            },
            "type": "choropleth"
           }
          ],
          "contour": [
           {
            "colorbar": {
             "outlinewidth": 0,
             "ticks": ""
            },
            "colorscale": [
             [
              0,
              "#0d0887"
             ],
             [
              0.1111111111111111,
              "#46039f"
             ],
             [
              0.2222222222222222,
              "#7201a8"
             ],
             [
              0.3333333333333333,
              "#9c179e"
             ],
             [
              0.4444444444444444,
              "#bd3786"
             ],
             [
              0.5555555555555556,
              "#d8576b"
             ],
             [
              0.6666666666666666,
              "#ed7953"
             ],
             [
              0.7777777777777778,
              "#fb9f3a"
             ],
             [
              0.8888888888888888,
              "#fdca26"
             ],
             [
              1,
              "#f0f921"
             ]
            ],
            "type": "contour"
           }
          ],
          "contourcarpet": [
           {
            "colorbar": {
             "outlinewidth": 0,
             "ticks": ""
            },
            "type": "contourcarpet"
           }
          ],
          "heatmap": [
           {
            "colorbar": {
             "outlinewidth": 0,
             "ticks": ""
            },
            "colorscale": [
             [
              0,
              "#0d0887"
             ],
             [
              0.1111111111111111,
              "#46039f"
             ],
             [
              0.2222222222222222,
              "#7201a8"
             ],
             [
              0.3333333333333333,
              "#9c179e"
             ],
             [
              0.4444444444444444,
              "#bd3786"
             ],
             [
              0.5555555555555556,
              "#d8576b"
             ],
             [
              0.6666666666666666,
              "#ed7953"
             ],
             [
              0.7777777777777778,
              "#fb9f3a"
             ],
             [
              0.8888888888888888,
              "#fdca26"
             ],
             [
              1,
              "#f0f921"
             ]
            ],
            "type": "heatmap"
           }
          ],
          "heatmapgl": [
           {
            "colorbar": {
             "outlinewidth": 0,
             "ticks": ""
            },
            "colorscale": [
             [
              0,
              "#0d0887"
             ],
             [
              0.1111111111111111,
              "#46039f"
             ],
             [
              0.2222222222222222,
              "#7201a8"
             ],
             [
              0.3333333333333333,
              "#9c179e"
             ],
             [
              0.4444444444444444,
              "#bd3786"
             ],
             [
              0.5555555555555556,
              "#d8576b"
             ],
             [
              0.6666666666666666,
              "#ed7953"
             ],
             [
              0.7777777777777778,
              "#fb9f3a"
             ],
             [
              0.8888888888888888,
              "#fdca26"
             ],
             [
              1,
              "#f0f921"
             ]
            ],
            "type": "heatmapgl"
           }
          ],
          "histogram": [
           {
            "marker": {
             "colorbar": {
              "outlinewidth": 0,
              "ticks": ""
             }
            },
            "type": "histogram"
           }
          ],
          "histogram2d": [
           {
            "colorbar": {
             "outlinewidth": 0,
             "ticks": ""
            },
            "colorscale": [
             [
              0,
              "#0d0887"
             ],
             [
              0.1111111111111111,
              "#46039f"
             ],
             [
              0.2222222222222222,
              "#7201a8"
             ],
             [
              0.3333333333333333,
              "#9c179e"
             ],
             [
              0.4444444444444444,
              "#bd3786"
             ],
             [
              0.5555555555555556,
              "#d8576b"
             ],
             [
              0.6666666666666666,
              "#ed7953"
             ],
             [
              0.7777777777777778,
              "#fb9f3a"
             ],
             [
              0.8888888888888888,
              "#fdca26"
             ],
             [
              1,
              "#f0f921"
             ]
            ],
            "type": "histogram2d"
           }
          ],
          "histogram2dcontour": [
           {
            "colorbar": {
             "outlinewidth": 0,
             "ticks": ""
            },
            "colorscale": [
             [
              0,
              "#0d0887"
             ],
             [
              0.1111111111111111,
              "#46039f"
             ],
             [
              0.2222222222222222,
              "#7201a8"
             ],
             [
              0.3333333333333333,
              "#9c179e"
             ],
             [
              0.4444444444444444,
              "#bd3786"
             ],
             [
              0.5555555555555556,
              "#d8576b"
             ],
             [
              0.6666666666666666,
              "#ed7953"
             ],
             [
              0.7777777777777778,
              "#fb9f3a"
             ],
             [
              0.8888888888888888,
              "#fdca26"
             ],
             [
              1,
              "#f0f921"
             ]
            ],
            "type": "histogram2dcontour"
           }
          ],
          "mesh3d": [
           {
            "colorbar": {
             "outlinewidth": 0,
             "ticks": ""
            },
            "type": "mesh3d"
           }
          ],
          "parcoords": [
           {
            "line": {
             "colorbar": {
              "outlinewidth": 0,
              "ticks": ""
             }
            },
            "type": "parcoords"
           }
          ],
          "pie": [
           {
            "automargin": true,
            "type": "pie"
           }
          ],
          "scatter": [
           {
            "marker": {
             "colorbar": {
              "outlinewidth": 0,
              "ticks": ""
             }
            },
            "type": "scatter"
           }
          ],
          "scatter3d": [
           {
            "line": {
             "colorbar": {
              "outlinewidth": 0,
              "ticks": ""
             }
            },
            "marker": {
             "colorbar": {
              "outlinewidth": 0,
              "ticks": ""
             }
            },
            "type": "scatter3d"
           }
          ],
          "scattercarpet": [
           {
            "marker": {
             "colorbar": {
              "outlinewidth": 0,
              "ticks": ""
             }
            },
            "type": "scattercarpet"
           }
          ],
          "scattergeo": [
           {
            "marker": {
             "colorbar": {
              "outlinewidth": 0,
              "ticks": ""
             }
            },
            "type": "scattergeo"
           }
          ],
          "scattergl": [
           {
            "marker": {
             "colorbar": {
              "outlinewidth": 0,
              "ticks": ""
             }
            },
            "type": "scattergl"
           }
          ],
          "scattermapbox": [
           {
            "marker": {
             "colorbar": {
              "outlinewidth": 0,
              "ticks": ""
             }
            },
            "type": "scattermapbox"
           }
          ],
          "scatterpolar": [
           {
            "marker": {
             "colorbar": {
              "outlinewidth": 0,
              "ticks": ""
             }
            },
            "type": "scatterpolar"
           }
          ],
          "scatterpolargl": [
           {
            "marker": {
             "colorbar": {
              "outlinewidth": 0,
              "ticks": ""
             }
            },
            "type": "scatterpolargl"
           }
          ],
          "scatterternary": [
           {
            "marker": {
             "colorbar": {
              "outlinewidth": 0,
              "ticks": ""
             }
            },
            "type": "scatterternary"
           }
          ],
          "surface": [
           {
            "colorbar": {
             "outlinewidth": 0,
             "ticks": ""
            },
            "colorscale": [
             [
              0,
              "#0d0887"
             ],
             [
              0.1111111111111111,
              "#46039f"
             ],
             [
              0.2222222222222222,
              "#7201a8"
             ],
             [
              0.3333333333333333,
              "#9c179e"
             ],
             [
              0.4444444444444444,
              "#bd3786"
             ],
             [
              0.5555555555555556,
              "#d8576b"
             ],
             [
              0.6666666666666666,
              "#ed7953"
             ],
             [
              0.7777777777777778,
              "#fb9f3a"
             ],
             [
              0.8888888888888888,
              "#fdca26"
             ],
             [
              1,
              "#f0f921"
             ]
            ],
            "type": "surface"
           }
          ],
          "table": [
           {
            "cells": {
             "fill": {
              "color": "#EBF0F8"
             },
             "line": {
              "color": "white"
             }
            },
            "header": {
             "fill": {
              "color": "#C8D4E3"
             },
             "line": {
              "color": "white"
             }
            },
            "type": "table"
           }
          ]
         },
         "layout": {
          "annotationdefaults": {
           "arrowcolor": "#2a3f5f",
           "arrowhead": 0,
           "arrowwidth": 1
          },
          "coloraxis": {
           "colorbar": {
            "outlinewidth": 0,
            "ticks": ""
           }
          },
          "colorscale": {
           "diverging": [
            [
             0,
             "#8e0152"
            ],
            [
             0.1,
             "#c51b7d"
            ],
            [
             0.2,
             "#de77ae"
            ],
            [
             0.3,
             "#f1b6da"
            ],
            [
             0.4,
             "#fde0ef"
            ],
            [
             0.5,
             "#f7f7f7"
            ],
            [
             0.6,
             "#e6f5d0"
            ],
            [
             0.7,
             "#b8e186"
            ],
            [
             0.8,
             "#7fbc41"
            ],
            [
             0.9,
             "#4d9221"
            ],
            [
             1,
             "#276419"
            ]
           ],
           "sequential": [
            [
             0,
             "#0d0887"
            ],
            [
             0.1111111111111111,
             "#46039f"
            ],
            [
             0.2222222222222222,
             "#7201a8"
            ],
            [
             0.3333333333333333,
             "#9c179e"
            ],
            [
             0.4444444444444444,
             "#bd3786"
            ],
            [
             0.5555555555555556,
             "#d8576b"
            ],
            [
             0.6666666666666666,
             "#ed7953"
            ],
            [
             0.7777777777777778,
             "#fb9f3a"
            ],
            [
             0.8888888888888888,
             "#fdca26"
            ],
            [
             1,
             "#f0f921"
            ]
           ],
           "sequentialminus": [
            [
             0,
             "#0d0887"
            ],
            [
             0.1111111111111111,
             "#46039f"
            ],
            [
             0.2222222222222222,
             "#7201a8"
            ],
            [
             0.3333333333333333,
             "#9c179e"
            ],
            [
             0.4444444444444444,
             "#bd3786"
            ],
            [
             0.5555555555555556,
             "#d8576b"
            ],
            [
             0.6666666666666666,
             "#ed7953"
            ],
            [
             0.7777777777777778,
             "#fb9f3a"
            ],
            [
             0.8888888888888888,
             "#fdca26"
            ],
            [
             1,
             "#f0f921"
            ]
           ]
          },
          "colorway": [
           "#636efa",
           "#EF553B",
           "#00cc96",
           "#ab63fa",
           "#FFA15A",
           "#19d3f3",
           "#FF6692",
           "#B6E880",
           "#FF97FF",
           "#FECB52"
          ],
          "font": {
           "color": "#2a3f5f"
          },
          "geo": {
           "bgcolor": "white",
           "lakecolor": "white",
           "landcolor": "#E5ECF6",
           "showlakes": true,
           "showland": true,
           "subunitcolor": "white"
          },
          "hoverlabel": {
           "align": "left"
          },
          "hovermode": "closest",
          "mapbox": {
           "style": "light"
          },
          "paper_bgcolor": "white",
          "plot_bgcolor": "#E5ECF6",
          "polar": {
           "angularaxis": {
            "gridcolor": "white",
            "linecolor": "white",
            "ticks": ""
           },
           "bgcolor": "#E5ECF6",
           "radialaxis": {
            "gridcolor": "white",
            "linecolor": "white",
            "ticks": ""
           }
          },
          "scene": {
           "xaxis": {
            "backgroundcolor": "#E5ECF6",
            "gridcolor": "white",
            "gridwidth": 2,
            "linecolor": "white",
            "showbackground": true,
            "ticks": "",
            "zerolinecolor": "white"
           },
           "yaxis": {
            "backgroundcolor": "#E5ECF6",
            "gridcolor": "white",
            "gridwidth": 2,
            "linecolor": "white",
            "showbackground": true,
            "ticks": "",
            "zerolinecolor": "white"
           },
           "zaxis": {
            "backgroundcolor": "#E5ECF6",
            "gridcolor": "white",
            "gridwidth": 2,
            "linecolor": "white",
            "showbackground": true,
            "ticks": "",
            "zerolinecolor": "white"
           }
          },
          "shapedefaults": {
           "line": {
            "color": "#2a3f5f"
           }
          },
          "ternary": {
           "aaxis": {
            "gridcolor": "white",
            "linecolor": "white",
            "ticks": ""
           },
           "baxis": {
            "gridcolor": "white",
            "linecolor": "white",
            "ticks": ""
           },
           "bgcolor": "#E5ECF6",
           "caxis": {
            "gridcolor": "white",
            "linecolor": "white",
            "ticks": ""
           }
          },
          "title": {
           "x": 0.05
          },
          "xaxis": {
           "automargin": true,
           "gridcolor": "white",
           "linecolor": "white",
           "ticks": "",
           "title": {
            "standoff": 15
           },
           "zerolinecolor": "white",
           "zerolinewidth": 2
          },
          "yaxis": {
           "automargin": true,
           "gridcolor": "white",
           "linecolor": "white",
           "ticks": "",
           "title": {
            "standoff": 15
           },
           "zerolinecolor": "white",
           "zerolinewidth": 2
          }
         }
        },
        "title": {
         "text": "Figure 6. The Premium Disappears when Controlling for Experience"
        },
        "width": 900,
        "xaxis": {
         "title": {
          "text": "Years Coding Experience"
         }
        },
        "yaxis": {
         "title": {
          "text": "Annual Compensation ($USD)"
         }
        }
       }
      },
      "text/html": [
       "<div>                            <div id=\"143c7246-a6fd-43bb-bd36-ef4fcfed728c\" class=\"plotly-graph-div\" style=\"height:450px; width:900px;\"></div>            <script type=\"text/javascript\">                require([\"plotly\"], function(Plotly) {                    window.PLOTLYENV=window.PLOTLYENV || {};                                    if (document.getElementById(\"143c7246-a6fd-43bb-bd36-ef4fcfed728c\")) {                    Plotly.newPlot(                        \"143c7246-a6fd-43bb-bd36-ef4fcfed728c\",                        [{\"line\": {\"color\": \"#6EE9FF\", \"dash\": \"dot\", \"width\": 3}, \"mode\": \"lines\", \"name\": \"Bachelor's degree\", \"type\": \"scatter\", \"x\": [\"< 1 years\", \"1-2 years\", \"3-5 years\", \"5-10 years\", \"10-20 years\", \"20+ years\"], \"y\": [64999.5, 93166.16666666667, 120525.81578947368, 146832.83333333334, 181124.5625, 140749.5]}, {\"line\": {\"color\": \"#0BDAFF\", \"dash\": \"dash\", \"width\": 3}, \"mode\": \"lines\", \"name\": \"Master's degree\", \"type\": \"scatter\", \"x\": [\"< 1 years\", \"1-2 years\", \"3-5 years\", \"5-10 years\", \"10-20 years\", \"20+ years\"], \"y\": [53582.833333333336, 89588.78571428571, 112193.94444444444, 142916.16666666666, 178212.5, 183039.02631578947]}, {\"line\": {\"color\": \"#00C0E1\", \"dash\": \"dashdot\", \"width\": 3}, \"mode\": \"lines\", \"name\": \"Doctoral Degree\", \"type\": \"scatter\", \"x\": [\"< 1 years\", \"1-2 years\", \"3-5 years\", \"5-10 years\", \"10-20 years\", \"20+ years\"], \"y\": [49999.5, 137499.5, 110989.08333333333, 149166.1754385965, 183769.38888888888, 180028.11428571428]}, {\"line\": {\"color\": \"#C12173\", \"width\": 3}, \"mode\": \"lines\", \"name\": \"Professional Degree\", \"type\": \"scatter\", \"x\": [\"< 1 years\", \"1-2 years\", \"3-5 years\", \"5-10 years\", \"10-20 years\", \"20+ years\"], \"y\": [null, 137499.5, 224999.5, 154166.16666666666, 174999.5, null]}],                        {\"height\": 450, \"legend\": {\"orientation\": \"h\", \"x\": 0.5, \"y\": 0.2}, \"plot_bgcolor\": \"#fff\", \"template\": {\"data\": {\"bar\": [{\"error_x\": {\"color\": \"#2a3f5f\"}, \"error_y\": {\"color\": \"#2a3f5f\"}, \"marker\": {\"line\": {\"color\": \"#E5ECF6\", \"width\": 0.5}}, \"type\": \"bar\"}], \"barpolar\": [{\"marker\": {\"line\": {\"color\": \"#E5ECF6\", \"width\": 0.5}}, \"type\": \"barpolar\"}], \"carpet\": [{\"aaxis\": {\"endlinecolor\": \"#2a3f5f\", \"gridcolor\": \"white\", \"linecolor\": \"white\", \"minorgridcolor\": \"white\", \"startlinecolor\": \"#2a3f5f\"}, \"baxis\": {\"endlinecolor\": \"#2a3f5f\", \"gridcolor\": \"white\", \"linecolor\": \"white\", \"minorgridcolor\": \"white\", \"startlinecolor\": \"#2a3f5f\"}, \"type\": \"carpet\"}], \"choropleth\": [{\"colorbar\": {\"outlinewidth\": 0, \"ticks\": \"\"}, \"type\": \"choropleth\"}], \"contour\": [{\"colorbar\": {\"outlinewidth\": 0, \"ticks\": \"\"}, \"colorscale\": [[0.0, \"#0d0887\"], [0.1111111111111111, \"#46039f\"], [0.2222222222222222, \"#7201a8\"], [0.3333333333333333, \"#9c179e\"], [0.4444444444444444, \"#bd3786\"], [0.5555555555555556, \"#d8576b\"], [0.6666666666666666, \"#ed7953\"], [0.7777777777777778, \"#fb9f3a\"], [0.8888888888888888, \"#fdca26\"], [1.0, \"#f0f921\"]], \"type\": \"contour\"}], \"contourcarpet\": [{\"colorbar\": {\"outlinewidth\": 0, \"ticks\": \"\"}, \"type\": \"contourcarpet\"}], \"heatmap\": [{\"colorbar\": {\"outlinewidth\": 0, \"ticks\": \"\"}, \"colorscale\": [[0.0, \"#0d0887\"], [0.1111111111111111, \"#46039f\"], [0.2222222222222222, \"#7201a8\"], [0.3333333333333333, \"#9c179e\"], [0.4444444444444444, \"#bd3786\"], [0.5555555555555556, \"#d8576b\"], [0.6666666666666666, \"#ed7953\"], [0.7777777777777778, \"#fb9f3a\"], [0.8888888888888888, \"#fdca26\"], [1.0, \"#f0f921\"]], \"type\": \"heatmap\"}], \"heatmapgl\": [{\"colorbar\": {\"outlinewidth\": 0, \"ticks\": \"\"}, \"colorscale\": [[0.0, \"#0d0887\"], [0.1111111111111111, \"#46039f\"], [0.2222222222222222, \"#7201a8\"], [0.3333333333333333, \"#9c179e\"], [0.4444444444444444, \"#bd3786\"], [0.5555555555555556, \"#d8576b\"], [0.6666666666666666, \"#ed7953\"], [0.7777777777777778, \"#fb9f3a\"], [0.8888888888888888, \"#fdca26\"], [1.0, \"#f0f921\"]], \"type\": \"heatmapgl\"}], \"histogram\": [{\"marker\": {\"colorbar\": {\"outlinewidth\": 0, \"ticks\": \"\"}}, \"type\": \"histogram\"}], \"histogram2d\": [{\"colorbar\": {\"outlinewidth\": 0, \"ticks\": \"\"}, \"colorscale\": [[0.0, \"#0d0887\"], [0.1111111111111111, \"#46039f\"], [0.2222222222222222, \"#7201a8\"], [0.3333333333333333, \"#9c179e\"], [0.4444444444444444, \"#bd3786\"], [0.5555555555555556, \"#d8576b\"], [0.6666666666666666, \"#ed7953\"], [0.7777777777777778, \"#fb9f3a\"], [0.8888888888888888, \"#fdca26\"], [1.0, \"#f0f921\"]], \"type\": \"histogram2d\"}], \"histogram2dcontour\": [{\"colorbar\": {\"outlinewidth\": 0, \"ticks\": \"\"}, \"colorscale\": [[0.0, \"#0d0887\"], [0.1111111111111111, \"#46039f\"], [0.2222222222222222, \"#7201a8\"], [0.3333333333333333, \"#9c179e\"], [0.4444444444444444, \"#bd3786\"], [0.5555555555555556, \"#d8576b\"], [0.6666666666666666, \"#ed7953\"], [0.7777777777777778, \"#fb9f3a\"], [0.8888888888888888, \"#fdca26\"], [1.0, \"#f0f921\"]], \"type\": \"histogram2dcontour\"}], \"mesh3d\": [{\"colorbar\": {\"outlinewidth\": 0, \"ticks\": \"\"}, \"type\": \"mesh3d\"}], \"parcoords\": [{\"line\": {\"colorbar\": {\"outlinewidth\": 0, \"ticks\": \"\"}}, \"type\": \"parcoords\"}], \"pie\": [{\"automargin\": true, \"type\": \"pie\"}], \"scatter\": [{\"marker\": {\"colorbar\": {\"outlinewidth\": 0, \"ticks\": \"\"}}, \"type\": \"scatter\"}], \"scatter3d\": [{\"line\": {\"colorbar\": {\"outlinewidth\": 0, \"ticks\": \"\"}}, \"marker\": {\"colorbar\": {\"outlinewidth\": 0, \"ticks\": \"\"}}, \"type\": \"scatter3d\"}], \"scattercarpet\": [{\"marker\": {\"colorbar\": {\"outlinewidth\": 0, \"ticks\": \"\"}}, \"type\": \"scattercarpet\"}], \"scattergeo\": [{\"marker\": {\"colorbar\": {\"outlinewidth\": 0, \"ticks\": \"\"}}, \"type\": \"scattergeo\"}], \"scattergl\": [{\"marker\": {\"colorbar\": {\"outlinewidth\": 0, \"ticks\": \"\"}}, \"type\": \"scattergl\"}], \"scattermapbox\": [{\"marker\": {\"colorbar\": {\"outlinewidth\": 0, \"ticks\": \"\"}}, \"type\": \"scattermapbox\"}], \"scatterpolar\": [{\"marker\": {\"colorbar\": {\"outlinewidth\": 0, \"ticks\": \"\"}}, \"type\": \"scatterpolar\"}], \"scatterpolargl\": [{\"marker\": {\"colorbar\": {\"outlinewidth\": 0, \"ticks\": \"\"}}, \"type\": \"scatterpolargl\"}], \"scatterternary\": [{\"marker\": {\"colorbar\": {\"outlinewidth\": 0, \"ticks\": \"\"}}, \"type\": \"scatterternary\"}], \"surface\": [{\"colorbar\": {\"outlinewidth\": 0, \"ticks\": \"\"}, \"colorscale\": [[0.0, \"#0d0887\"], [0.1111111111111111, \"#46039f\"], [0.2222222222222222, \"#7201a8\"], [0.3333333333333333, \"#9c179e\"], [0.4444444444444444, \"#bd3786\"], [0.5555555555555556, \"#d8576b\"], [0.6666666666666666, \"#ed7953\"], [0.7777777777777778, \"#fb9f3a\"], [0.8888888888888888, \"#fdca26\"], [1.0, \"#f0f921\"]], \"type\": \"surface\"}], \"table\": [{\"cells\": {\"fill\": {\"color\": \"#EBF0F8\"}, \"line\": {\"color\": \"white\"}}, \"header\": {\"fill\": {\"color\": \"#C8D4E3\"}, \"line\": {\"color\": \"white\"}}, \"type\": \"table\"}]}, \"layout\": {\"annotationdefaults\": {\"arrowcolor\": \"#2a3f5f\", \"arrowhead\": 0, \"arrowwidth\": 1}, \"coloraxis\": {\"colorbar\": {\"outlinewidth\": 0, \"ticks\": \"\"}}, \"colorscale\": {\"diverging\": [[0, \"#8e0152\"], [0.1, \"#c51b7d\"], [0.2, \"#de77ae\"], [0.3, \"#f1b6da\"], [0.4, \"#fde0ef\"], [0.5, \"#f7f7f7\"], [0.6, \"#e6f5d0\"], [0.7, \"#b8e186\"], [0.8, \"#7fbc41\"], [0.9, \"#4d9221\"], [1, \"#276419\"]], \"sequential\": [[0.0, \"#0d0887\"], [0.1111111111111111, \"#46039f\"], [0.2222222222222222, \"#7201a8\"], [0.3333333333333333, \"#9c179e\"], [0.4444444444444444, \"#bd3786\"], [0.5555555555555556, \"#d8576b\"], [0.6666666666666666, \"#ed7953\"], [0.7777777777777778, \"#fb9f3a\"], [0.8888888888888888, \"#fdca26\"], [1.0, \"#f0f921\"]], \"sequentialminus\": [[0.0, \"#0d0887\"], [0.1111111111111111, \"#46039f\"], [0.2222222222222222, \"#7201a8\"], [0.3333333333333333, \"#9c179e\"], [0.4444444444444444, \"#bd3786\"], [0.5555555555555556, \"#d8576b\"], [0.6666666666666666, \"#ed7953\"], [0.7777777777777778, \"#fb9f3a\"], [0.8888888888888888, \"#fdca26\"], [1.0, \"#f0f921\"]]}, \"colorway\": [\"#636efa\", \"#EF553B\", \"#00cc96\", \"#ab63fa\", \"#FFA15A\", \"#19d3f3\", \"#FF6692\", \"#B6E880\", \"#FF97FF\", \"#FECB52\"], \"font\": {\"color\": \"#2a3f5f\"}, \"geo\": {\"bgcolor\": \"white\", \"lakecolor\": \"white\", \"landcolor\": \"#E5ECF6\", \"showlakes\": true, \"showland\": true, \"subunitcolor\": \"white\"}, \"hoverlabel\": {\"align\": \"left\"}, \"hovermode\": \"closest\", \"mapbox\": {\"style\": \"light\"}, \"paper_bgcolor\": \"white\", \"plot_bgcolor\": \"#E5ECF6\", \"polar\": {\"angularaxis\": {\"gridcolor\": \"white\", \"linecolor\": \"white\", \"ticks\": \"\"}, \"bgcolor\": \"#E5ECF6\", \"radialaxis\": {\"gridcolor\": \"white\", \"linecolor\": \"white\", \"ticks\": \"\"}}, \"scene\": {\"xaxis\": {\"backgroundcolor\": \"#E5ECF6\", \"gridcolor\": \"white\", \"gridwidth\": 2, \"linecolor\": \"white\", \"showbackground\": true, \"ticks\": \"\", \"zerolinecolor\": \"white\"}, \"yaxis\": {\"backgroundcolor\": \"#E5ECF6\", \"gridcolor\": \"white\", \"gridwidth\": 2, \"linecolor\": \"white\", \"showbackground\": true, \"ticks\": \"\", \"zerolinecolor\": \"white\"}, \"zaxis\": {\"backgroundcolor\": \"#E5ECF6\", \"gridcolor\": \"white\", \"gridwidth\": 2, \"linecolor\": \"white\", \"showbackground\": true, \"ticks\": \"\", \"zerolinecolor\": \"white\"}}, \"shapedefaults\": {\"line\": {\"color\": \"#2a3f5f\"}}, \"ternary\": {\"aaxis\": {\"gridcolor\": \"white\", \"linecolor\": \"white\", \"ticks\": \"\"}, \"baxis\": {\"gridcolor\": \"white\", \"linecolor\": \"white\", \"ticks\": \"\"}, \"bgcolor\": \"#E5ECF6\", \"caxis\": {\"gridcolor\": \"white\", \"linecolor\": \"white\", \"ticks\": \"\"}}, \"title\": {\"x\": 0.05}, \"xaxis\": {\"automargin\": true, \"gridcolor\": \"white\", \"linecolor\": \"white\", \"ticks\": \"\", \"title\": {\"standoff\": 15}, \"zerolinecolor\": \"white\", \"zerolinewidth\": 2}, \"yaxis\": {\"automargin\": true, \"gridcolor\": \"white\", \"linecolor\": \"white\", \"ticks\": \"\", \"title\": {\"standoff\": 15}, \"zerolinecolor\": \"white\", \"zerolinewidth\": 2}}}, \"title\": {\"text\": \"Figure 6. The Premium Disappears when Controlling for Experience\"}, \"width\": 900, \"xaxis\": {\"title\": {\"text\": \"Years Coding Experience\"}}, \"yaxis\": {\"title\": {\"text\": \"Annual Compensation ($USD)\"}}},                        {\"responsive\": true}                    ).then(function(){\n",
       "                            \n",
       "var gd = document.getElementById('143c7246-a6fd-43bb-bd36-ef4fcfed728c');\n",
       "var x = new MutationObserver(function (mutations, observer) {{\n",
       "        var display = window.getComputedStyle(gd).display;\n",
       "        if (!display || display === 'none') {{\n",
       "            console.log([gd, 'removed!']);\n",
       "            Plotly.purge(gd);\n",
       "            observer.disconnect();\n",
       "        }}\n",
       "}});\n",
       "\n",
       "// Listen for the removal of the full notebook cells\n",
       "var notebookContainer = gd.closest('#notebook-container');\n",
       "if (notebookContainer) {{\n",
       "    x.observe(notebookContainer, {childList: true});\n",
       "}}\n",
       "\n",
       "// Listen for the clearing of the current output cell\n",
       "var outputEl = gd.closest('.output');\n",
       "if (outputEl) {{\n",
       "    x.observe(outputEl, {childList: true});\n",
       "}}\n",
       "\n",
       "                        })                };                });            </script>        </div>"
      ]
     },
     "metadata": {},
     "output_type": "display_data"
    }
   ],
   "source": [
    "# (viz: The premium disappears when controlling for experience)\n",
    "\n",
    "# show/hide functionality from https://stackoverflow.com/questions/31517194/how-to-hide-one-specific-cell-input-or-output-in-ipython-notebook\n",
    "tag = HTML('''<script>\n",
    "code_show=true; \n",
    "function code_toggle() {\n",
    "    if (code_show){\n",
    "        $('div.cell.code_cell.rendered.selected div.input').hide();\n",
    "    } else {\n",
    "        $('div.cell.code_cell.rendered.selected div.input').show();\n",
    "    }\n",
    "    code_show = !code_show\n",
    "} \n",
    "$( document ).ready(code_toggle);\n",
    "</script>\n",
    "<a href=\"javascript:code_toggle()\">show/hide my derivation of charts</a>''')\n",
    "display(tag)\n",
    "\n",
    "experience_list = ['< 1 years', '1-2 years', '3-5 years', '5-10 years', '10-20 years', '20+ years']\n",
    "\n",
    "Some_College_List = []\n",
    "Bachelors_List = []\n",
    "Masters_List = []\n",
    "Doctoral_List = []\n",
    "Professional_List = []\n",
    "\n",
    "def comp_by_age_calculator(x):                       #comp_by_age_calculator is a similar cumulative sum collector as the functions above,\n",
    "    Some_College_Counter = 0                         #expect because there's a third dimension introduced it collects compensation for each\n",
    "    Bachelors_Counter = 0                            #education category as it iterates through American_DS, and then for each experience\n",
    "    Masters_Counter = 0                              #category it's mapped to it appends the avg. comp for each educ category to a final list\n",
    "    Doctoral_Counter = 0                             #(above). \n",
    "    Professional_Counter = 0\n",
    "    Some_College_Comp_Counter = 0\n",
    "    Bachelors_Comp_Counter = 0\n",
    "    Masters_Comp_Counter = 0\n",
    "    Doctoral_Comp_Counter = 0\n",
    "    Professional_Comp_Counter = 0\n",
    "    \n",
    "    for row in American_DS.itertuples():\n",
    "        comp = 0\n",
    "        if row[56] ==x:\n",
    "            if not isinstance(row[21], float):\n",
    "                y=row[21].split(\"-\")\n",
    "                if len(y) == 2:\n",
    "                    if y[0][0] == '$':\n",
    "                        y[0] = y[0][1]\n",
    "                    comp = ((int(y[0].replace(\",\",\"\")) + int(y[1].replace(\",\",\"\"))) / 2)\n",
    "                if len(y) == 1:\n",
    "                    y = y[0][3:].replace(\",\",\"\")\n",
    "                    comp = int(y)\n",
    "            if row[6] == 'Some college/university study without earning a bachelor’s degree':  \n",
    "                Some_College_Counter += 1                                    #comp is calculated and then added to the appropriate\n",
    "                Some_College_Comp_Counter += comp                            #counter based on each row's educational attainment\n",
    "            elif row[6] == 'Bachelor’s degree':\n",
    "                Bachelors_Counter += 1\n",
    "                Bachelors_Comp_Counter += comp\n",
    "            elif row[6] == 'Master’s degree':\n",
    "                Masters_Counter += 1\n",
    "                Masters_Comp_Counter += comp\n",
    "            elif row[6] == 'Doctoral degree':\n",
    "                Doctoral_Counter += 1\n",
    "                Doctoral_Comp_Counter += comp\n",
    "            elif row[6] == 'Professional degree':\n",
    "                Professional_Counter += 1\n",
    "                Professional_Comp_Counter += comp\n",
    "    if Some_College_Counter != 0:                                           #not all educational categories have observations\n",
    "        Some_College_List.append(Some_College_Comp_Counter / Some_College_Counter)   #for each level of experience, in which\n",
    "    else:                                                                   #case 'None' is appended to the list to be fed to\n",
    "        Some_College_List.append(None)                                      #the graphing object so the list retains the same\n",
    "    if Bachelors_Counter != 0:                                              #length\n",
    "        Bachelors_List.append(Bachelors_Comp_Counter / Bachelors_Counter)\n",
    "    else:\n",
    "        Bachelors_List.append(None)    \n",
    "    if Masters_Counter != 0:\n",
    "        Masters_List.append(Masters_Comp_Counter / Masters_Counter)\n",
    "    else:\n",
    "        Masters_List.append(None)\n",
    "    if Doctoral_Counter != 0:\n",
    "        Doctoral_List.append(Doctoral_Comp_Counter / Doctoral_Counter)\n",
    "    else:\n",
    "        Doctoral_List.append(None)\n",
    "    if Professional_Counter != 0:\n",
    "        Professional_List.append(Professional_Comp_Counter / Professional_Counter)\n",
    "    else:\n",
    "        Professional_List.append(None)\n",
    "    \n",
    "    return None\n",
    "\n",
    "comp_by_educ_by_age = list(map(comp_by_age_calculator, experience_list))\n",
    "\n",
    "###this section commented out was for calculating the premiums discussed in the section below.\n",
    "#x = 0\n",
    "#for i in range(5):\n",
    "    #x += (Bachelors_List[i] - Doctoral_List[i])\n",
    "#print(x / 5)\n",
    "\n",
    "#y = 0\n",
    "#for i in range(6):\n",
    "    #y += (Bachelors_List[i] - Masters_List[i])\n",
    "#print(y / 6)\n",
    "\n",
    "#z = 0\n",
    "#for i in range(1,3):\n",
    "    #z += (Bachelors_List[i] - Professional_List[i])\n",
    "#print(z / 2)\n",
    "#############\n",
    "\n",
    "fig = go.Figure()\n",
    "fig.add_trace(go.Scatter(\n",
    "    x=experience_list,\n",
    "    y=Bachelors_List,\n",
    "    name=\"Bachelor's degree\",\n",
    "    mode='lines',\n",
    "    line=dict(color='#6EE9FF', width=3, dash='dot')\n",
    "))\n",
    "fig.add_trace(go.Scatter(\n",
    "    x=experience_list,\n",
    "    y=Masters_List,\n",
    "    name=\"Master's degree\",\n",
    "    mode='lines',\n",
    "    line=dict(color='#0BDAFF', width=3, dash='dash')\n",
    "))\n",
    "fig.add_trace(go.Scatter(\n",
    "    x=experience_list,\n",
    "    y=Doctoral_List,\n",
    "    name=\"Doctoral Degree\",\n",
    "    mode='lines',\n",
    "    line=dict(color='#00C0E1', width=3, dash='dashdot')\n",
    "))\n",
    "fig.add_trace(go.Scatter(\n",
    "    x=experience_list,\n",
    "    y=Professional_List,\n",
    "    name=\"Professional Degree\",\n",
    "    mode='lines',\n",
    "    line=dict(color='#C12173', width=3)\n",
    "))\n",
    "\n",
    "fig.update_layout(title='Figure 6. The Premium Disappears when Controlling for Experience',\n",
    "                 yaxis=dict(title='Annual Compensation ($USD)'),\n",
    "                 xaxis=dict(title='Years Coding Experience'),\n",
    "                 height=450,\n",
    "                 width=900,\n",
    "                 legend=dict(orientation='h', x=0.5, y=0.2),\n",
    "                 plot_bgcolor='#fff')"
   ]
  },
  {
   "cell_type": "markdown",
   "metadata": {},
   "source": [
    "[//]: # (body discussing 'the premium disappears when controlling for experience)\n",
    "\n",
    "<p>\n",
    "    &emsp;&emsp;&emsp;Before looking at the negative premium on Master's degrees, it's worth noting that <b><font size=4>there is a \\$2,022 premium on a Doctoral degree over a Bachelor's degree,</font></b> but this is due almost entirely to the large differences between Doctoral and Bachelor's degree holders with 1-2 years of experience and 20+ years of experience. So from this one could conjecture that in the initial transition into data science a Doctoral Degree will provide early acccess to higher paying opportunities, but that premium quickly goes away as experience becomes the predominant factor in a data scientist's success. It then appears that the average compensation for veteran coders drops off after 20+ years of experience, and the largest drop is for those with Bachelor's indicating there may be some ceiling on more senior level jobs for those without advanced degrees. \n",
    "</p>\n",
    "\n",
    "<p>\n",
    "    &emsp;&emsp;&emsp;What's even better news is that <b><font size=4>there is a \\$74,400 premium on Professional Degrees compared to Bachelor's</font></b> for data scientists with 1-5 years of experience. Now, it's again worth noting that there are only 10 individuals with Professional degrees in this sample, and so the categorical averages are once again subject to being skewed by outliers. Without any established Professional degrees in the formal data science discipline, however, one might assume these are individuals transitioning into data science from senior positions in related fields (like professional engineers or PE's, for example),which might suggest that data science would be a lucrative vertical to transition into for individuals with professional backgrounds.\n",
    "</p>\n",
    "\n",
    "<p>\n",
    "    &emsp;&emsp;&emsp;Finally, for those with less than 20+ years of experience, <b><font size=4>data scientists with Bachelor's degrees make on average \\$6,030 more than those with Master's degrees and the same amount of experience.</font></b> It's hard to say why this might be the case. Perhaps those with Bachelor's degrees have to work harder to get their foot in the door, and so they come into their jobs with better portfolios. Perhaps they are less likely to get stuck in purely technical roles, and have a higher likelihood of moving upward into higher-paying managerial roles with the same amount of experience. This finding came as a surprise though, so I created the swarm plot in Figure 7 to see if there were any outliers in either category that might be skewing the categorical averages. See below.\n",
    "</p>"
   ]
  },
  {
   "cell_type": "markdown",
   "metadata": {},
   "source": [
    "<div id=\"8\"></div>"
   ]
  },
  {
   "cell_type": "code",
   "execution_count": 16,
   "metadata": {},
   "outputs": [
    {
     "data": {
      "text/html": [
       "<script>\n",
       "code_show=true; \n",
       "function code_toggle() {\n",
       "    if (code_show){\n",
       "        $('div.cell.code_cell.rendered.selected div.input').hide();\n",
       "    } else {\n",
       "        $('div.cell.code_cell.rendered.selected div.input').show();\n",
       "    }\n",
       "    code_show = !code_show\n",
       "} \n",
       "$( document ).ready(code_toggle);\n",
       "</script>\n",
       "<a href=\"javascript:code_toggle()\">show/hide my derivation of charts</a>"
      ],
      "text/plain": [
       "<IPython.core.display.HTML object>"
      ]
     },
     "metadata": {},
     "output_type": "display_data"
    },
    {
     "data": {
      "image/png": "[encoded data removed]",
      "text/plain": [
       "<Figure size 1008x504 with 1 Axes>"
      ]
     },
     "metadata": {
      "needs_background": "light"
     },
     "output_type": "display_data"
    }
   ],
   "source": [
    "# (viz. Examining Potential Outliers Affecting Average Compensation by Education/Experience)\n",
    "\n",
    "# show/hide functionality from https://stackoverflow.com/questions/31517194/how-to-hide-one-specific-cell-input-or-output-in-ipython-notebook\n",
    "tag = HTML('''<script>\n",
    "code_show=true; \n",
    "function code_toggle() {\n",
    "    if (code_show){\n",
    "        $('div.cell.code_cell.rendered.selected div.input').hide();\n",
    "    } else {\n",
    "        $('div.cell.code_cell.rendered.selected div.input').show();\n",
    "    }\n",
    "    code_show = !code_show\n",
    "} \n",
    "$( document ).ready(code_toggle);\n",
    "</script>\n",
    "<a href=\"javascript:code_toggle()\">show/hide my derivation of charts</a>''')\n",
    "display(tag)\n",
    "\n",
    "def calc_comp(row):                                 #calc_comp here is a simplified version of calc_comp in figure 6 since it only needs to return comp for each row, rather than iterate through all rows\n",
    "    if not isinstance(row[21], float):\n",
    "        y=row[20].split(\"-\")\n",
    "        if len(y) == 2:\n",
    "            if y[0][0] == '$':\n",
    "                y[0] = y[0][1]\n",
    "            comp = ((int(y[0].replace(\",\",\"\")) + int(y[1].replace(\",\",\"\"))) / 2)\n",
    "        if len(y) == 1:\n",
    "            y = y[0][3:].replace(\",\",\"\")\n",
    "            comp = int(y)\n",
    "    try:\n",
    "        return comp\n",
    "    except:\n",
    "        return None\n",
    "\n",
    "American_DS['comp'] = American_DS.apply(lambda row: calc_comp(row), axis=1)      #here a lambda function is used to generate a new comp column for each row by performing calc_comp on that row\n",
    "\n",
    "fig = plt.figure(figsize=(14,7))\n",
    "plt.box(on=None)\n",
    "\n",
    "rectangle1 = plt.Rectangle((-.3,0), 5.6, 50000, fc=(1,0,0,0.1), ec=(1,0,0,.75))\n",
    "plt.gca().add_patch(rectangle1)\n",
    "\n",
    "rectangle2 = plt.Rectangle((3.7,390000), 1.6, 120000, fc=(1,0,0,0.1), ec=(1,0,0,.75))\n",
    "plt.gca().add_patch(rectangle2)\n",
    "\n",
    "plot = sns.swarmplot(x=\"Q15\", \n",
    "              y=\"comp\", \n",
    "              data = American_DS[American_DS['Q4'].isin(['Bachelor’s degree', 'Master’s degree'])], \n",
    "              split=True, \n",
    "              hue='Q4', \n",
    "              order=['< 1 years', '1-2 years', '3-5 years', '5-10 years', '10-20 years', '20+ years'],\n",
    "             )\n",
    "plot.set_title(\"Figure 7. Examining Potential Outliers Affecting Average Compensation by Education/Experience\", x=.4, y=1.02, size=17)\n",
    "plt.legend(title=\"Education\", frameon=False, fontsize=12).get_title().set_fontsize('12')\n",
    "plot.set_xlabel(\"Years of Coding Experience\", fontsize=15)\n",
    "plot.set_ylabel(\"Annual Compensation ($USD)\", fontsize=15);"
   ]
  },
  {
   "cell_type": "markdown",
   "metadata": {},
   "source": [
    "[//]: # (body discussing 'examining potential outliers affecting average compensation by education/experience')\n",
    "\n",
    "<p>\n",
    "    &emsp;&emsp;&emsp;Figure 7 highlights two useful pieces of information that might explain the dynamics illustrated in Figure 6.\n",
    "</p>\n",
    "<p>\n",
    "    &emsp;&emsp;&emsp;First, <b>there are a handful of extremely high earners</b> (those in the 300k-500k and 500k+ categories) in the top right shaded box <b>whose compensation is very far removed from the rest of the sample.</b> One could assume that those earning above \\$300k annually are doing something other than just working as a staff data scientist, like running their own company or earning investment income. If we want to focus just on staff data scientists, we can exclude these individuals from our calculations.\n",
    "</p>\n",
    "\n",
    "<p>\n",
    "    &emsp;&emsp;&emsp;Second, <b>there are a number of individuals earning well below what one would expect of a full-time data scientist,</b> those in the bottom shaded box in Figure 7, <b>whose compensation may be pulling down the average compensation of their category.</b> These may be interns, retirees, individuals working part-time, or something else. It's hard to make an objective guess as to what floor on compensation would exclude individuals in these categories without excluding actual full-time data scientists, but for simplicity sake, I exclude any individual earning below \\$50k annually to see if the patterns in Figure 6 hold true in Figure 8 below.\n",
    "</p>"
   ]
  },
  {
   "cell_type": "markdown",
   "metadata": {},
   "source": [
    "<div id=\"9\"></div>"
   ]
  },
  {
   "cell_type": "code",
   "execution_count": 18,
   "metadata": {},
   "outputs": [
    {
     "data": {
      "text/html": [
       "<script>\n",
       "code_show=true; \n",
       "function code_toggle() {\n",
       "    if (code_show){\n",
       "        $('div.cell.code_cell.rendered.selected div.input').hide();\n",
       "    } else {\n",
       "        $('div.cell.code_cell.rendered.selected div.input').show();\n",
       "    }\n",
       "    code_show = !code_show\n",
       "} \n",
       "$( document ).ready(code_toggle);\n",
       "</script>\n",
       "<a href=\"javascript:code_toggle()\">show/hide my derivation of charts</a>"
      ],
      "text/plain": [
       "<IPython.core.display.HTML object>"
      ]
     },
     "metadata": {},
     "output_type": "display_data"
    },
    {
     "data": {
      "application/vnd.plotly.v1+json": {
       "config": {
        "plotlyServerURL": "https://plot.ly"
       },
       "data": [
        {
         "line": {
          "color": "#6EE9FF",
          "dash": "dot",
          "width": 3
         },
         "mode": "lines",
         "name": "Bachelor's degree",
         "type": "scatter",
         "x": [
          "< 1 years",
          "1-2 years",
          "3-5 years",
          "5-10 years",
          "10-20 years",
          "20+ years"
         ],
         "y": [
          84999.5,
          103076.42307692308,
          125485.61111111111,
          146832.83333333334,
          161345.65384615384,
          187499.5
         ]
        },
        {
         "line": {
          "color": "#0BDAFF",
          "dash": "dash",
          "width": 3
         },
         "mode": "lines",
         "name": "Master's degree",
         "type": "scatter",
         "x": [
          "< 1 years",
          "1-2 years",
          "3-5 years",
          "5-10 years",
          "10-20 years",
          "20+ years"
         ],
         "y": [
          137499.5,
          103402.27777777778,
          118738.81623931623,
          144131.07894736843,
          158801.58333333334,
          171612.40322580645
         ]
        },
        {
         "line": {
          "color": "#00C0E1",
          "dash": "dashdot",
          "width": 3
         },
         "mode": "lines",
         "name": "Doctoral Degree",
         "type": "scatter",
         "x": [
          "< 1 years",
          "1-2 years",
          "3-5 years",
          "5-10 years",
          "10-20 years",
          "20+ years"
         ],
         "y": [
          54999.5,
          137499.5,
          119999.5,
          144863.13636363635,
          161294.14285714287,
          168533.9827586207
         ]
        },
        {
         "line": {
          "color": "#C12173",
          "width": 3
         },
         "mode": "lines",
         "name": "Professional Degree",
         "type": "scatter",
         "x": [
          "< 1 years",
          "1-2 years",
          "3-5 years",
          "5-10 years",
          "10-20 years",
          "20+ years"
         ],
         "y": [
          null,
          137499.5,
          224999.5,
          154166.16666666666,
          174999.5,
          null
         ]
        }
       ],
       "layout": {
        "height": 450,
        "legend": {
         "orientation": "h",
         "x": 0.5,
         "y": 0.2
        },
        "plot_bgcolor": "#fff",
        "template": {
         "data": {
          "bar": [
           {
            "error_x": {
             "color": "#2a3f5f"
            },
            "error_y": {
             "color": "#2a3f5f"
            },
            "marker": {
             "line": {
              "color": "#E5ECF6",
              "width": 0.5
             }
            },
            "type": "bar"
           }
          ],
          "barpolar": [
           {
            "marker": {
             "line": {
              "color": "#E5ECF6",
              "width": 0.5
             }
            },
            "type": "barpolar"
           }
          ],
          "carpet": [
           {
            "aaxis": {
             "endlinecolor": "#2a3f5f",
             "gridcolor": "white",
             "linecolor": "white",
             "minorgridcolor": "white",
             "startlinecolor": "#2a3f5f"
            },
            "baxis": {
             "endlinecolor": "#2a3f5f",
             "gridcolor": "white",
             "linecolor": "white",
             "minorgridcolor": "white",
             "startlinecolor": "#2a3f5f"
            },
            "type": "carpet"
           }
          ],
          "choropleth": [
           {
            "colorbar": {
             "outlinewidth": 0,
             "ticks": ""
            },
            "type": "choropleth"
           }
          ],
          "contour": [
           {
            "colorbar": {
             "outlinewidth": 0,
             "ticks": ""
            },
            "colorscale": [
             [
              0,
              "#0d0887"
             ],
             [
              0.1111111111111111,
              "#46039f"
             ],
             [
              0.2222222222222222,
              "#7201a8"
             ],
             [
              0.3333333333333333,
              "#9c179e"
             ],
             [
              0.4444444444444444,
              "#bd3786"
             ],
             [
              0.5555555555555556,
              "#d8576b"
             ],
             [
              0.6666666666666666,
              "#ed7953"
             ],
             [
              0.7777777777777778,
              "#fb9f3a"
             ],
             [
              0.8888888888888888,
              "#fdca26"
             ],
             [
              1,
              "#f0f921"
             ]
            ],
            "type": "contour"
           }
          ],
          "contourcarpet": [
           {
            "colorbar": {
             "outlinewidth": 0,
             "ticks": ""
            },
            "type": "contourcarpet"
           }
          ],
          "heatmap": [
           {
            "colorbar": {
             "outlinewidth": 0,
             "ticks": ""
            },
            "colorscale": [
             [
              0,
              "#0d0887"
             ],
             [
              0.1111111111111111,
              "#46039f"
             ],
             [
              0.2222222222222222,
              "#7201a8"
             ],
             [
              0.3333333333333333,
              "#9c179e"
             ],
             [
              0.4444444444444444,
              "#bd3786"
             ],
             [
              0.5555555555555556,
              "#d8576b"
             ],
             [
              0.6666666666666666,
              "#ed7953"
             ],
             [
              0.7777777777777778,
              "#fb9f3a"
             ],
             [
              0.8888888888888888,
              "#fdca26"
             ],
             [
              1,
              "#f0f921"
             ]
            ],
            "type": "heatmap"
           }
          ],
          "heatmapgl": [
           {
            "colorbar": {
             "outlinewidth": 0,
             "ticks": ""
            },
            "colorscale": [
             [
              0,
              "#0d0887"
             ],
             [
              0.1111111111111111,
              "#46039f"
             ],
             [
              0.2222222222222222,
              "#7201a8"
             ],
             [
              0.3333333333333333,
              "#9c179e"
             ],
             [
              0.4444444444444444,
              "#bd3786"
             ],
             [
              0.5555555555555556,
              "#d8576b"
             ],
             [
              0.6666666666666666,
              "#ed7953"
             ],
             [
              0.7777777777777778,
              "#fb9f3a"
             ],
             [
              0.8888888888888888,
              "#fdca26"
             ],
             [
              1,
              "#f0f921"
             ]
            ],
            "type": "heatmapgl"
           }
          ],
          "histogram": [
           {
            "marker": {
             "colorbar": {
              "outlinewidth": 0,
              "ticks": ""
             }
            },
            "type": "histogram"
           }
          ],
          "histogram2d": [
           {
            "colorbar": {
             "outlinewidth": 0,
             "ticks": ""
            },
            "colorscale": [
             [
              0,
              "#0d0887"
             ],
             [
              0.1111111111111111,
              "#46039f"
             ],
             [
              0.2222222222222222,
              "#7201a8"
             ],
             [
              0.3333333333333333,
              "#9c179e"
             ],
             [
              0.4444444444444444,
              "#bd3786"
             ],
             [
              0.5555555555555556,
              "#d8576b"
             ],
             [
              0.6666666666666666,
              "#ed7953"
             ],
             [
              0.7777777777777778,
              "#fb9f3a"
             ],
             [
              0.8888888888888888,
              "#fdca26"
             ],
             [
              1,
              "#f0f921"
             ]
            ],
            "type": "histogram2d"
           }
          ],
          "histogram2dcontour": [
           {
            "colorbar": {
             "outlinewidth": 0,
             "ticks": ""
            },
            "colorscale": [
             [
              0,
              "#0d0887"
             ],
             [
              0.1111111111111111,
              "#46039f"
             ],
             [
              0.2222222222222222,
              "#7201a8"
             ],
             [
              0.3333333333333333,
              "#9c179e"
             ],
             [
              0.4444444444444444,
              "#bd3786"
             ],
             [
              0.5555555555555556,
              "#d8576b"
             ],
             [
              0.6666666666666666,
              "#ed7953"
             ],
             [
              0.7777777777777778,
              "#fb9f3a"
             ],
             [
              0.8888888888888888,
              "#fdca26"
             ],
             [
              1,
              "#f0f921"
             ]
            ],
            "type": "histogram2dcontour"
           }
          ],
          "mesh3d": [
           {
            "colorbar": {
             "outlinewidth": 0,
             "ticks": ""
            },
            "type": "mesh3d"
           }
          ],
          "parcoords": [
           {
            "line": {
             "colorbar": {
              "outlinewidth": 0,
              "ticks": ""
             }
            },
            "type": "parcoords"
           }
          ],
          "pie": [
           {
            "automargin": true,
            "type": "pie"
           }
          ],
          "scatter": [
           {
            "marker": {
             "colorbar": {
              "outlinewidth": 0,
              "ticks": ""
             }
            },
            "type": "scatter"
           }
          ],
          "scatter3d": [
           {
            "line": {
             "colorbar": {
              "outlinewidth": 0,
              "ticks": ""
             }
            },
            "marker": {
             "colorbar": {
              "outlinewidth": 0,
              "ticks": ""
             }
            },
            "type": "scatter3d"
           }
          ],
          "scattercarpet": [
           {
            "marker": {
             "colorbar": {
              "outlinewidth": 0,
              "ticks": ""
             }
            },
            "type": "scattercarpet"
           }
          ],
          "scattergeo": [
           {
            "marker": {
             "colorbar": {
              "outlinewidth": 0,
              "ticks": ""
             }
            },
            "type": "scattergeo"
           }
          ],
          "scattergl": [
           {
            "marker": {
             "colorbar": {
              "outlinewidth": 0,
              "ticks": ""
             }
            },
            "type": "scattergl"
           }
          ],
          "scattermapbox": [
           {
            "marker": {
             "colorbar": {
              "outlinewidth": 0,
              "ticks": ""
             }
            },
            "type": "scattermapbox"
           }
          ],
          "scatterpolar": [
           {
            "marker": {
             "colorbar": {
              "outlinewidth": 0,
              "ticks": ""
             }
            },
            "type": "scatterpolar"
           }
          ],
          "scatterpolargl": [
           {
            "marker": {
             "colorbar": {
              "outlinewidth": 0,
              "ticks": ""
             }
            },
            "type": "scatterpolargl"
           }
          ],
          "scatterternary": [
           {
            "marker": {
             "colorbar": {
              "outlinewidth": 0,
              "ticks": ""
             }
            },
            "type": "scatterternary"
           }
          ],
          "surface": [
           {
            "colorbar": {
             "outlinewidth": 0,
             "ticks": ""
            },
            "colorscale": [
             [
              0,
              "#0d0887"
             ],
             [
              0.1111111111111111,
              "#46039f"
             ],
             [
              0.2222222222222222,
              "#7201a8"
             ],
             [
              0.3333333333333333,
              "#9c179e"
             ],
             [
              0.4444444444444444,
              "#bd3786"
             ],
             [
              0.5555555555555556,
              "#d8576b"
             ],
             [
              0.6666666666666666,
              "#ed7953"
             ],
             [
              0.7777777777777778,
              "#fb9f3a"
             ],
             [
              0.8888888888888888,
              "#fdca26"
             ],
             [
              1,
              "#f0f921"
             ]
            ],
            "type": "surface"
           }
          ],
          "table": [
           {
            "cells": {
             "fill": {
              "color": "#EBF0F8"
             },
             "line": {
              "color": "white"
             }
            },
            "header": {
             "fill": {
              "color": "#C8D4E3"
             },
             "line": {
              "color": "white"
             }
            },
            "type": "table"
           }
          ]
         },
         "layout": {
          "annotationdefaults": {
           "arrowcolor": "#2a3f5f",
           "arrowhead": 0,
           "arrowwidth": 1
          },
          "coloraxis": {
           "colorbar": {
            "outlinewidth": 0,
            "ticks": ""
           }
          },
          "colorscale": {
           "diverging": [
            [
             0,
             "#8e0152"
            ],
            [
             0.1,
             "#c51b7d"
            ],
            [
             0.2,
             "#de77ae"
            ],
            [
             0.3,
             "#f1b6da"
            ],
            [
             0.4,
             "#fde0ef"
            ],
            [
             0.5,
             "#f7f7f7"
            ],
            [
             0.6,
             "#e6f5d0"
            ],
            [
             0.7,
             "#b8e186"
            ],
            [
             0.8,
             "#7fbc41"
            ],
            [
             0.9,
             "#4d9221"
            ],
            [
             1,
             "#276419"
            ]
           ],
           "sequential": [
            [
             0,
             "#0d0887"
            ],
            [
             0.1111111111111111,
             "#46039f"
            ],
            [
             0.2222222222222222,
             "#7201a8"
            ],
            [
             0.3333333333333333,
             "#9c179e"
            ],
            [
             0.4444444444444444,
             "#bd3786"
            ],
            [
             0.5555555555555556,
             "#d8576b"
            ],
            [
             0.6666666666666666,
             "#ed7953"
            ],
            [
             0.7777777777777778,
             "#fb9f3a"
            ],
            [
             0.8888888888888888,
             "#fdca26"
            ],
            [
             1,
             "#f0f921"
            ]
           ],
           "sequentialminus": [
            [
             0,
             "#0d0887"
            ],
            [
             0.1111111111111111,
             "#46039f"
            ],
            [
             0.2222222222222222,
             "#7201a8"
            ],
            [
             0.3333333333333333,
             "#9c179e"
            ],
            [
             0.4444444444444444,
             "#bd3786"
            ],
            [
             0.5555555555555556,
             "#d8576b"
            ],
            [
             0.6666666666666666,
             "#ed7953"
            ],
            [
             0.7777777777777778,
             "#fb9f3a"
            ],
            [
             0.8888888888888888,
             "#fdca26"
            ],
            [
             1,
             "#f0f921"
            ]
           ]
          },
          "colorway": [
           "#636efa",
           "#EF553B",
           "#00cc96",
           "#ab63fa",
           "#FFA15A",
           "#19d3f3",
           "#FF6692",
           "#B6E880",
           "#FF97FF",
           "#FECB52"
          ],
          "font": {
           "color": "#2a3f5f"
          },
          "geo": {
           "bgcolor": "white",
           "lakecolor": "white",
           "landcolor": "#E5ECF6",
           "showlakes": true,
           "showland": true,
           "subunitcolor": "white"
          },
          "hoverlabel": {
           "align": "left"
          },
          "hovermode": "closest",
          "mapbox": {
           "style": "light"
          },
          "paper_bgcolor": "white",
          "plot_bgcolor": "#E5ECF6",
          "polar": {
           "angularaxis": {
            "gridcolor": "white",
            "linecolor": "white",
            "ticks": ""
           },
           "bgcolor": "#E5ECF6",
           "radialaxis": {
            "gridcolor": "white",
            "linecolor": "white",
            "ticks": ""
           }
          },
          "scene": {
           "xaxis": {
            "backgroundcolor": "#E5ECF6",
            "gridcolor": "white",
            "gridwidth": 2,
            "linecolor": "white",
            "showbackground": true,
            "ticks": "",
            "zerolinecolor": "white"
           },
           "yaxis": {
            "backgroundcolor": "#E5ECF6",
            "gridcolor": "white",
            "gridwidth": 2,
            "linecolor": "white",
            "showbackground": true,
            "ticks": "",
            "zerolinecolor": "white"
           },
           "zaxis": {
            "backgroundcolor": "#E5ECF6",
            "gridcolor": "white",
            "gridwidth": 2,
            "linecolor": "white",
            "showbackground": true,
            "ticks": "",
            "zerolinecolor": "white"
           }
          },
          "shapedefaults": {
           "line": {
            "color": "#2a3f5f"
           }
          },
          "ternary": {
           "aaxis": {
            "gridcolor": "white",
            "linecolor": "white",
            "ticks": ""
           },
           "baxis": {
            "gridcolor": "white",
            "linecolor": "white",
            "ticks": ""
           },
           "bgcolor": "#E5ECF6",
           "caxis": {
            "gridcolor": "white",
            "linecolor": "white",
            "ticks": ""
           }
          },
          "title": {
           "x": 0.05
          },
          "xaxis": {
           "automargin": true,
           "gridcolor": "white",
           "linecolor": "white",
           "ticks": "",
           "title": {
            "standoff": 15
           },
           "zerolinecolor": "white",
           "zerolinewidth": 2
          },
          "yaxis": {
           "automargin": true,
           "gridcolor": "white",
           "linecolor": "white",
           "ticks": "",
           "title": {
            "standoff": 15
           },
           "zerolinecolor": "white",
           "zerolinewidth": 2
          }
         }
        },
        "title": {
         "text": "Figure 8. Confirmed: Negative Premium on MS in Data Science"
        },
        "width": 900,
        "xaxis": {
         "title": {
          "text": "Years Coding Experience"
         }
        },
        "yaxis": {
         "title": {
          "text": "Annual Compensation ($USD)"
         }
        }
       }
      },
      "text/html": [
       "<div>                            <div id=\"a46a78be-d2cc-45a7-97ef-a864cb0e83fc\" class=\"plotly-graph-div\" style=\"height:450px; width:900px;\"></div>            <script type=\"text/javascript\">                require([\"plotly\"], function(Plotly) {                    window.PLOTLYENV=window.PLOTLYENV || {};                                    if (document.getElementById(\"a46a78be-d2cc-45a7-97ef-a864cb0e83fc\")) {                    Plotly.newPlot(                        \"a46a78be-d2cc-45a7-97ef-a864cb0e83fc\",                        [{\"line\": {\"color\": \"#6EE9FF\", \"dash\": \"dot\", \"width\": 3}, \"mode\": \"lines\", \"name\": \"Bachelor's degree\", \"type\": \"scatter\", \"x\": [\"< 1 years\", \"1-2 years\", \"3-5 years\", \"5-10 years\", \"10-20 years\", \"20+ years\"], \"y\": [84999.5, 103076.42307692308, 125485.61111111111, 146832.83333333334, 161345.65384615384, 187499.5]}, {\"line\": {\"color\": \"#0BDAFF\", \"dash\": \"dash\", \"width\": 3}, \"mode\": \"lines\", \"name\": \"Master's degree\", \"type\": \"scatter\", \"x\": [\"< 1 years\", \"1-2 years\", \"3-5 years\", \"5-10 years\", \"10-20 years\", \"20+ years\"], \"y\": [137499.5, 103402.27777777778, 118738.81623931623, 144131.07894736843, 158801.58333333334, 171612.40322580645]}, {\"line\": {\"color\": \"#00C0E1\", \"dash\": \"dashdot\", \"width\": 3}, \"mode\": \"lines\", \"name\": \"Doctoral Degree\", \"type\": \"scatter\", \"x\": [\"< 1 years\", \"1-2 years\", \"3-5 years\", \"5-10 years\", \"10-20 years\", \"20+ years\"], \"y\": [54999.5, 137499.5, 119999.5, 144863.13636363635, 161294.14285714287, 168533.9827586207]}, {\"line\": {\"color\": \"#C12173\", \"width\": 3}, \"mode\": \"lines\", \"name\": \"Professional Degree\", \"type\": \"scatter\", \"x\": [\"< 1 years\", \"1-2 years\", \"3-5 years\", \"5-10 years\", \"10-20 years\", \"20+ years\"], \"y\": [null, 137499.5, 224999.5, 154166.16666666666, 174999.5, null]}],                        {\"height\": 450, \"legend\": {\"orientation\": \"h\", \"x\": 0.5, \"y\": 0.2}, \"plot_bgcolor\": \"#fff\", \"template\": {\"data\": {\"bar\": [{\"error_x\": {\"color\": \"#2a3f5f\"}, \"error_y\": {\"color\": \"#2a3f5f\"}, \"marker\": {\"line\": {\"color\": \"#E5ECF6\", \"width\": 0.5}}, \"type\": \"bar\"}], \"barpolar\": [{\"marker\": {\"line\": {\"color\": \"#E5ECF6\", \"width\": 0.5}}, \"type\": \"barpolar\"}], \"carpet\": [{\"aaxis\": {\"endlinecolor\": \"#2a3f5f\", \"gridcolor\": \"white\", \"linecolor\": \"white\", \"minorgridcolor\": \"white\", \"startlinecolor\": \"#2a3f5f\"}, \"baxis\": {\"endlinecolor\": \"#2a3f5f\", \"gridcolor\": \"white\", \"linecolor\": \"white\", \"minorgridcolor\": \"white\", \"startlinecolor\": \"#2a3f5f\"}, \"type\": \"carpet\"}], \"choropleth\": [{\"colorbar\": {\"outlinewidth\": 0, \"ticks\": \"\"}, \"type\": \"choropleth\"}], \"contour\": [{\"colorbar\": {\"outlinewidth\": 0, \"ticks\": \"\"}, \"colorscale\": [[0.0, \"#0d0887\"], [0.1111111111111111, \"#46039f\"], [0.2222222222222222, \"#7201a8\"], [0.3333333333333333, \"#9c179e\"], [0.4444444444444444, \"#bd3786\"], [0.5555555555555556, \"#d8576b\"], [0.6666666666666666, \"#ed7953\"], [0.7777777777777778, \"#fb9f3a\"], [0.8888888888888888, \"#fdca26\"], [1.0, \"#f0f921\"]], \"type\": \"contour\"}], \"contourcarpet\": [{\"colorbar\": {\"outlinewidth\": 0, \"ticks\": \"\"}, \"type\": \"contourcarpet\"}], \"heatmap\": [{\"colorbar\": {\"outlinewidth\": 0, \"ticks\": \"\"}, \"colorscale\": [[0.0, \"#0d0887\"], [0.1111111111111111, \"#46039f\"], [0.2222222222222222, \"#7201a8\"], [0.3333333333333333, \"#9c179e\"], [0.4444444444444444, \"#bd3786\"], [0.5555555555555556, \"#d8576b\"], [0.6666666666666666, \"#ed7953\"], [0.7777777777777778, \"#fb9f3a\"], [0.8888888888888888, \"#fdca26\"], [1.0, \"#f0f921\"]], \"type\": \"heatmap\"}], \"heatmapgl\": [{\"colorbar\": {\"outlinewidth\": 0, \"ticks\": \"\"}, \"colorscale\": [[0.0, \"#0d0887\"], [0.1111111111111111, \"#46039f\"], [0.2222222222222222, \"#7201a8\"], [0.3333333333333333, \"#9c179e\"], [0.4444444444444444, \"#bd3786\"], [0.5555555555555556, \"#d8576b\"], [0.6666666666666666, \"#ed7953\"], [0.7777777777777778, \"#fb9f3a\"], [0.8888888888888888, \"#fdca26\"], [1.0, \"#f0f921\"]], \"type\": \"heatmapgl\"}], \"histogram\": [{\"marker\": {\"colorbar\": {\"outlinewidth\": 0, \"ticks\": \"\"}}, \"type\": \"histogram\"}], \"histogram2d\": [{\"colorbar\": {\"outlinewidth\": 0, \"ticks\": \"\"}, \"colorscale\": [[0.0, \"#0d0887\"], [0.1111111111111111, \"#46039f\"], [0.2222222222222222, \"#7201a8\"], [0.3333333333333333, \"#9c179e\"], [0.4444444444444444, \"#bd3786\"], [0.5555555555555556, \"#d8576b\"], [0.6666666666666666, \"#ed7953\"], [0.7777777777777778, \"#fb9f3a\"], [0.8888888888888888, \"#fdca26\"], [1.0, \"#f0f921\"]], \"type\": \"histogram2d\"}], \"histogram2dcontour\": [{\"colorbar\": {\"outlinewidth\": 0, \"ticks\": \"\"}, \"colorscale\": [[0.0, \"#0d0887\"], [0.1111111111111111, \"#46039f\"], [0.2222222222222222, \"#7201a8\"], [0.3333333333333333, \"#9c179e\"], [0.4444444444444444, \"#bd3786\"], [0.5555555555555556, \"#d8576b\"], [0.6666666666666666, \"#ed7953\"], [0.7777777777777778, \"#fb9f3a\"], [0.8888888888888888, \"#fdca26\"], [1.0, \"#f0f921\"]], \"type\": \"histogram2dcontour\"}], \"mesh3d\": [{\"colorbar\": {\"outlinewidth\": 0, \"ticks\": \"\"}, \"type\": \"mesh3d\"}], \"parcoords\": [{\"line\": {\"colorbar\": {\"outlinewidth\": 0, \"ticks\": \"\"}}, \"type\": \"parcoords\"}], \"pie\": [{\"automargin\": true, \"type\": \"pie\"}], \"scatter\": [{\"marker\": {\"colorbar\": {\"outlinewidth\": 0, \"ticks\": \"\"}}, \"type\": \"scatter\"}], \"scatter3d\": [{\"line\": {\"colorbar\": {\"outlinewidth\": 0, \"ticks\": \"\"}}, \"marker\": {\"colorbar\": {\"outlinewidth\": 0, \"ticks\": \"\"}}, \"type\": \"scatter3d\"}], \"scattercarpet\": [{\"marker\": {\"colorbar\": {\"outlinewidth\": 0, \"ticks\": \"\"}}, \"type\": \"scattercarpet\"}], \"scattergeo\": [{\"marker\": {\"colorbar\": {\"outlinewidth\": 0, \"ticks\": \"\"}}, \"type\": \"scattergeo\"}], \"scattergl\": [{\"marker\": {\"colorbar\": {\"outlinewidth\": 0, \"ticks\": \"\"}}, \"type\": \"scattergl\"}], \"scattermapbox\": [{\"marker\": {\"colorbar\": {\"outlinewidth\": 0, \"ticks\": \"\"}}, \"type\": \"scattermapbox\"}], \"scatterpolar\": [{\"marker\": {\"colorbar\": {\"outlinewidth\": 0, \"ticks\": \"\"}}, \"type\": \"scatterpolar\"}], \"scatterpolargl\": [{\"marker\": {\"colorbar\": {\"outlinewidth\": 0, \"ticks\": \"\"}}, \"type\": \"scatterpolargl\"}], \"scatterternary\": [{\"marker\": {\"colorbar\": {\"outlinewidth\": 0, \"ticks\": \"\"}}, \"type\": \"scatterternary\"}], \"surface\": [{\"colorbar\": {\"outlinewidth\": 0, \"ticks\": \"\"}, \"colorscale\": [[0.0, \"#0d0887\"], [0.1111111111111111, \"#46039f\"], [0.2222222222222222, \"#7201a8\"], [0.3333333333333333, \"#9c179e\"], [0.4444444444444444, \"#bd3786\"], [0.5555555555555556, \"#d8576b\"], [0.6666666666666666, \"#ed7953\"], [0.7777777777777778, \"#fb9f3a\"], [0.8888888888888888, \"#fdca26\"], [1.0, \"#f0f921\"]], \"type\": \"surface\"}], \"table\": [{\"cells\": {\"fill\": {\"color\": \"#EBF0F8\"}, \"line\": {\"color\": \"white\"}}, \"header\": {\"fill\": {\"color\": \"#C8D4E3\"}, \"line\": {\"color\": \"white\"}}, \"type\": \"table\"}]}, \"layout\": {\"annotationdefaults\": {\"arrowcolor\": \"#2a3f5f\", \"arrowhead\": 0, \"arrowwidth\": 1}, \"coloraxis\": {\"colorbar\": {\"outlinewidth\": 0, \"ticks\": \"\"}}, \"colorscale\": {\"diverging\": [[0, \"#8e0152\"], [0.1, \"#c51b7d\"], [0.2, \"#de77ae\"], [0.3, \"#f1b6da\"], [0.4, \"#fde0ef\"], [0.5, \"#f7f7f7\"], [0.6, \"#e6f5d0\"], [0.7, \"#b8e186\"], [0.8, \"#7fbc41\"], [0.9, \"#4d9221\"], [1, \"#276419\"]], \"sequential\": [[0.0, \"#0d0887\"], [0.1111111111111111, \"#46039f\"], [0.2222222222222222, \"#7201a8\"], [0.3333333333333333, \"#9c179e\"], [0.4444444444444444, \"#bd3786\"], [0.5555555555555556, \"#d8576b\"], [0.6666666666666666, \"#ed7953\"], [0.7777777777777778, \"#fb9f3a\"], [0.8888888888888888, \"#fdca26\"], [1.0, \"#f0f921\"]], \"sequentialminus\": [[0.0, \"#0d0887\"], [0.1111111111111111, \"#46039f\"], [0.2222222222222222, \"#7201a8\"], [0.3333333333333333, \"#9c179e\"], [0.4444444444444444, \"#bd3786\"], [0.5555555555555556, \"#d8576b\"], [0.6666666666666666, \"#ed7953\"], [0.7777777777777778, \"#fb9f3a\"], [0.8888888888888888, \"#fdca26\"], [1.0, \"#f0f921\"]]}, \"colorway\": [\"#636efa\", \"#EF553B\", \"#00cc96\", \"#ab63fa\", \"#FFA15A\", \"#19d3f3\", \"#FF6692\", \"#B6E880\", \"#FF97FF\", \"#FECB52\"], \"font\": {\"color\": \"#2a3f5f\"}, \"geo\": {\"bgcolor\": \"white\", \"lakecolor\": \"white\", \"landcolor\": \"#E5ECF6\", \"showlakes\": true, \"showland\": true, \"subunitcolor\": \"white\"}, \"hoverlabel\": {\"align\": \"left\"}, \"hovermode\": \"closest\", \"mapbox\": {\"style\": \"light\"}, \"paper_bgcolor\": \"white\", \"plot_bgcolor\": \"#E5ECF6\", \"polar\": {\"angularaxis\": {\"gridcolor\": \"white\", \"linecolor\": \"white\", \"ticks\": \"\"}, \"bgcolor\": \"#E5ECF6\", \"radialaxis\": {\"gridcolor\": \"white\", \"linecolor\": \"white\", \"ticks\": \"\"}}, \"scene\": {\"xaxis\": {\"backgroundcolor\": \"#E5ECF6\", \"gridcolor\": \"white\", \"gridwidth\": 2, \"linecolor\": \"white\", \"showbackground\": true, \"ticks\": \"\", \"zerolinecolor\": \"white\"}, \"yaxis\": {\"backgroundcolor\": \"#E5ECF6\", \"gridcolor\": \"white\", \"gridwidth\": 2, \"linecolor\": \"white\", \"showbackground\": true, \"ticks\": \"\", \"zerolinecolor\": \"white\"}, \"zaxis\": {\"backgroundcolor\": \"#E5ECF6\", \"gridcolor\": \"white\", \"gridwidth\": 2, \"linecolor\": \"white\", \"showbackground\": true, \"ticks\": \"\", \"zerolinecolor\": \"white\"}}, \"shapedefaults\": {\"line\": {\"color\": \"#2a3f5f\"}}, \"ternary\": {\"aaxis\": {\"gridcolor\": \"white\", \"linecolor\": \"white\", \"ticks\": \"\"}, \"baxis\": {\"gridcolor\": \"white\", \"linecolor\": \"white\", \"ticks\": \"\"}, \"bgcolor\": \"#E5ECF6\", \"caxis\": {\"gridcolor\": \"white\", \"linecolor\": \"white\", \"ticks\": \"\"}}, \"title\": {\"x\": 0.05}, \"xaxis\": {\"automargin\": true, \"gridcolor\": \"white\", \"linecolor\": \"white\", \"ticks\": \"\", \"title\": {\"standoff\": 15}, \"zerolinecolor\": \"white\", \"zerolinewidth\": 2}, \"yaxis\": {\"automargin\": true, \"gridcolor\": \"white\", \"linecolor\": \"white\", \"ticks\": \"\", \"title\": {\"standoff\": 15}, \"zerolinecolor\": \"white\", \"zerolinewidth\": 2}}}, \"title\": {\"text\": \"Figure 8. Confirmed: Negative Premium on MS in Data Science\"}, \"width\": 900, \"xaxis\": {\"title\": {\"text\": \"Years Coding Experience\"}}, \"yaxis\": {\"title\": {\"text\": \"Annual Compensation ($USD)\"}}},                        {\"responsive\": true}                    ).then(function(){\n",
       "                            \n",
       "var gd = document.getElementById('a46a78be-d2cc-45a7-97ef-a864cb0e83fc');\n",
       "var x = new MutationObserver(function (mutations, observer) {{\n",
       "        var display = window.getComputedStyle(gd).display;\n",
       "        if (!display || display === 'none') {{\n",
       "            console.log([gd, 'removed!']);\n",
       "            Plotly.purge(gd);\n",
       "            observer.disconnect();\n",
       "        }}\n",
       "}});\n",
       "\n",
       "// Listen for the removal of the full notebook cells\n",
       "var notebookContainer = gd.closest('#notebook-container');\n",
       "if (notebookContainer) {{\n",
       "    x.observe(notebookContainer, {childList: true});\n",
       "}}\n",
       "\n",
       "// Listen for the clearing of the current output cell\n",
       "var outputEl = gd.closest('.output');\n",
       "if (outputEl) {{\n",
       "    x.observe(outputEl, {childList: true});\n",
       "}}\n",
       "\n",
       "                        })                };                });            </script>        </div>"
      ]
     },
     "metadata": {},
     "output_type": "display_data"
    }
   ],
   "source": [
    "# (viz: confirmed: negative premium on MS in data science)\n",
    "\n",
    "# show/hide functionality from https://stackoverflow.com/questions/31517194/how-to-hide-one-specific-cell-input-or-output-in-ipython-notebook\n",
    "tag = HTML('''<script>\n",
    "code_show=true; \n",
    "function code_toggle() {\n",
    "    if (code_show){\n",
    "        $('div.cell.code_cell.rendered.selected div.input').hide();\n",
    "    } else {\n",
    "        $('div.cell.code_cell.rendered.selected div.input').show();\n",
    "    }\n",
    "    code_show = !code_show\n",
    "} \n",
    "$( document ).ready(code_toggle);\n",
    "</script>\n",
    "<a href=\"javascript:code_toggle()\">show/hide my derivation of charts</a>''')\n",
    "display(tag)\n",
    "\n",
    "experience_list = ['< 1 years', '1-2 years', '3-5 years', '5-10 years', '10-20 years', '20+ years']\n",
    "\n",
    "Some_College_List = []\n",
    "Bachelors_List = []\n",
    "Masters_List = []\n",
    "Doctoral_List = []\n",
    "Professional_List = []\n",
    "\n",
    "def comp_by_age_calculator(x):\n",
    "    Some_College_Counter = 0\n",
    "    Bachelors_Counter = 0\n",
    "    Masters_Counter = 0\n",
    "    Doctoral_Counter = 0\n",
    "    Professional_Counter = 0\n",
    "    Some_College_Comp_Counter = 0\n",
    "    Bachelors_Comp_Counter = 0\n",
    "    Masters_Comp_Counter = 0\n",
    "    Doctoral_Comp_Counter = 0\n",
    "    Professional_Comp_Counter = 0\n",
    "    \n",
    "    for row in American_DS.itertuples():   #this is the exact same function as before, except now a test is placed on each row\n",
    "        comp = 0                           #to exclude outliers below 50k or above 300k\n",
    "        if row[56] ==x:\n",
    "            if not (row[21] in ['$0-999', '2,000-2,999', '5,000-7,499', '7,500-9,999', '10,000-14,999', '15,000-19,999', \n",
    "                                '20,000-24,999', '25,000-29,999', '30,000-39,999', '40,000-49,999', '300,000-500,000', '> $500,000']):\n",
    "                if not isinstance(row[21], float):\n",
    "                    y=row[21].split(\"-\")\n",
    "                    if len(y) == 2:\n",
    "                        if y[0][0] == '$':\n",
    "                            y[0] = y[0][1]\n",
    "                        comp = ((int(y[0].replace(\",\",\"\")) + int(y[1].replace(\",\",\"\"))) / 2)\n",
    "                    if len(y) == 1:\n",
    "                        y = y[0][3:].replace(\",\",\"\")\n",
    "                        comp = int(y)\n",
    "                if row[6] == 'Some college/university study without earning a bachelor’s degree':\n",
    "                    Some_College_Counter += 1\n",
    "                    Some_College_Comp_Counter += comp\n",
    "                elif row[6] == 'Bachelor’s degree':\n",
    "                    Bachelors_Counter += 1\n",
    "                    Bachelors_Comp_Counter += comp\n",
    "                elif row[6] == 'Master’s degree':\n",
    "                    Masters_Counter += 1\n",
    "                    Masters_Comp_Counter += comp\n",
    "                elif row[6] == 'Doctoral degree':\n",
    "                    Doctoral_Counter += 1\n",
    "                    Doctoral_Comp_Counter += comp\n",
    "                elif row[6] == 'Professional degree':\n",
    "                    Professional_Counter += 1\n",
    "                    Professional_Comp_Counter += comp\n",
    "    if Some_College_Counter != 0:\n",
    "        Some_College_List.append(Some_College_Comp_Counter / Some_College_Counter)\n",
    "    else:\n",
    "        Some_College_List.append(None)\n",
    "    if Bachelors_Counter != 0:\n",
    "        Bachelors_List.append(Bachelors_Comp_Counter / Bachelors_Counter)\n",
    "    else:\n",
    "        Bachelors_List.append(None)    \n",
    "    if Masters_Counter != 0:\n",
    "        Masters_List.append(Masters_Comp_Counter / Masters_Counter)\n",
    "    else:\n",
    "        Masters_List.append(None)\n",
    "    if Doctoral_Counter != 0:\n",
    "        Doctoral_List.append(Doctoral_Comp_Counter / Doctoral_Counter)\n",
    "    else:\n",
    "        Doctoral_List.append(None)\n",
    "    if Professional_Counter != 0:\n",
    "        Professional_List.append(Professional_Comp_Counter / Professional_Counter)\n",
    "    else:\n",
    "        Professional_List.append(None)\n",
    "    return None\n",
    "\n",
    "comp_by_educ_by_age = list(map(comp_by_age_calculator, experience_list))\n",
    "\n",
    "###this section commented out was for calculating the premiums discussed in the section below.\n",
    "#x = 0\n",
    "#for i in range(5):\n",
    "    #x += (Bachelors_List[i] - Doctoral_List[i])\n",
    "#print(x / 5)\n",
    "\n",
    "#y = 0\n",
    "#for i in range(1,5):\n",
    "    #y += (Bachelors_List[i] - Masters_List[i])\n",
    "#print(y / 4)\n",
    "\n",
    "#z = 0\n",
    "#for i in range(1,5):\n",
    "    #z += (Bachelors_List[i] - Professional_List[i])\n",
    "#print(z / 4)\n",
    "#############\n",
    "\n",
    "fig = go.Figure()\n",
    "fig.add_trace(go.Scatter(\n",
    "    x=experience_list,\n",
    "    y=Bachelors_List,\n",
    "    name=\"Bachelor's degree\",\n",
    "    mode='lines',\n",
    "    line=dict(color='#6EE9FF', width=3, dash='dot')\n",
    "))\n",
    "fig.add_trace(go.Scatter(\n",
    "    x=experience_list,\n",
    "    y=Masters_List,\n",
    "    name=\"Master's degree\",\n",
    "    mode='lines',\n",
    "    line=dict(color='#0BDAFF', width=3, dash='dash')\n",
    "))\n",
    "fig.add_trace(go.Scatter(\n",
    "    x=experience_list,\n",
    "    y=Doctoral_List,\n",
    "    name=\"Doctoral Degree\",\n",
    "    mode='lines',\n",
    "    line=dict(color='#00C0E1', width=3, dash='dashdot')\n",
    "))\n",
    "fig.add_trace(go.Scatter(\n",
    "    x=experience_list,\n",
    "    y=Professional_List,\n",
    "    name=\"Professional Degree\",\n",
    "    mode='lines',\n",
    "    line=dict(color='#C12173', width=3)\n",
    "))\n",
    "\n",
    "fig.update_layout(title='Figure 8. Confirmed: Negative Premium on MS in Data Science',\n",
    "                 yaxis=dict(title='Annual Compensation ($USD)'),\n",
    "                 xaxis=dict(title='Years Coding Experience'),\n",
    "                 height=450,\n",
    "                 width=900,\n",
    "                 legend=dict(orientation='h', x=0.5, y=0.2),\n",
    "                 plot_bgcolor='#fff')"
   ]
  },
  {
   "cell_type": "markdown",
   "metadata": {},
   "source": [
    "[//]: # (body discussing the premiums on advanced degrees after excluding outliers)\n",
    "\n",
    "<p>\n",
    "    &emsp;&emsp;&emsp;Re-examining the premium on the Doctoral degree over the Bachelor's degree first, we see that <b>the large difference in compensation in the 1-2 years category persists</b> when excluding outliers, confirming that <b>in the initial transition into data science a Doctoral degree will allow access to higher-paying opportunities than a Bachelor's degree. Compensation is otherwise equal for the rest of data scientists' careers, however,</b> when we realize from Figure 7 that the data for Bachelor's with less than 1 year or 20+ years has an average of 2 observations after excluding outliers, and so ought not be used to draw firm conclusions. Thus, if one already has more than a few years coding experience, going back to school for a Doctoral Degree will not earn one more money as a data scientist.\n",
    "</p>\n",
    "    \n",
    "<p>\n",
    "    &emsp;&emsp;&emsp;Next, re-examining the premium on the Professional degree over the Bachelor's degree, we see that the premium holds even when excluding very high or very low earners. Now, it also holds between 1 and 20 years of experience where previously it only held in the first 5; Data scientists with <b>Professional degrees earn on average $38,700 more than their counterparts with Bachelor's degrees and the same amount of experience.</b> I still expect that those with professional degrees are those coming <i>from</i> another discipline into data science, but perhaps one could conclude a strategy for earning even greater compensation would be to complement a Master's or Bachelor's degree in data science with a professional degree or certificate in another field. It seems reasonable to believe that the highest paying jobs would be those that require the skillsets from multiple advanced disciplines, and so perhaps bringing a data science approach to other advanced fields yields particularly high compensation. It's worth noting again, however, that after excluding outliers there's now only 7 observations that populate the average compensation of Professional degree holders above, and so conclusions based on these data might not hold if we had more data.\n",
    "</p>\n",
    "\n",
    "<p>\n",
    "    &emsp;&emsp;&emsp;Finally, re-examining the negative compensation premium for Master's degrees over Bachelor's, we see that the relationship seen in Figure 6 persists when we exclude those that are either likely not working full time or draw their income as something other than a staff data scientist. Noting from Figure 7 that there's an average of 2 observations for Bachelor's holders with either less than 1 or 20+ years of experience, we can exclude those categories and find that <b><font size=4>data scientists with Bachelor's degrees earn on average $2,900 more compensation per year than those with Master's degrees.</b></font> Again, it's hard to say why exactly this might be the case. Perhaps those with Bachelor's degrees are more likely to transition into managerial roles, or conversely, less likely to be railroaded into pure development roles. Perhaps those with Bachelor's degrees are more likely to be hired from within, and so they're able to negotiate slightly better salaries.\n",
    "</p>\n",
    "\n",
    "<p>\n",
    "    &emsp;&emsp;&emsp;Whatever the cause of this discrepancy in compensation may be, it's important to note that one should not conclude that an MS in data science is <i>never</i> worth it based on this finding alone, because this finding says nothing about the ability to become a data scientist with each type of degree. This finding only looks at individuals that have already become data scientists; it could very well be the case that it's much harder to become a data scientist with a Bachelor's degree than it is with an advanced degree. This is where the way the author framed his analysis led to the wrong conclusion. \n",
    "</p>"
   ]
  },
  {
   "cell_type": "markdown",
   "metadata": {},
   "source": [
    "[//]: # (Where the author was wrong: to become a competitive data scientist, one should have an advanced degree)\n",
    "\n",
    "<div id=\"10\"></div>\n",
    "<font color='#088a5a' size=6>3. Where the Author was Wrong: to Become a Competitive Data Scientist, one should have an Advanced Degree</font><br>"
   ]
  },
  {
   "cell_type": "markdown",
   "metadata": {},
   "source": [
    "[//]: # (intro to where the author was wrong; we can't assume historic distribution of in-school data science ed. moving forward)\n",
    "\n",
    "<p>\n",
    "    &emsp;&emsp;&emsp;<b>Recall the author's first conclusion: because most current data scientists didn't learn data science in school, individuals should not assume advanced study of data science in school would help get into data science moving forward.</b>\n",
    "</p>\n",
    "\n",
    "<br>\n",
    "\n",
    "<div id=\"11\"></div>\n",
    "<font color='#088a5a' size=4><b>We can't assume the historic distribution of in-school data science education moving forward</b></font>\n",
    "\n",
    "<br>\n",
    "\n",
    "<p>\n",
    "    &emsp;&emsp;&emsp;The first inappropriate assumption here is that one can take conclusions drawn from the prevalence of in-school data science education of <b>current</b> data scientists, and apply those conclusions to <b>future</b> data scientists. This is inappropriate because it overlooks the fact that data science education was likely inaccessible for the majority of current data scientists when they were in school, but that won't be the case for prospective data scientists moving forward. Consider the fact that data science is a very young discipline, and wasn't taught in university settings before roughly 2015. This means that data scientists that graduated from their terminal degree more than roughly 5 years ago would not have been able to learn data science in school. They likely learned advanced mathematics, statistics, or programming, but not what they would call data science. Drawing the conclusion that these data scientists didn't learn data science in school because there were cheaper, more accessible ways to learn it at the time, then, is unsupported. Looking at Figures 9a and 9b, we can see how access to data science is affected by age.\n",
    "</p>\n"
   ]
  },
  {
   "cell_type": "code",
   "execution_count": 20,
   "metadata": {},
   "outputs": [
    {
     "data": {
      "text/html": [
       "<script>\n",
       "code_show=true; \n",
       "function code_toggle() {\n",
       "    if (code_show){\n",
       "        $('div.cell.code_cell.rendered.selected div.input').hide();\n",
       "    } else {\n",
       "        $('div.cell.code_cell.rendered.selected div.input').show();\n",
       "    }\n",
       "    code_show = !code_show\n",
       "} \n",
       "$( document ).ready(code_toggle);\n",
       "</script>\n",
       "<a href=\"javascript:code_toggle()\">show/hide my derivation of charts</a>"
      ],
      "text/plain": [
       "<IPython.core.display.HTML object>"
      ]
     },
     "metadata": {},
     "output_type": "display_data"
    },
    {
     "data": {
      "image/png": "[encoded data removed]",
      "text/plain": [
       "<Figure size 1152x288 with 2 Axes>"
      ]
     },
     "metadata": {
      "needs_background": "light"
     },
     "output_type": "display_data"
    }
   ],
   "source": [
    "# (viz: source of data science education by age)\n",
    "\n",
    "# show/hide functionality from https://stackoverflow.com/questions/31517194/how-to-hide-one-specific-cell-input-or-output-in-ipython-notebook\n",
    "tag = HTML('''<script>\n",
    "code_show=true; \n",
    "function code_toggle() {\n",
    "    if (code_show){\n",
    "        $('div.cell.code_cell.rendered.selected div.input').hide();\n",
    "    } else {\n",
    "        $('div.cell.code_cell.rendered.selected div.input').show();\n",
    "    }\n",
    "    code_show = !code_show\n",
    "} \n",
    "$( document ).ready(code_toggle);\n",
    "</script>\n",
    "<a href=\"javascript:code_toggle()\">show/hide my derivation of charts</a>''')\n",
    "display(tag)\n",
    "\n",
    "American_DS_inSchool = American_DS[American_DS['Q13_Part_10'] == key1]\n",
    "American_DS_outSchool = American_DS[American_DS['Q13_Part_10'] != key1]\n",
    "\n",
    "ages=[]\n",
    "\n",
    "def avg_age(x):                                      #the same accumulation approach is taken to iterate through each df for \n",
    "    age_counter = 0                                  # in vs. out of school learning, returning the average age for each type\n",
    "    counter = 0\n",
    "    for row in x.itertuples():\n",
    "        y = row[2].split(\"-\")\n",
    "        if len(y) == 2:\n",
    "            age = ((int(y[0]) + int(y[1])) / 2)\n",
    "            ages.append(age)\n",
    "            age_counter += age\n",
    "            counter += 1\n",
    "        if len(y) == 1:\n",
    "            age = int(y[0][:2])\n",
    "            ages.append(age)\n",
    "            age_counter += age\n",
    "            counter += 1\n",
    "    return (age_counter / counter)\n",
    "#note that in my calculation of avg. age, I assume those in the 70+ category are exactly 70 years old since I have no other information on them\n",
    "\n",
    "index = ['Studied DS in school', 'Studied DS outside school']\n",
    "avg_age = pd.Series([avg_age(American_DS_inSchool), avg_age(American_DS_outSchool)], index=index)\n",
    "\n",
    "\n",
    "plt.figure(figsize=(16,4))\n",
    "ax1 = plt.subplot(1,2,1)\n",
    "avg_age.plot(kind='bar', color = [col_yes, col_no], ylim=(0,50))\n",
    "ax1.set_xticklabels(index, rotation = -45, ha=\"left\")\n",
    "plt.box(on=None)\n",
    "plt.title(\"9a. Avg. Age of Data Scientists Studying in/out of School\", fontsize=17)\n",
    "ax1.set_ylabel(\"Age\", fontsize=15)\n",
    "\n",
    "for index, value in enumerate(avg_age):\n",
    "    ax1.text(index-.1, value+.2, '{0:.3g}'.format(value) + ' years', fontsize=13)  \n",
    "\n",
    "def calc_share_DS_in_school(x):             #To populate figure 9b, an accumulator for each age range iterates through the df.\n",
    "    age_counter = 0                         #Here, the total # of rows and the # rows of in-school learners are both collected\n",
    "    DS_in_school_counter = 0                #and their ratio is returned for each age category\n",
    "    for row in American_DS.itertuples():\n",
    "        if row[2] == x:\n",
    "            age_counter += 1\n",
    "            if row[45] == 'University Courses (resulting in a university degree)':\n",
    "                DS_in_school_counter += 1\n",
    "    #note that below I comment out a print statement printing the values that inform figure 6b for my review.\n",
    "    #print(x + \": \" + str(age_counter) + \" observations, \" + str(DS_in_school_counter) + \" in school\")\n",
    "    return (DS_in_school_counter / age_counter)\n",
    "    \n",
    "    \n",
    "index2 = ['22-24', '25-29', '30-34', '35-39', '40-44', '45-49', '50-54', '55-59', '60-69', '70+']\n",
    "DS_in_school_by_age = pd.Series(list(map(calc_share_DS_in_school, index2)))\n",
    "\n",
    "American_DS['age'] = ages\n",
    "\n",
    "ax2 = plt.subplot(1,2,2)\n",
    "DS_in_school_by_age.plot(kind='bar', color=['#E76F51'], ylim=(0,.6))\n",
    "ax2.set_xticklabels(index2, rotation = -45, ha=\"left\")\n",
    "ax2.set_yticklabels(['0%', '10%', '20%', '30%', '40%', '50%', '60%'])#note that the units are overridden manually as percentages\n",
    "ax2.set_xlabel(\"Age\", fontsize=15)\n",
    "ax2.set_ylabel(\"Share Learning in School\", fontsize=15)\n",
    "plt.box(on=None)\n",
    "plt.title(\"9b. Share of in-school Learners by Age\", fontsize=17);"
   ]
  },
  {
   "cell_type": "markdown",
   "metadata": {},
   "source": [
    "[//]: # (body discussing figures on age of in/out of school)\n",
    "\n",
    "<p>\n",
    "    &emsp;&emsp;&emsp;There's a nearly 4-year age difference between those that studied data science in school versus outside school, which is nearly the entire time data science has been offered in a university setting. Further, consider how <b>the share of learners studying data science in school rises among younger cohorts, even exceeding 50% among the youngest data scientists</b> as seen in Figure 9b. Based on the overall trend exhibited in Figure 9b we can infer that as more and more graduates age into the data scientist work-force this share will continue to steadily increase, meaning that we can expect the majority of new entrants to the data science labor pool to have studied in school moving forward. <b><font size=4>If individuals want to be competitive when just transitioning into the labor pool now, then, they'll want to be in the majority learning data science in school.</b></font>\n",
    "</p>"
   ]
  },
  {
   "cell_type": "markdown",
   "metadata": {},
   "source": [
    "[//]: # (Actual educational attainment of data scientists)\n",
    "\n",
    "<div id=\"12\"></div>\n",
    "<font color='#088a5a' size=4><b>The Actual Educational Attainment of Data Scientists</b></font>"
   ]
  },
  {
   "cell_type": "markdown",
   "metadata": {},
   "source": [
    "[//]: # (body discussing the actual educational attainment of data scientists)\n",
    "\n",
    "<p>\n",
    "    &emsp;&emsp;&emsp;The second inappropriate assumption in the author's conclusion above is that because most current data scientists didn't get an advanced degree in data science, they don't have an advanced degree. Now this may be putting words in the author's mouth, but I would argue this assumption is made because the author concludes that advanced degrees in general may or may not be worth it if one wants to transition into data science. This assumption is obviously false, and whether or not the author is making this assumption, he's omitting the fact that the overwhelming majority of data scientists do have advanced degrees. <b><font size=4>Of the 782 American data scientists</b></font> in the 2019 Kaggle Survey, <b><font size=4>11 did not complete at least a bachelor's degree,</b></font> and <b><font size=4>81% had advanced degrees,</b></font> as seen in Figures 10a and 10b.\n",
    "</p>"
   ]
  },
  {
   "cell_type": "code",
   "execution_count": 21,
   "metadata": {},
   "outputs": [
    {
     "data": {
      "text/html": [
       "<script>\n",
       "code_show=true; \n",
       "function code_toggle() {\n",
       "    if (code_show){\n",
       "        $('div.cell.code_cell.rendered.selected div.input').hide();\n",
       "    } else {\n",
       "        $('div.cell.code_cell.rendered.selected div.input').show();\n",
       "    }\n",
       "    code_show = !code_show\n",
       "} \n",
       "$( document ).ready(code_toggle);\n",
       "</script>\n",
       "<a href=\"javascript:code_toggle()\">show/hide my derivation of charts</a>"
      ],
      "text/plain": [
       "<IPython.core.display.HTML object>"
      ]
     },
     "metadata": {},
     "output_type": "display_data"
    },
    {
     "data": {
      "image/png": "[encoded data removed]",
      "text/plain": [
       "<Figure size 1152x288 with 2 Axes>"
      ]
     },
     "metadata": {
      "needs_background": "light"
     },
     "output_type": "display_data"
    }
   ],
   "source": [
    "# (viz: educational attainment of data scientists)\n",
    "\n",
    "# show/hide functionality from https://stackoverflow.com/questions/31517194/how-to-hide-one-specific-cell-input-or-output-in-ipython-notebook\n",
    "tag = HTML('''<script>\n",
    "code_show=true; \n",
    "function code_toggle() {\n",
    "    if (code_show){\n",
    "        $('div.cell.code_cell.rendered.selected div.input').hide();\n",
    "    } else {\n",
    "        $('div.cell.code_cell.rendered.selected div.input').show();\n",
    "    }\n",
    "    code_show = !code_show\n",
    "} \n",
    "$( document ).ready(code_toggle);\n",
    "</script>\n",
    "<a href=\"javascript:code_toggle()\">show/hide my derivation of charts</a>''')\n",
    "display(tag)\n",
    "\n",
    "degrees = American_DS['Q4'].value_counts()[:3]                           #in this row the data for the first three categories are ordered automatically\n",
    "otherdegrees = pd.Series([sum(American_DS['Q4'].value_counts()[3:])])    #the other two categories are summed due to their size\n",
    "degrees=degrees.append(otherdegrees)                                     #then appended to the first list generated\n",
    "\n",
    "#This line is used to see the number of respondents not completing at least a bachelor's degree. Note that this number reflects less than the 3% 'other' category in the figure because that also includes those with professional degrees or those that chose not to answer\n",
    "#print(American_DS['Q4'].value_counts()[3:])\n",
    "\n",
    "index = [\"Master's degree\", \"Doctoral degree\", \"Bachelor's degree\", \"Other\"]\n",
    "colors = ['#0BDAFF', '#00C0E1', '#6EE9FF', '#FC5EAF']\n",
    "\n",
    "degrees.index = index\n",
    "\n",
    "plt.figure(figsize=(16,4))\n",
    "ax1 = plt.subplot(1,2,1)\n",
    "degrees.plot(kind='bar', color=colors)\n",
    "ax1.set_xticklabels(index, rotation=-45, ha=\"left\")\n",
    "plt.box(on=None)\n",
    "plt.title(\"10a. Degrees held by American Data Scientists\", size=17)\n",
    "plt.ylabel(\"# respondents\", size=15)\n",
    "\n",
    "\n",
    "ax2 = plt.subplot(1,2,2)\n",
    "plt.pie(degrees,\n",
    "       labels=index,\n",
    "       autopct=\"%1.0f%%\",\n",
    "       colors=colors,\n",
    "       wedgeprops={\"linewidth\":3,\"edgecolor\":\"white\"})\n",
    "plt.title(\"10b. Share of Respondents\", size=17);"
   ]
  },
  {
   "cell_type": "markdown",
   "metadata": {},
   "source": [
    "[//]: # (body discussing figures 10a and 10b)\n",
    "\n",
    "<p>\n",
    "    &emsp;&emsp;&emsp;This is comparable to <a href=\"https://www.burtchworks.com/2015/03/02/4-ways-to-spot-a-fake-data-scientist/\">similar studies</a> that found that 88% of data scientists have advanced degrees. So one may or may not be able to obtain the same quality of education and experience from the cheaper, more accessible online learning platforms as they could from a full university setting, but the fact is that <b><font size=4>if one doesn't have some sort of advanced degree, they're at best in the bottom 20% of applicants in terms of credentials.</b></font> Further, if we're talking about those that are looking to transition into data science from another discipline, those individuals likely don't have the necessary experience that would justify hiring them over somebody with a masters.\n",
    "</p>"
   ]
  },
  {
   "cell_type": "markdown",
   "metadata": {},
   "source": [
    "[//]: # (Educational Credentials as a means of screening candidates, with exceptions)\n",
    "\n",
    "<div id=\"13\"></div>\n",
    "<font color='#088a5a' size=4><b>Educational Credentials as a Means of Screening Candidates, with Exceptions</b></font>"
   ]
  },
  {
   "cell_type": "markdown",
   "metadata": {},
   "source": [
    "[//]: # (body discussing 'Educational Credentials as a means of screening candidates, with exceptions')\n",
    "\n",
    "<p>\n",
    "    &emsp;&emsp;&emsp;The simple fact of the matter is that while it leads to otherwise qualified and competent individuals being excluded, <b><font size=4>educational credentials are one of the first indicators employers use to narrow down a pool of applicants</b></font> to a more reasonable level. There is a whole school of thought in education economics called 'screening theory' that seeks to explain this, and it's composed of some of the brightest economists in recent history (including J. Stiglitz, K. Arrow, D. Acemoglu and others). Their theory is that employers viewing an external candidate's application have no way of knowing the candidate' true competence, work-ethic, or ability without dedicating resources to giving them a phone screening, technical interview, or in-person interview. Given the fact that there's costs associated with these screening measures, employers seek ways to minimize the number of applicants that are extended these resources, assuming their screening approach leaves an adequate number of remaining candidates that have a higher likelihood of being successful. This is why at least <a href=\"https://www.burning-glass.com/wp-content/uploads/The_Quant_Crunch.pdf\"><b><font size=4>39% of data scientist postings require advanced degrees.</b></font></a> And if you perform a quick review of the distribution of educational attainment amongst the applicants to data science positions on LinkedIn using LinkedIn Premium, you'll usually find that about 80-90% of candidates have at least a Master's degree. So while there may be cheaper, quicker ways to gain the education and experience necessary to work as a data scientist, having that advanced degree will provide individuals access to the other 39% of all data science postings and help get past the first phase of the hiring process.\n",
    "</p>\n",
    "\n",
    "<p>\n",
    "    &emsp;&emsp;&emsp;It is worth noting however that this justification for obtaining an MS in data science does allow for some exceptions, most notably, those that already have another advanced degree. Given the author's finding that only 27% of current data scientists in the US learned data science in school, it stands to reason that the large majority of advanced degree holders applying to data science jobs do not necessarily have a degree in data science. That being said, <b><font size=4>if an individual has an advanced degree in a related field and can otherwise demonstrate their ability as a data scientist, an MS in data science may not be worth it.</b></font> Further, note that that screening argument focused on the difficulty associated with discerning <i>external candidates'</i> true ability. This does not hold true for internal candidates, whose ability is already well known by the employer. <a href=\"https://repository.library.northeastern.edu/files/neu:336448/fulltext.pdf\">Studies</a> have found that \"while educational credentials (are) key 'to getting in the door' at an organization, <i>promotions</i> (tend) to be based on directly observable performance.\" Thus, <b><font size=4>if a quality employee of an organization that hires data scientists can demonstrate their ability as a data scientist, they're a much more attractive candidate than those whose abilities are unknown.</b></font> For these individuals, devoting the time and money to obtaining an MS in data science may be a worse route than demonstrating their skills on the job. I suspect this describes the 11 data scientists in this survey that have only a Bachelor's degree.\n",
    "</p>"
   ]
  },
  {
   "cell_type": "markdown",
   "metadata": {},
   "source": [
    "[//]: # (Conclusions)\n",
    "\n",
    "<div id=\"14\"></div>\n",
    "<font color='#088a5a' size=6>4. Conclusions</font><br>"
   ]
  },
  {
   "cell_type": "markdown",
   "metadata": {},
   "source": [
    "[//]: # (body of conclusions)\n",
    "\n",
    "<p>\n",
    "    &emsp;&emsp;&emsp;This analysis was meant to investigate the conditions under which it would or wouldn't be worth it to spend the time and money to earn an advanced degree in data science, and to serve as the first element of my data science portfolio (acknowledging that no data <i>science</i> techniques were used, but rather, data <i>analysis</i>). The author of <a href=\"https://www.kaggle.com/shivamb/spending-for-ms-in-data-science-worth-it\">the Exploratory Data Analysis that this EDA responds to</a> concludes that \"if someone wants to earn more, then it is not necessary to have university degree,\" and \"if someone wants to work as a data scientist (fresher or career change)...then it may or may not be worth it.\" The insights presented in this notebook provide a more nuanced perspective, but at the very least, confirm that it's worth it for somebody with my circumstances.\n",
    "</p>\n",
    "\n",
    "<p>\n",
    "    &emsp;&emsp;&emsp;In <a href=\"#10\">Section 3</a> we saw that for anybody with a bachelor's degree or less formal education looking just to get their foot in the door, it's 100% worth it to pursue an MS in data science because you need one in order to be competitive with the overwhelming majority of data scientists. This isn't necessarily the case for those who already have an analytical foot in the door, though, as these individuals have the opportunity to lend support to data science projects internally and rise to the role of data science that way. It's also likely a better option to build a portfolio of data science projects through lower-cost platforms like Coursera, Udemy, Kaggle etc. for those with advanced degrees in related fields, as well, because since data science is so new, hiring managers don't yet discriminate between the kind of advanced degree so long as the skills are there.\n",
    "</p>\n",
    "\n",
    "<p>\n",
    "    &emsp;&emsp;&emsp;In <a href=\"#5\">Section 2</a> we found that while advanced degrees in data science may be a good way for individuals to get their foot in the door, they're generally not worth the time and money for existing data scientists looking to increase their earnings. Very early in a data scientist's career a Doctoral degree may provide them access to higher paying opportunities, but after their first two years, everybody else's experience will allow them to catch up. Otherwise, it may be even more impressive for an applicant already having a data scientist title to have a bachelor's degree, as data scientists with Bachelor's degrees earn roughly $2,900 per year more than their Master's degree counterparts with the same level of experience. For those individuals just seeking to increase their compensation, an MS in data science would not be worth it. Interestingly those with Professional degrees earn far and away the most money, and since there's not yet any data science equivalent of a PE degree, this serves as an example of how you can dramatically increase earnings when filling roles that require multiple advanced skillsets. This may also point to the value of professional certification programs more broadly as opposed to full-fledged degrees, such as the well respected certifications profered by <a href=\"https://education.dellemc.com/content/emc/en-us/home/certification-overview.html#vert-click14\">Dell</a>, <a href=\"https://www.coursera.org/professional-certificates/ibm-data-science\">IBM</a>, and <a href=\"https://docs.microsoft.com/en-us/learn/certifications/azure-data-scientist\">Microsoft</a>.\n",
    "</p>\n",
    "\n",
    "<p>\n",
    "    &emsp;&emsp;&emsp;Finally, for someone with a Bachelor's degree looking to work their way back into the labor market as a data scientist, I'm now that much more confident that an MS in data science will be worth it for me. I look forward to starting data science courses at Johns Hopkins or otherwise this spring, and to pursuing one of those certifications from there!\n",
    "</p>"
   ]
  },
  {
   "cell_type": "markdown",
   "metadata": {},
   "source": [
    "[//]: # (References)\n",
    "\n",
    "<div id=\"15\"></div>\n",
    "<font color='#088a5a' size=6>5. References</font><br>"
   ]
  },
  {
   "cell_type": "markdown",
   "metadata": {},
   "source": [
    "[//]: # (reference list)\n",
    "\n",
    "1. https://www.kaggle.com/shivamb/spending-for-ms-in-data-science-worth-it/\n",
    "2. https://www.udemy.com/course/python-for-data-science-and-machine-learning-bootcamp/\n",
    "3. https://www.glassdoor.com/List/Best-Jobs-in-America-LST_KQ0,20.htm\n",
    "4. https://searchbusinessanalytics.techtarget.com/feature/Demand-for-data-scientists-is-booming-and-will-increase\n",
    "5. https://www.bls.gov/careeroutlook/2015/article/should-i-get-a-masters-degree.htm\n",
    "6. https://www.burtchworks.com/2015/03/02/4-ways-to-spot-a-fake-data-scientist/\n",
    "7. https://www.burning-glass.com/wp-content/uploads/The_Quant_Crunch.pdf\n",
    "8. https://repository.library.northeastern.edu/files/neu:336448/fulltext.pdf\n",
    "9. https://education.dellemc.com/content/emc/en-us/home/certification-overview.html#vert-click14\n",
    "10. https://www.coursera.org/professional-certificates/ibm-data-science\n",
    "11. https://docs.microsoft.com/en-us/learn/certifications/azure-data-scientist"
   ]
  },
  {
   "cell_type": "code",
   "execution_count": 22,
   "metadata": {},
   "outputs": [
    {
     "data": {
      "text/html": [
       "<script src=\"https://cdn.rawgit.com/parente/4c3e6936d0d7a46fd071/raw/65b816fb9bdd3c28b4ddf3af602bfd6015486383/code_toggle.js\"></script>\n"
      ],
      "text/plain": [
       "<IPython.core.display.HTML object>"
      ]
     },
     "metadata": {},
     "output_type": "display_data"
    }
   ],
   "source": [
    "%%html\n",
    "<script src=\"https://cdn.rawgit.com/parente/4c3e6936d0d7a46fd071/raw/65b816fb9bdd3c28b4ddf3af602bfd6015486383/code_toggle.js\"></script>"
   ]
  },
  {
   "cell_type": "code",
   "execution_count": null,
   "metadata": {},
   "outputs": [],
   "source": []
  }
 ],
 "metadata": {
  "kernelspec": {
   "display_name": "Python 3",
   "language": "python",
   "name": "python3"
  },
  "language_info": {
   "codemirror_mode": {
    "name": "ipython",
    "version": 3
   },
   "file_extension": ".py",
   "mimetype": "text/x-python",
   "name": "python",
   "nbconvert_exporter": "python",
   "pygments_lexer": "ipython3",
   "version": "3.8.3"
  }
 },
 "nbformat": 4,
 "nbformat_minor": 4
}
